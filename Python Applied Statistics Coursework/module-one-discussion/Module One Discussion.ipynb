{
 "cells": [
  {
   "cell_type": "markdown",
   "metadata": {},
   "source": [
    "# Module One Discussion: Descriptive Statistics and Plots\n",
    "\n",
    "This notebook will take you step-by-step through the calculations required for your Module One discussion post. It is very important to run through the steps in order. Some steps depend on the outputs of earlier steps. Once you have completed the steps in this notebook, be sure to answer the questions about this activity in the discussion for this module.\n",
    "\n",
    "Reminder: If you have not already reviewed the discussion prompt, please do so before beginning this activity. That will give you an idea of the questions you will need to answer with the outputs of this script."
   ]
  },
  {
   "cell_type": "markdown",
   "metadata": {},
   "source": [
    "## Initial post (due Thursday)"
   ]
  },
  {
   "cell_type": "markdown",
   "metadata": {
    "scrolled": true
   },
   "source": [
    "### Step 1: Preparing the dataset\n",
    "This block of Python code will generate the sample data in a Python dataframe that will be used in the calculations later. Your task is to use a website to collect the daily maximum temperature data for your city or zip code for the past fourteen days. Then, input your data in the code below by filling in the Python list. After entering your data in the Python list, click the code section below and hit the **Run** button above."
   ]
  },
  {
   "cell_type": "code",
   "execution_count": 2,
   "metadata": {
    "scrolled": true
   },
   "outputs": [
    {
     "name": "stdout",
     "output_type": "stream",
     "text": [
      "survived           0\n",
      "pclass             1\n",
      "sex           female\n",
      "age             0.42\n",
      "sibsp              0\n",
      "parch              0\n",
      "fare               0\n",
      "class          First\n",
      "who            child\n",
      "adult_male     False\n",
      "alive             no\n",
      "alone          False\n",
      "dtype: object\n",
      "    temperature\n",
      "0            97\n",
      "1            97\n",
      "2            93\n",
      "3            95\n",
      "4            99\n",
      "5            93\n",
      "6            97\n",
      "7            99\n",
      "8            99\n",
      "9            97\n",
      "10           95\n",
      "11           99\n",
      "12           99\n",
      "13           97\n"
     ]
    }
   ],
   "source": [
    "# This module will be used to prepare a pandas dataframe and calculate descriptive statistics\n",
    "import pandas as pd\n",
    "\n",
    "# input your data in the Python list below. \n",
    "# For example, if your temperature data is:  81, 79, 80, 85, 83, 85, 87, 84, 84, 88, 85, 87\n",
    "# then the step below should be set as:   temperatures = [81, 79, 80, 85, 83, 85, 87, 84, 84, 88, 85, 87]\n",
    "temperatures = [97, 97, 93, 95, 99, 93, 97, 99, 99, 97, 95, 99, 99, 97]\n",
    "\n",
    "# prepare a dataframe for temperatures.\n",
    "temperatures_df = pd.DataFrame(temperatures, columns=['temperature'])\n",
    "\n",
    "# print temperatures dataframe\n",
    "print(temperatures_df)"
   ]
  },
  {
   "cell_type": "markdown",
   "metadata": {},
   "source": [
    " "
   ]
  },
  {
   "cell_type": "markdown",
   "metadata": {},
   "source": [
    "### Step 2: Calculating descriptive statistics\n",
    "The block of code below will calculate descriptive statistics for the data set you entered. The pandas dataframe has several methods that calculate descriptive statistics. Each method has a comment telling you what that method calculates.\n",
    "\n",
    "Click the code section below and hit the **Run** button above."
   ]
  },
  {
   "cell_type": "code",
   "execution_count": 2,
   "metadata": {},
   "outputs": [
    {
     "name": "stdout",
     "output_type": "stream",
     "text": [
      "Mean= 96.86\n",
      "Median= 97.0\n",
      "Variance= 4.59\n",
      "Standard Deviation= 2.14\n",
      "\n",
      "Describe method\n",
      "count    14.000000\n",
      "mean     96.857143\n",
      "std       2.143223\n",
      "min      93.000000\n",
      "25%      95.500000\n",
      "50%      97.000000\n",
      "75%      99.000000\n",
      "max      99.000000\n",
      "Name: temperature, dtype: float64\n"
     ]
    }
   ],
   "source": [
    "# Pandas dataframe has several methods that calculate descriptive statistics. \n",
    "\n",
    "# mean\n",
    "mean = temperatures_df['temperature'].mean()\n",
    "print(\"Mean=\", round(mean,2))\n",
    "\n",
    "# median\n",
    "median = temperatures_df['temperature'].median()\n",
    "print(\"Median=\", round(median,2))\n",
    "\n",
    "# variance\n",
    "variance = temperatures_df['temperature'].var()\n",
    "print(\"Variance=\", round(variance,2))\n",
    "\n",
    "# standard deviation\n",
    "stdeviation = temperatures_df['temperature'].std()\n",
    "print(\"Standard Deviation=\", round(stdeviation,2))\n",
    "\n",
    "# describe - a useful function that calculates several different descriptive statistics\n",
    "statistics = temperatures_df['temperature'].describe()\n",
    "print(\"\")\n",
    "print (\"Describe method\")\n",
    "print (statistics)\n",
    "\n",
    "Exam1 = 90"
   ]
  },
  {
   "cell_type": "markdown",
   "metadata": {},
   "source": [
    " "
   ]
  },
  {
   "cell_type": "markdown",
   "metadata": {},
   "source": [
    "### Step 3: Line graph to display trend\n",
    "The block of code below will create a line plot of temperature data. You will use the matplotlib.pyplot submodule to create the line chart. \n",
    "\n",
    "Click the code section below and hit the **Run** button above.  \n",
    "NOTE: If the graph is not created, click the code section and hit the **Run** button again."
   ]
  },
  {
   "cell_type": "code",
   "execution_count": 4,
   "metadata": {},
   "outputs": [
    {
     "data": {
      "image/png": "[encoded data removed]",
      "text/plain": [
       "<Figure size 432x288 with 1 Axes>"
      ]
     },
     "metadata": {
      "needs_background": "light"
     },
     "output_type": "display_data"
    }
   ],
   "source": [
    "import matplotlib.pyplot as plt\n",
    "\n",
    "# line chart\n",
    "plt.plot(temperatures_df['temperature']) # plot\n",
    "\n",
    "# setting a title for the plot, x-axis and y-axis\n",
    "plt.title('Line plot of temperature data', fontsize=20) \n",
    "plt.xlabel('day')\n",
    "plt.ylabel('temperature')\n",
    "\n",
    "# show the plot\n",
    "plt.show()"
   ]
  },
  {
   "cell_type": "markdown",
   "metadata": {},
   "source": [
    " "
   ]
  },
  {
   "cell_type": "markdown",
   "metadata": {},
   "source": [
    "### Step 4: Side-by-side boxplots to compare distributions\n",
    "The block of code below will create side-by-side boxplots of your temperature data and the temperature data from another location called \"Zion\". Boxplots can be used to visually compare data distributions. In this code block, you will use the seaborn module in Python to create a side-by-side boxplot. \n",
    "\n",
    "The temperature data for Zion will be generated automatically in the code section below. You are not required to know how this data was generated. Note that the temperature data for Zion will be unique to you.\n",
    "\n",
    "Click the code section below and hit the **Run** button above.  \n",
    "NOTE: If the graph is not created, click the code section and hit the **Run** button again."
   ]
  },
  {
   "cell_type": "code",
   "execution_count": 5,
   "metadata": {},
   "outputs": [
    {
     "data": {
      "image/png": "[encoded data removed]",
      "text/plain": [
       "<Figure size 432x288 with 1 Axes>"
      ]
     },
     "metadata": {
      "needs_background": "light"
     },
     "output_type": "display_data"
    }
   ],
   "source": [
    "import matplotlib.pyplot as plt\n",
    "import seaborn as sns\n",
    "import numpy as np\n",
    "import random\n",
    "\n",
    "# creates temperature data for Zion. You don't need to know how this data is created. \n",
    "# The temperature data created for Zion will be unique to you. \n",
    "mean = random.randint(temperatures_df['temperature'].min(),temperatures_df['temperature'].max())\n",
    "std_deviation = random.randint(round(temperatures_df['temperature'].std(),0),round(2*temperatures_df['temperature'].std(),0))\n",
    "zion_temperatures = np.random.normal(mean, std_deviation, 25)\n",
    "zion_temperatures = pd.DataFrame(zion_temperatures, columns=['temperature'])\n",
    "\n",
    "# side-by-side boxplots require the two dataframes to be concatenated and require a variable identifying the data\n",
    "temperatures_df['id'] = 'my_data'\n",
    "zion_temperatures['id'] = 'zion_data'\n",
    "both_temp_df = pd.concat((temperatures_df, zion_temperatures))\n",
    "\n",
    "# sets a title for the plot, x-axis, and y-axis\n",
    "plt.title('Boxplot for comparison', fontsize=20) \n",
    "\n",
    "# prepares the boxplot\n",
    "sns.boxplot(x=\"id\",y=\"temperature\",data=both_temp_df)\n",
    "\n",
    "# shows the plot\n",
    "plt.show()"
   ]
  },
  {
   "cell_type": "markdown",
   "metadata": {},
   "source": [
    "## End of initial post\n",
    "Attach the html output to your initial post in the Module One discussion. The HTML output can be downloaded by clicking **File**, then **Download as**, then **HTML**. Be sure to answer all questions about this activity in the Module One discussion."
   ]
  },
  {
   "cell_type": "markdown",
   "metadata": {},
   "source": [
    " "
   ]
  },
  {
   "cell_type": "markdown",
   "metadata": {},
   "source": [
    "## Follow-up posts (due Sunday)\n",
    "Return to the Module One discussion to answer the follow-up questions in your response posts to other students. There are no Python scripts to run for your follow-up posts."
   ]
  }
 ],
 "metadata": {
  "kernelspec": {
   "display_name": "Python 3",
   "language": "python",
   "name": "python3"
  },
  "language_info": {
   "codemirror_mode": {
    "name": "ipython",
    "version": 3
   },
   "file_extension": ".py",
   "mimetype": "text/x-python",
   "name": "python",
   "nbconvert_exporter": "python",
   "pygments_lexer": "ipython3",
   "version": "3.7.2"
  }
 },
 "nbformat": 4,
 "nbformat_minor": 2
}
