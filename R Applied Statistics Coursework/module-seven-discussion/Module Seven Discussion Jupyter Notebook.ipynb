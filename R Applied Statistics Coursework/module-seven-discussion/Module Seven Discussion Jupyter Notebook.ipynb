{
 "cells": [
  {
   "cell_type": "markdown",
   "metadata": {
    "deletable": false,
    "editable": false
   },
   "source": [
    "# Module Seven Discussion: Random Forest\n",
    "\n",
    "This notebook will take you step-by-step through the calculations required for your Module Seven discussion post. It is very important to run through the steps in order. Some steps depend on the outputs of earlier steps. Once you have completed the steps in this notebook, be sure to answer the questions in the discussion for this module."
   ]
  },
  {
   "cell_type": "markdown",
   "metadata": {
    "deletable": false,
    "editable": false
   },
   "source": [
    "## Step 1: Loading the Data Set\n",
    "You are a scientist working for NASA and you have access to a set of historical data that can be used in analyzing the diameter of asteroids and sorting them into small or large categories. This data set also has other variables that are important in estimating the size of an asteroid. You will use this data set to create models and predict the size and diameter of asteroids.\n",
    "\n",
    "This block of R code will load the **asteroid.csv** data set. Here are the variables that will be retained.\n",
    "\n",
    "| <div style=\"text-align: left\"> Variable </div>  |   <div style=\"text-align: left\"> What does it represent? </div> |\n",
    "| -- | --  |\n",
    "| <div style=\"text-align: left\"> size </div> | <div style=\"text-align: left\"> Size of the asteroid (LARGE or SMALL) </div> |\n",
    "| <div style=\"text-align: left\"> diameter </div> | <div style=\"text-align: left\"> Diameter of the asteroid </div> |\n",
    "| <div style=\"text-align: left\"> eccentricity </div> | <div style=\"text-align: left\"> Measure of orbit deviation around another object relative to a perfect circle </div> |\n",
    "| <div style=\"text-align: left\"> inclination </div> | <div style=\"text-align: left\"> Inclination with respect to x-y ecliptic plane </div> |\n",
    "| <div style=\"text-align: left\"> orb_period </div> | <div style=\"text-align: left\"> Time it takes to complete one orbit around the Sun </div> |\n",
    "| <div style=\"text-align: left\"> albedo </div> | <div style=\"text-align: left\"> Measure of reflectivity or brightness </div> |\n",
    "| <div style=\"text-align: left\"> rot_per </div> | <div style=\"text-align: left\"> Time it takes to rotate once </div> |\n",
    "\n",
    "Reference:\n",
    "Basu, V. (2019). Open asteroid dataset. [Data file and codebook]. Retrieved from https://www.kaggle.com/basu369victor/prediction-of-asteroid-diameter\n",
    "\n",
    "Click the code section below and hit the **Run** button above."
   ]
  },
  {
   "cell_type": "code",
   "execution_count": 1,
   "metadata": {
    "deletable": false,
    "editable": false,
    "scrolled": false
   },
   "outputs": [
    {
     "name": "stdout",
     "output_type": "stream",
     "text": [
      "[1] \"head\"\n"
     ]
    },
    {
     "data": {
      "text/html": [
       "<table>\n",
       "<caption>A data.frame: 6 × 7</caption>\n",
       "<thead>\n",
       "\t<tr><th scope=col>size</th><th scope=col>diameter</th><th scope=col>eccentricity</th><th scope=col>inclination</th><th scope=col>orb_period</th><th scope=col>albedo</th><th scope=col>rot_per</th></tr>\n",
       "\t<tr><th scope=col>&lt;fct&gt;</th><th scope=col>&lt;dbl&gt;</th><th scope=col>&lt;dbl&gt;</th><th scope=col>&lt;dbl&gt;</th><th scope=col>&lt;dbl&gt;</th><th scope=col>&lt;dbl&gt;</th><th scope=col>&lt;dbl&gt;</th></tr>\n",
       "</thead>\n",
       "<tbody>\n",
       "\t<tr><td>SMALL</td><td>34.274</td><td>0.08799001</td><td> 3.192670</td><td>4.868277</td><td>0.2590</td><td> 8.659</td></tr>\n",
       "\t<tr><td>SMALL</td><td>62.218</td><td>0.18058295</td><td>15.808863</td><td>4.517439</td><td>0.0570</td><td>10.460</td></tr>\n",
       "\t<tr><td>SMALL</td><td>64.849</td><td>0.14118079</td><td>12.120872</td><td>4.842587</td><td>0.1690</td><td> 5.744</td></tr>\n",
       "\t<tr><td>SMALL</td><td>38.490</td><td>0.03637043</td><td> 5.176071</td><td>3.838281</td><td>0.1700</td><td>22.346</td></tr>\n",
       "\t<tr><td>SMALL</td><td>61.390</td><td>0.13229807</td><td> 2.422958</td><td>4.358269</td><td>0.1770</td><td> 9.012</td></tr>\n",
       "\t<tr><td>LARGE</td><td>83.420</td><td>0.17332212</td><td>23.262422</td><td>4.576697</td><td>0.3052</td><td>35.864</td></tr>\n",
       "</tbody>\n",
       "</table>\n"
      ],
      "text/latex": [
       "A data.frame: 6 × 7\n",
       "\\begin{tabular}{r|lllllll}\n",
       " size & diameter & eccentricity & inclination & orb\\_period & albedo & rot\\_per\\\\\n",
       " <fct> & <dbl> & <dbl> & <dbl> & <dbl> & <dbl> & <dbl>\\\\\n",
       "\\hline\n",
       "\t SMALL & 34.274 & 0.08799001 &  3.192670 & 4.868277 & 0.2590 &  8.659\\\\\n",
       "\t SMALL & 62.218 & 0.18058295 & 15.808863 & 4.517439 & 0.0570 & 10.460\\\\\n",
       "\t SMALL & 64.849 & 0.14118079 & 12.120872 & 4.842587 & 0.1690 &  5.744\\\\\n",
       "\t SMALL & 38.490 & 0.03637043 &  5.176071 & 3.838281 & 0.1700 & 22.346\\\\\n",
       "\t SMALL & 61.390 & 0.13229807 &  2.422958 & 4.358269 & 0.1770 &  9.012\\\\\n",
       "\t LARGE & 83.420 & 0.17332212 & 23.262422 & 4.576697 & 0.3052 & 35.864\\\\\n",
       "\\end{tabular}\n"
      ],
      "text/markdown": [
       "\n",
       "A data.frame: 6 × 7\n",
       "\n",
       "| size &lt;fct&gt; | diameter &lt;dbl&gt; | eccentricity &lt;dbl&gt; | inclination &lt;dbl&gt; | orb_period &lt;dbl&gt; | albedo &lt;dbl&gt; | rot_per &lt;dbl&gt; |\n",
       "|---|---|---|---|---|---|---|\n",
       "| SMALL | 34.274 | 0.08799001 |  3.192670 | 4.868277 | 0.2590 |  8.659 |\n",
       "| SMALL | 62.218 | 0.18058295 | 15.808863 | 4.517439 | 0.0570 | 10.460 |\n",
       "| SMALL | 64.849 | 0.14118079 | 12.120872 | 4.842587 | 0.1690 |  5.744 |\n",
       "| SMALL | 38.490 | 0.03637043 |  5.176071 | 3.838281 | 0.1700 | 22.346 |\n",
       "| SMALL | 61.390 | 0.13229807 |  2.422958 | 4.358269 | 0.1770 |  9.012 |\n",
       "| LARGE | 83.420 | 0.17332212 | 23.262422 | 4.576697 | 0.3052 | 35.864 |\n",
       "\n"
      ],
      "text/plain": [
       "  size  diameter eccentricity inclination orb_period albedo rot_per\n",
       "1 SMALL 34.274   0.08799001    3.192670   4.868277   0.2590  8.659 \n",
       "2 SMALL 62.218   0.18058295   15.808863   4.517439   0.0570 10.460 \n",
       "3 SMALL 64.849   0.14118079   12.120872   4.842587   0.1690  5.744 \n",
       "4 SMALL 38.490   0.03637043    5.176071   3.838281   0.1700 22.346 \n",
       "5 SMALL 61.390   0.13229807    2.422958   4.358269   0.1770  9.012 \n",
       "6 LARGE 83.420   0.17332212   23.262422   4.576697   0.3052 35.864 "
      ]
     },
     "metadata": {},
     "output_type": "display_data"
    }
   ],
   "source": [
    "asteroid <- read.csv(file='asteroid.csv', header=TRUE, sep=\",\")\n",
    "#vars <- c('sm_axis', 'eccentricity', 'inclination', 'longitude', 'arg_perihelion', 'dist_perihelion', 'dist_aphelion', 'orb_period', 'data_arc', 'albedo', 'rot_per', 'moid', 'size','diameter')\n",
    "vars <- c('size','diameter','eccentricity', 'inclination', 'orb_period', 'albedo', 'rot_per')\n",
    "\n",
    "asteroid <- asteroid[vars]\n",
    "\n",
    "print(\"head\")\n",
    "head(asteroid, 6)"
   ]
  },
  {
   "cell_type": "markdown",
   "metadata": {},
   "source": [
    " "
   ]
  },
  {
   "cell_type": "markdown",
   "metadata": {
    "deletable": false,
    "editable": false
   },
   "source": [
    "## Step 2: Splitting Data into Training and Testing Sets\n",
    "In this step, you will split the data set into training and testing sets. The training set will be used to train the random forest model and the testing set will be used to test the utility of the model. The training and testing set split will be 80% and 20% respectively. \n",
    "<br><br>\n",
    "\n",
    "<font color='red'>**Do not change the seed value!**</font>\n",
    "\n",
    "\n",
    "Click the block of code below and hit the **Run** button above.  "
   ]
  },
  {
   "cell_type": "code",
   "execution_count": 2,
   "metadata": {
    "deletable": false,
    "editable": false,
    "scrolled": false
   },
   "outputs": [
    {
     "name": "stdout",
     "output_type": "stream",
     "text": [
      "[1] \"Number of rows for the training set\"\n"
     ]
    },
    {
     "data": {
      "text/html": [
       "366"
      ],
      "text/latex": [
       "366"
      ],
      "text/markdown": [
       "366"
      ],
      "text/plain": [
       "[1] 366"
      ]
     },
     "metadata": {},
     "output_type": "display_data"
    },
    {
     "name": "stdout",
     "output_type": "stream",
     "text": [
      "[1] \"Number of rows for the testing set\"\n"
     ]
    },
    {
     "data": {
      "text/html": [
       "92"
      ],
      "text/latex": [
       "92"
      ],
      "text/markdown": [
       "92"
      ],
      "text/plain": [
       "[1] 92"
      ]
     },
     "metadata": {},
     "output_type": "display_data"
    }
   ],
   "source": [
    "set.seed(915839)\n",
    "\n",
    "# Partition the data set into training and testing data\n",
    "samp.size = floor(0.80*nrow(asteroid))\n",
    "\n",
    "# Training set\n",
    "print(\"Number of rows for the training set\")\n",
    "train_ind = sample(seq_len(nrow(asteroid)), size = samp.size)\n",
    "train.data = asteroid[train_ind,]\n",
    "nrow(train.data)\n",
    "\n",
    "# Testing set \n",
    "print(\"Number of rows for the testing set\")\n",
    "test.data = asteroid[-train_ind,]\n",
    "nrow(test.data)"
   ]
  },
  {
   "cell_type": "markdown",
   "metadata": {},
   "source": [
    " "
   ]
  },
  {
   "cell_type": "markdown",
   "metadata": {
    "deletable": false,
    "editable": false
   },
   "source": [
    "## Step 3: Random Forest Classification Model (Using Two Trees)\n",
    "This step will create the random forest classification model using only two trees for training. The model will predict the size of an asteroid using eccentricity, orbital period, and rotation period. The confusion matrix will then be printed for the training and testing set. \n",
    "<br><br>\n",
    "\n",
    "<font color='red'>**Do not change the seed value!**</font>\n",
    "\n",
    "\n",
    "Click the block of code below and hit the **Run** button above.  "
   ]
  },
  {
   "cell_type": "code",
   "execution_count": 3,
   "metadata": {
    "deletable": false,
    "editable": false,
    "scrolled": true
   },
   "outputs": [
    {
     "name": "stderr",
     "output_type": "stream",
     "text": [
      "randomForest 4.6-14\n",
      "Type rfNews() to see new features/changes/bug fixes.\n"
     ]
    },
    {
     "name": "stdout",
     "output_type": "stream",
     "text": [
      "[1] \"======================================================================================================================\"\n",
      "[1] \"Confusion Matrix: TRAINING set based on random forest model built using 2 trees\"\n"
     ]
    },
    {
     "data": {
      "text/html": [
       "<table>\n",
       "<caption>A matrix: 2 × 2 of type chr</caption>\n",
       "<thead>\n",
       "\t<tr><th></th><th scope=col>Prediction: LARGE</th><th scope=col>Prediction: SMALL</th></tr>\n",
       "</thead>\n",
       "<tbody>\n",
       "\t<tr><th scope=row>Actual: LARGE</th><td>164</td><td> 16</td></tr>\n",
       "\t<tr><th scope=row>Actual: SMALL</th><td> 43</td><td>143</td></tr>\n",
       "</tbody>\n",
       "</table>\n"
      ],
      "text/latex": [
       "A matrix: 2 × 2 of type chr\n",
       "\\begin{tabular}{r|ll}\n",
       "  & Prediction: LARGE & Prediction: SMALL\\\\\n",
       "\\hline\n",
       "\tActual: LARGE & 164 &  16\\\\\n",
       "\tActual: SMALL &  43 & 143\\\\\n",
       "\\end{tabular}\n"
      ],
      "text/markdown": [
       "\n",
       "A matrix: 2 × 2 of type chr\n",
       "\n",
       "| <!--/--> | Prediction: LARGE | Prediction: SMALL |\n",
       "|---|---|---|\n",
       "| Actual: LARGE | 164 |  16 |\n",
       "| Actual: SMALL |  43 | 143 |\n",
       "\n"
      ],
      "text/plain": [
       "               train.data.predict\n",
       "                Prediction: LARGE Prediction: SMALL\n",
       "  Actual: LARGE 164                16              \n",
       "  Actual: SMALL  43               143              "
      ]
     },
     "metadata": {},
     "output_type": "display_data"
    },
    {
     "name": "stdout",
     "output_type": "stream",
     "text": [
      "[1] \"======================================================================================================================\"\n",
      "[1] \"Confusion Matrix: TESTING set based on random forest model built using 2 trees\"\n"
     ]
    },
    {
     "data": {
      "text/html": [
       "<table>\n",
       "<caption>A matrix: 2 × 2 of type chr</caption>\n",
       "<thead>\n",
       "\t<tr><th></th><th scope=col>Prediction: LARGE</th><th scope=col>Prediction: SMALL</th></tr>\n",
       "</thead>\n",
       "<tbody>\n",
       "\t<tr><th scope=row>Actual: LARGE</th><td>36</td><td>15</td></tr>\n",
       "\t<tr><th scope=row>Actual: SMALL</th><td>19</td><td>22</td></tr>\n",
       "</tbody>\n",
       "</table>\n"
      ],
      "text/latex": [
       "A matrix: 2 × 2 of type chr\n",
       "\\begin{tabular}{r|ll}\n",
       "  & Prediction: LARGE & Prediction: SMALL\\\\\n",
       "\\hline\n",
       "\tActual: LARGE & 36 & 15\\\\\n",
       "\tActual: SMALL & 19 & 22\\\\\n",
       "\\end{tabular}\n"
      ],
      "text/markdown": [
       "\n",
       "A matrix: 2 × 2 of type chr\n",
       "\n",
       "| <!--/--> | Prediction: LARGE | Prediction: SMALL |\n",
       "|---|---|---|\n",
       "| Actual: LARGE | 36 | 15 |\n",
       "| Actual: SMALL | 19 | 22 |\n",
       "\n"
      ],
      "text/plain": [
       "               test.data.predict\n",
       "                Prediction: LARGE Prediction: SMALL\n",
       "  Actual: LARGE 36                15               \n",
       "  Actual: SMALL 19                22               "
      ]
     },
     "metadata": {},
     "output_type": "display_data"
    }
   ],
   "source": [
    "set.seed(915839)\n",
    "library(randomForest)\n",
    "model_rf1 <- randomForest(size ~ eccentricity+orb_period+rot_per, data=train.data, ntree = 2)\n",
    "\n",
    "# Confusion matrix\n",
    "print(\"======================================================================================================================\")\n",
    "print('Confusion Matrix: TRAINING set based on random forest model built using 2 trees')\n",
    "train.data.predict <- predict(model_rf1, train.data, type = \"class\")\n",
    "\n",
    "# Construct the confusion matrix\n",
    "conf.matrix <- table(train.data$size, train.data.predict)[,c('LARGE','SMALL')]\n",
    "rownames(conf.matrix) <- paste(\"Actual\", rownames(conf.matrix), sep = \": \")\n",
    "colnames(conf.matrix) <- paste(\"Prediction\", colnames(conf.matrix), sep = \": \")\n",
    "\n",
    "# Print a nicely formatted confusion matrix\n",
    "format(conf.matrix,justify=\"centre\",digit=2)\n",
    "\n",
    "\n",
    "print(\"======================================================================================================================\")\n",
    "print('Confusion Matrix: TESTING set based on random forest model built using 2 trees')\n",
    "test.data.predict <- predict(model_rf1, test.data, type = \"class\")\n",
    "\n",
    "# Construct the confusion matrix\n",
    "conf.matrix <- table(test.data$size, test.data.predict)[,c('LARGE','SMALL')]\n",
    "rownames(conf.matrix) <- paste(\"Actual\", rownames(conf.matrix), sep = \": \")\n",
    "colnames(conf.matrix) <- paste(\"Prediction\", colnames(conf.matrix), sep = \": \")\n",
    "\n",
    "# Print a nicely formatted confusion matrix\n",
    "format(conf.matrix,justify=\"centre\",digit=2)\n"
   ]
  },
  {
   "cell_type": "markdown",
   "metadata": {
    "deletable": false,
    "editable": false
   },
   "source": [
    "## Step 4: Random Forest Classification Model (Using Five Trees)\n",
    "This step will create the same random forest classification model from the previous step but will use five decision trees. Notice the slight improvement in true positive and true negative counts.  \n",
    "<br><br>\n",
    "\n",
    "<font color='red'>**Do not change the seed value!**</font>\n",
    "\n",
    "Click the code section below and hit the **Run** button above."
   ]
  },
  {
   "cell_type": "code",
   "execution_count": 4,
   "metadata": {
    "deletable": false,
    "editable": false
   },
   "outputs": [
    {
     "name": "stdout",
     "output_type": "stream",
     "text": [
      "[1] \"======================================================================================================================\"\n",
      "[1] \"Confusion Matrix: TRAINING set based on random forest model built using 5 trees\"\n"
     ]
    },
    {
     "data": {
      "text/html": [
       "<table>\n",
       "<caption>A matrix: 2 × 2 of type chr</caption>\n",
       "<thead>\n",
       "\t<tr><th></th><th scope=col>Prediction: LARGE</th><th scope=col>Prediction: SMALL</th></tr>\n",
       "</thead>\n",
       "<tbody>\n",
       "\t<tr><th scope=row>Actual: LARGE</th><td>174</td><td>  6</td></tr>\n",
       "\t<tr><th scope=row>Actual: SMALL</th><td> 21</td><td>165</td></tr>\n",
       "</tbody>\n",
       "</table>\n"
      ],
      "text/latex": [
       "A matrix: 2 × 2 of type chr\n",
       "\\begin{tabular}{r|ll}\n",
       "  & Prediction: LARGE & Prediction: SMALL\\\\\n",
       "\\hline\n",
       "\tActual: LARGE & 174 &   6\\\\\n",
       "\tActual: SMALL &  21 & 165\\\\\n",
       "\\end{tabular}\n"
      ],
      "text/markdown": [
       "\n",
       "A matrix: 2 × 2 of type chr\n",
       "\n",
       "| <!--/--> | Prediction: LARGE | Prediction: SMALL |\n",
       "|---|---|---|\n",
       "| Actual: LARGE | 174 |   6 |\n",
       "| Actual: SMALL |  21 | 165 |\n",
       "\n"
      ],
      "text/plain": [
       "               train.data.predict\n",
       "                Prediction: LARGE Prediction: SMALL\n",
       "  Actual: LARGE 174                 6              \n",
       "  Actual: SMALL  21               165              "
      ]
     },
     "metadata": {},
     "output_type": "display_data"
    },
    {
     "name": "stdout",
     "output_type": "stream",
     "text": [
      "[1] \"======================================================================================================================\"\n",
      "[1] \"Confusion Matrix: TESTING set based on random forest model built using 5 trees\"\n"
     ]
    },
    {
     "data": {
      "text/html": [
       "<table>\n",
       "<caption>A matrix: 2 × 2 of type chr</caption>\n",
       "<thead>\n",
       "\t<tr><th></th><th scope=col>Prediction: LARGE</th><th scope=col>Prediction: SMALL</th></tr>\n",
       "</thead>\n",
       "<tbody>\n",
       "\t<tr><th scope=row>Actual: LARGE</th><td>35</td><td>16</td></tr>\n",
       "\t<tr><th scope=row>Actual: SMALL</th><td>14</td><td>27</td></tr>\n",
       "</tbody>\n",
       "</table>\n"
      ],
      "text/latex": [
       "A matrix: 2 × 2 of type chr\n",
       "\\begin{tabular}{r|ll}\n",
       "  & Prediction: LARGE & Prediction: SMALL\\\\\n",
       "\\hline\n",
       "\tActual: LARGE & 35 & 16\\\\\n",
       "\tActual: SMALL & 14 & 27\\\\\n",
       "\\end{tabular}\n"
      ],
      "text/markdown": [
       "\n",
       "A matrix: 2 × 2 of type chr\n",
       "\n",
       "| <!--/--> | Prediction: LARGE | Prediction: SMALL |\n",
       "|---|---|---|\n",
       "| Actual: LARGE | 35 | 16 |\n",
       "| Actual: SMALL | 14 | 27 |\n",
       "\n"
      ],
      "text/plain": [
       "               test.data.predict\n",
       "                Prediction: LARGE Prediction: SMALL\n",
       "  Actual: LARGE 35                16               \n",
       "  Actual: SMALL 14                27               "
      ]
     },
     "metadata": {},
     "output_type": "display_data"
    }
   ],
   "source": [
    "set.seed(915839)\n",
    "library(randomForest)\n",
    "model_rf2 <- randomForest(size ~ eccentricity+orb_period+rot_per, data=train.data, ntree = 5)\n",
    "\n",
    "# Confusion matrix\n",
    "print(\"======================================================================================================================\")\n",
    "print('Confusion Matrix: TRAINING set based on random forest model built using 5 trees')\n",
    "train.data.predict <- predict(model_rf2, train.data, type = \"class\")\n",
    "\n",
    "# Construct the confusion matrix\n",
    "conf.matrix <- table(train.data$size, train.data.predict)[,c('LARGE','SMALL')]\n",
    "rownames(conf.matrix) <- paste(\"Actual\", rownames(conf.matrix), sep = \": \")\n",
    "colnames(conf.matrix) <- paste(\"Prediction\", colnames(conf.matrix), sep = \": \")\n",
    "\n",
    "# Print nicely formatted confusion matrix\n",
    "format(conf.matrix,justify=\"centre\",digit=2)\n",
    "\n",
    "\n",
    "print(\"======================================================================================================================\")\n",
    "print('Confusion Matrix: TESTING set based on random forest model built using 5 trees')\n",
    "test.data.predict <- predict(model_rf2, test.data, type = \"class\")\n",
    "\n",
    "# Construct the confusion matrix\n",
    "conf.matrix <- table(test.data$size, test.data.predict)[,c('LARGE','SMALL')]\n",
    "rownames(conf.matrix) <- paste(\"Actual\", rownames(conf.matrix), sep = \": \")\n",
    "colnames(conf.matrix) <- paste(\"Prediction\", colnames(conf.matrix), sep = \": \")\n",
    "\n",
    "# Print nicely formatted confusion matrix\n",
    "format(conf.matrix,justify=\"centre\",digit=2)\n"
   ]
  },
  {
   "cell_type": "markdown",
   "metadata": {},
   "source": [
    " "
   ]
  },
  {
   "cell_type": "markdown",
   "metadata": {
    "deletable": false,
    "editable": false
   },
   "source": [
    "## Step 5: Graphing the Training and Testing Error Against the Number of Trees \n",
    "In this step, you will create a graph of classification errors for the training and testing sets using random forest classification models with increasing numbers of trees. The idea here is to find the optimal number of trees that minimizes the training classification error. The optimal number of trees will then be used to train the model.\n",
    "<br><br>\n",
    "\n",
    "<font color='red'>**Do not change the seed value!**</font>\n",
    "\n",
    "\n",
    "Click the code section below and hit the **Run** button above."
   ]
  },
  {
   "cell_type": "code",
   "execution_count": 5,
   "metadata": {
    "deletable": false,
    "editable": false,
    "scrolled": true
   },
   "outputs": [
    {
     "data": {
      "image/png": "[encoded data removed]",
      "text/plain": [
       "plot without title"
      ]
     },
     "metadata": {},
     "output_type": "display_data"
    }
   ],
   "source": [
    "set.seed(915839)\n",
    "library(randomForest)\n",
    "\n",
    "# checking\n",
    "#=====================================================================\n",
    "train = c()\n",
    "test = c()\n",
    "trees = c()\n",
    "\n",
    "for(i in seq(from=1, to=100, by=1)) {\n",
    "    #print(i)\n",
    "    \n",
    "    trees <- c(trees, i)\n",
    "    \n",
    "    model_rf3 <- randomForest(size ~ eccentricity+orb_period+rot_per, data=train.data, ntree = i)\n",
    "    \n",
    "    train.data.predict <- predict(model_rf3, train.data, type = \"class\")\n",
    "    conf.matrix1 <- table(train.data$size, train.data.predict)\n",
    "    train_error = 1-(sum(diag(conf.matrix1)))/sum(conf.matrix1)\n",
    "    train <- c(train, train_error)\n",
    "    \n",
    "    test.data.predict <- predict(model_rf3, test.data, type = \"class\")\n",
    "    conf.matrix2 <- table(test.data$size, test.data.predict)\n",
    "    test_error = 1-(sum(diag(conf.matrix2)))/sum(conf.matrix2)\n",
    "    test <- c(test, test_error)\n",
    "}\n",
    " \n",
    "#matplot (trees, cbind (train, test), ylim=c(0,0.5) , type = c(\"l\", \"l\"), lwd=2, col=c(\"red\",\"blue\"), ylab=\"Error\", xlab=\"number of trees\")\n",
    "#legend('topright',legend = c('training set','testing set'), col = c(\"red\",\"blue\"), lwd = 2 )\n",
    "\n",
    "plot(trees, train,type = \"l\",ylim=c(0,1.0),col = \"red\", xlab = \"Number of Trees\", ylab = \"Classification Error\")\n",
    "lines(test, type = \"l\", col = \"blue\")\n",
    "legend('topright',legend = c('training set','testing set'), col = c(\"red\",\"blue\"), lwd = 2 )"
   ]
  },
  {
   "cell_type": "markdown",
   "metadata": {
    "deletable": false,
    "editable": false
   },
   "source": [
    "### Optimal Number of Trees\n",
    "From the output, the classification error curve flattens at approximately 20 trees. Beyond this, the error is roughly the same even if the number of trees increases. Therefore, 20 trees are optimal for this data set. "
   ]
  },
  {
   "cell_type": "markdown",
   "metadata": {},
   "source": [
    " "
   ]
  },
  {
   "cell_type": "markdown",
   "metadata": {
    "deletable": false,
    "editable": false
   },
   "source": [
    "## Step 6: Random Forest Classification Model (Using 20 Trees)\n",
    "This step will create the same random forest classification model from step 4, but will now use the optimal number\n",
    "of trees found in the previous step (20). \n",
    "<br><br>\n",
    "\n",
    "<font color='red'>**Do not change the seed value!**</font>\n",
    "\n",
    "Click the code section below and hit the **Run** button above."
   ]
  },
  {
   "cell_type": "code",
   "execution_count": 6,
   "metadata": {
    "deletable": false,
    "editable": false
   },
   "outputs": [
    {
     "name": "stdout",
     "output_type": "stream",
     "text": [
      "[1] \"======================================================================================================================\"\n",
      "[1] \"Confusion Matrix: TRAINING set based on random forest model built using 20 trees\"\n"
     ]
    },
    {
     "data": {
      "text/html": [
       "<table>\n",
       "<caption>A matrix: 2 × 2 of type chr</caption>\n",
       "<thead>\n",
       "\t<tr><th></th><th scope=col>Prediction: LARGE</th><th scope=col>Prediction: SMALL</th></tr>\n",
       "</thead>\n",
       "<tbody>\n",
       "\t<tr><th scope=row>Actual: LARGE</th><td>179</td><td>  1</td></tr>\n",
       "\t<tr><th scope=row>Actual: SMALL</th><td>  1</td><td>185</td></tr>\n",
       "</tbody>\n",
       "</table>\n"
      ],
      "text/latex": [
       "A matrix: 2 × 2 of type chr\n",
       "\\begin{tabular}{r|ll}\n",
       "  & Prediction: LARGE & Prediction: SMALL\\\\\n",
       "\\hline\n",
       "\tActual: LARGE & 179 &   1\\\\\n",
       "\tActual: SMALL &   1 & 185\\\\\n",
       "\\end{tabular}\n"
      ],
      "text/markdown": [
       "\n",
       "A matrix: 2 × 2 of type chr\n",
       "\n",
       "| <!--/--> | Prediction: LARGE | Prediction: SMALL |\n",
       "|---|---|---|\n",
       "| Actual: LARGE | 179 |   1 |\n",
       "| Actual: SMALL |   1 | 185 |\n",
       "\n"
      ],
      "text/plain": [
       "               train.data.predict\n",
       "                Prediction: LARGE Prediction: SMALL\n",
       "  Actual: LARGE 179                 1              \n",
       "  Actual: SMALL   1               185              "
      ]
     },
     "metadata": {},
     "output_type": "display_data"
    },
    {
     "name": "stdout",
     "output_type": "stream",
     "text": [
      "[1] \"======================================================================================================================\"\n",
      "[1] \"Confusion Matrix: TESTING set based on random forest model built using 20 trees\"\n"
     ]
    },
    {
     "data": {
      "text/html": [
       "<table>\n",
       "<caption>A matrix: 2 × 2 of type chr</caption>\n",
       "<thead>\n",
       "\t<tr><th></th><th scope=col>Prediction: LARGE</th><th scope=col>Prediction: SMALL</th></tr>\n",
       "</thead>\n",
       "<tbody>\n",
       "\t<tr><th scope=row>Actual: LARGE</th><td>37</td><td>14</td></tr>\n",
       "\t<tr><th scope=row>Actual: SMALL</th><td>13</td><td>28</td></tr>\n",
       "</tbody>\n",
       "</table>\n"
      ],
      "text/latex": [
       "A matrix: 2 × 2 of type chr\n",
       "\\begin{tabular}{r|ll}\n",
       "  & Prediction: LARGE & Prediction: SMALL\\\\\n",
       "\\hline\n",
       "\tActual: LARGE & 37 & 14\\\\\n",
       "\tActual: SMALL & 13 & 28\\\\\n",
       "\\end{tabular}\n"
      ],
      "text/markdown": [
       "\n",
       "A matrix: 2 × 2 of type chr\n",
       "\n",
       "| <!--/--> | Prediction: LARGE | Prediction: SMALL |\n",
       "|---|---|---|\n",
       "| Actual: LARGE | 37 | 14 |\n",
       "| Actual: SMALL | 13 | 28 |\n",
       "\n"
      ],
      "text/plain": [
       "               test.data.predict\n",
       "                Prediction: LARGE Prediction: SMALL\n",
       "  Actual: LARGE 37                14               \n",
       "  Actual: SMALL 13                28               "
      ]
     },
     "metadata": {},
     "output_type": "display_data"
    }
   ],
   "source": [
    "set.seed(915839)\n",
    "library(randomForest)\n",
    "model_rf4 <- randomForest(size ~ eccentricity+orb_period+rot_per, data=train.data, ntree = 20)\n",
    "\n",
    "# Confusion matrix\n",
    "print(\"======================================================================================================================\")\n",
    "print('Confusion Matrix: TRAINING set based on random forest model built using 20 trees')\n",
    "train.data.predict <- predict(model_rf4, train.data, type = \"class\")\n",
    "\n",
    "# Construct the confusion matrix\n",
    "conf.matrix <- table(train.data$size, train.data.predict)[,c('LARGE','SMALL')]\n",
    "rownames(conf.matrix) <- paste(\"Actual\", rownames(conf.matrix), sep = \": \")\n",
    "colnames(conf.matrix) <- paste(\"Prediction\", colnames(conf.matrix), sep = \": \")\n",
    "\n",
    "# Print nicely formatted confusion matrix\n",
    "format(conf.matrix,justify=\"centre\",digit=2)\n",
    "\n",
    "\n",
    "print(\"======================================================================================================================\")\n",
    "print('Confusion Matrix: TESTING set based on random forest model built using 20 trees')\n",
    "test.data.predict <- predict(model_rf4, test.data, type = \"class\")\n",
    "\n",
    "# Construct the confusion matrix\n",
    "conf.matrix <- table(test.data$size, test.data.predict)[,c('LARGE','SMALL')]\n",
    "rownames(conf.matrix) <- paste(\"Actual\", rownames(conf.matrix), sep = \": \")\n",
    "colnames(conf.matrix) <- paste(\"Prediction\", colnames(conf.matrix), sep = \": \")\n",
    "\n",
    "# Print nicely formatted confusion matrix\n",
    "format(conf.matrix,justify=\"centre\",digit=2)\n"
   ]
  },
  {
   "cell_type": "markdown",
   "metadata": {},
   "source": [
    " "
   ]
  },
  {
   "cell_type": "markdown",
   "metadata": {
    "deletable": false,
    "editable": false
   },
   "source": [
    "## Step 7: Predictions on the Testing Set\n",
    "This step will use the model trained with the optimal number of trees to predict the sizes of asteroids in the testing set. \n",
    "\n",
    "Click the code section below and hit the **Run** button above."
   ]
  },
  {
   "cell_type": "code",
   "execution_count": 7,
   "metadata": {
    "deletable": false,
    "editable": false
   },
   "outputs": [
    {
     "name": "stdout",
     "output_type": "stream",
     "text": [
      "    actual size predicted_size\n",
      "1         SMALL          SMALL\n",
      "4         SMALL          SMALL\n",
      "15        SMALL          SMALL\n",
      "24        LARGE          SMALL\n",
      "29        LARGE          LARGE\n",
      "35        SMALL          SMALL\n",
      "36        SMALL          LARGE\n",
      "38        LARGE          LARGE\n",
      "41        LARGE          LARGE\n",
      "45        LARGE          LARGE\n",
      "48        SMALL          SMALL\n",
      "56        LARGE          LARGE\n",
      "60        LARGE          LARGE\n",
      "61        LARGE          SMALL\n",
      "69        LARGE          LARGE\n",
      "71        LARGE          LARGE\n",
      "74        SMALL          SMALL\n",
      "75        LARGE          LARGE\n",
      "81        LARGE          LARGE\n",
      "90        LARGE          LARGE\n",
      "96        LARGE          SMALL\n",
      "100       SMALL          LARGE\n",
      "106       SMALL          SMALL\n",
      "107       SMALL          SMALL\n",
      "108       LARGE          SMALL\n",
      "115       LARGE          LARGE\n",
      "126       LARGE          LARGE\n",
      "129       LARGE          SMALL\n",
      "131       LARGE          LARGE\n",
      "141       SMALL          SMALL\n",
      "160       SMALL          SMALL\n",
      "177       SMALL          LARGE\n",
      "182       LARGE          LARGE\n",
      "188       LARGE          SMALL\n",
      "198       LARGE          LARGE\n",
      "203       LARGE          SMALL\n",
      "205       SMALL          SMALL\n",
      "206       LARGE          LARGE\n",
      "208       LARGE          LARGE\n",
      "211       SMALL          SMALL\n",
      "213       SMALL          SMALL\n",
      "215       LARGE          SMALL\n",
      "216       LARGE          LARGE\n",
      "218       LARGE          SMALL\n",
      "227       LARGE          LARGE\n",
      "233       SMALL          SMALL\n",
      "235       SMALL          LARGE\n",
      "236       SMALL          SMALL\n",
      "245       SMALL          SMALL\n",
      "247       LARGE          LARGE\n",
      "249       SMALL          SMALL\n",
      "252       LARGE          LARGE\n",
      "259       LARGE          SMALL\n",
      "270       LARGE          LARGE\n",
      "279       LARGE          SMALL\n",
      "281       SMALL          SMALL\n",
      "282       LARGE          LARGE\n",
      "285       LARGE          LARGE\n",
      "290       LARGE          SMALL\n",
      "293       SMALL          SMALL\n",
      "295       LARGE          LARGE\n",
      "297       LARGE          LARGE\n",
      "316       SMALL          SMALL\n",
      "322       SMALL          SMALL\n",
      "323       SMALL          SMALL\n",
      "332       SMALL          LARGE\n",
      "338       LARGE          LARGE\n",
      "344       LARGE          SMALL\n",
      "345       SMALL          SMALL\n",
      "347       LARGE          LARGE\n",
      "352       SMALL          LARGE\n",
      "353       LARGE          LARGE\n",
      "359       SMALL          LARGE\n",
      "360       SMALL          SMALL\n",
      "366       LARGE          LARGE\n",
      "369       SMALL          SMALL\n",
      "370       LARGE          LARGE\n",
      "373       SMALL          LARGE\n",
      "374       SMALL          SMALL\n",
      "386       SMALL          SMALL\n",
      "392       SMALL          LARGE\n",
      "400       SMALL          SMALL\n",
      "401       LARGE          LARGE\n",
      "410       LARGE          LARGE\n",
      "415       LARGE          LARGE\n",
      "420       LARGE          SMALL\n",
      "421       SMALL          SMALL\n",
      "422       LARGE          LARGE\n",
      "434       SMALL          LARGE\n",
      "439       LARGE          LARGE\n",
      "453       SMALL          SMALL\n",
      "457       SMALL          LARGE\n"
     ]
    }
   ],
   "source": [
    "predicted_size <- predict(model_rf4, test.data, type = \"class\")\n",
    "predicted_size_df <- data.frame(predicted_size)\n",
    "data <- cbind('actual size'=test.data$size, 'predicted size'=predicted_size_df)\n",
    "print(data)"
   ]
  },
  {
   "cell_type": "markdown",
   "metadata": {},
   "source": [
    "  "
   ]
  },
  {
   "cell_type": "markdown",
   "metadata": {
    "deletable": false,
    "editable": false
   },
   "source": [
    "## Step 8: Random Forest Regression Model (Using Two Trees)\n",
    "This step will create a random forest regression model using only two trees for training. The model will predict the diameter of an asteroid using eccentricity, inclination, rotation period, orbital period, and albedo. The root mean squared error (RMSE) will be printed to test the utility of the model. \n",
    "<br><br>\n",
    "\n",
    "<font color='red'>**Do not change the seed value!**</font>\n",
    "\n",
    "\n",
    "Click the block of code below and hit the **Run** button above.  "
   ]
  },
  {
   "cell_type": "code",
   "execution_count": 8,
   "metadata": {
    "deletable": false,
    "editable": false
   },
   "outputs": [
    {
     "name": "stdout",
     "output_type": "stream",
     "text": [
      "[1] \"======================================================================================================================\"\n",
      "[1] \"Root Mean Squared Error: TRAINING set based on random forest regression model built using 2 trees\"\n"
     ]
    },
    {
     "data": {
      "text/html": [
       "34.1190541301396"
      ],
      "text/latex": [
       "34.1190541301396"
      ],
      "text/markdown": [
       "34.1190541301396"
      ],
      "text/plain": [
       "[1] 34.11905"
      ]
     },
     "metadata": {},
     "output_type": "display_data"
    },
    {
     "name": "stdout",
     "output_type": "stream",
     "text": [
      "[1] \"======================================================================================================================\"\n",
      "[1] \"Root Mean Squared Error: TESTING set based on random forest regression model built using 2 trees\"\n"
     ]
    },
    {
     "data": {
      "text/html": [
       "121.342886668016"
      ],
      "text/latex": [
       "121.342886668016"
      ],
      "text/markdown": [
       "121.342886668016"
      ],
      "text/plain": [
       "[1] 121.3429"
      ]
     },
     "metadata": {},
     "output_type": "display_data"
    }
   ],
   "source": [
    "set.seed(915839)\n",
    "library(randomForest)\n",
    "model_rf5 <- randomForest(diameter ~ eccentricity+inclination+rot_per+orb_period+albedo, data=train.data, ntree = 2)\n",
    "\n",
    "\n",
    "# Root mean squared error\n",
    "RMSE = function(pred, obs) {\n",
    "    return(sqrt( sum( (pred - obs)^2 )/length(pred) ) )\n",
    "}\n",
    "\n",
    "print(\"======================================================================================================================\")\n",
    "print('Root Mean Squared Error: TRAINING set based on random forest regression model built using 2 trees')\n",
    "pred <- predict(model_rf5, newdata=train.data, type='response')\n",
    "RMSE(pred, train.data$diameter)\n",
    "\n",
    "\n",
    "print(\"======================================================================================================================\")\n",
    "print('Root Mean Squared Error: TESTING set based on random forest regression model built using 2 trees')\n",
    "pred <- predict(model_rf5, newdata=test.data, type='response')\n",
    "RMSE(pred, test.data$diameter)"
   ]
  },
  {
   "cell_type": "markdown",
   "metadata": {},
   "source": [
    " "
   ]
  },
  {
   "cell_type": "markdown",
   "metadata": {
    "deletable": false,
    "editable": false
   },
   "source": [
    "## Step 9: Random Forest Regression Model (Using Five Trees)\n",
    "This step will create the same random forest regression model from the previous step but will use five decision trees. Notice the slight improvement in RMSE.   \n",
    "<br><br>\n",
    "\n",
    "<font color='red'>**Do not change the seed value!**</font>\n",
    "\n",
    "Click the code section below and hit the **Run** button above."
   ]
  },
  {
   "cell_type": "code",
   "execution_count": 9,
   "metadata": {
    "deletable": false,
    "editable": false
   },
   "outputs": [
    {
     "name": "stdout",
     "output_type": "stream",
     "text": [
      "[1] \"======================================================================================================================\"\n",
      "[1] \"Root Mean Squared Error: TRAINING set based on random forest model built using 5 trees\"\n"
     ]
    },
    {
     "data": {
      "text/html": [
       "29.7914911601376"
      ],
      "text/latex": [
       "29.7914911601376"
      ],
      "text/markdown": [
       "29.7914911601376"
      ],
      "text/plain": [
       "[1] 29.79149"
      ]
     },
     "metadata": {},
     "output_type": "display_data"
    },
    {
     "name": "stdout",
     "output_type": "stream",
     "text": [
      "[1] \"======================================================================================================================\"\n",
      "[1] \"Root Mean Squared Error: TESTING set based on random forest model built using 5 trees\"\n"
     ]
    },
    {
     "data": {
      "text/html": [
       "116.864227699232"
      ],
      "text/latex": [
       "116.864227699232"
      ],
      "text/markdown": [
       "116.864227699232"
      ],
      "text/plain": [
       "[1] 116.8642"
      ]
     },
     "metadata": {},
     "output_type": "display_data"
    }
   ],
   "source": [
    "set.seed(915839)\n",
    "library(randomForest)\n",
    "model_rf6 <- randomForest(diameter ~ eccentricity+inclination+rot_per+orb_period+albedo, data=train.data, ntree = 5)\n",
    "\n",
    "\n",
    "# Root mean squared error\n",
    "RMSE = function(pred, obs) {\n",
    "    return(sqrt( sum( (pred - obs)^2 )/length(pred) ) )\n",
    "}\n",
    "\n",
    "print(\"======================================================================================================================\")\n",
    "print('Root Mean Squared Error: TRAINING set based on random forest model built using 5 trees')\n",
    "pred <- predict(model_rf6, newdata=train.data, type='response')\n",
    "RMSE(pred, train.data$diameter)\n",
    "\n",
    "\n",
    "print(\"======================================================================================================================\")\n",
    "print('Root Mean Squared Error: TESTING set based on random forest model built using 5 trees')\n",
    "pred <- predict(model_rf6, newdata=test.data, type='response')\n",
    "RMSE(pred, test.data$diameter)"
   ]
  },
  {
   "cell_type": "markdown",
   "metadata": {},
   "source": [
    " "
   ]
  },
  {
   "cell_type": "markdown",
   "metadata": {
    "deletable": false,
    "editable": false
   },
   "source": [
    "## Step 10: Graphing the Training and Testing Root Mean Squared Error against the Number of Trees \n",
    "In this step, you will create a graph of root mean squared errors for the training and testing sets using random forest regression models with increasing numbers of trees. This step will help you identify the optimal number of trees that minimizes the root mean squared error. The optimal number of trees will then be used to train the model.\n",
    "<br><br>\n",
    "\n",
    "<font color='red'>**Do not change the seed value!**</font>\n",
    "\n",
    "Click the code section below and hit the **Run** button above."
   ]
  },
  {
   "cell_type": "code",
   "execution_count": 10,
   "metadata": {
    "deletable": false,
    "editable": false,
    "scrolled": false
   },
   "outputs": [
    {
     "data": {
      "image/png": "[encoded data removed]",
      "text/plain": [
       "plot without title"
      ]
     },
     "metadata": {},
     "output_type": "display_data"
    }
   ],
   "source": [
    "set.seed(915839)\n",
    "library(randomForest)\n",
    "\n",
    "# Root mean squared error\n",
    "RMSE = function(pred, obs) {\n",
    "    return(sqrt( sum( (pred - obs)^2 )/length(pred) ) )\n",
    "}\n",
    "\n",
    "\n",
    "# checking\n",
    "#=====================================================================\n",
    "train = c()\n",
    "test = c()\n",
    "trees = c()\n",
    "\n",
    "for(i in seq(from=1, to=100, by=1)) {\n",
    "    trees <- c(trees, i)\n",
    "    model_rf7 <- randomForest(diameter ~ eccentricity+inclination+rot_per+orb_period+albedo, data=train.data, ntree = i)\n",
    "    \n",
    "    pred <- predict(model_rf7, newdata=train.data, type='response')\n",
    "    rmse_train <-  RMSE(pred, train.data$diameter)\n",
    "    train <- c(train, rmse_train)\n",
    "    \n",
    "    pred <- predict(model_rf7, newdata=test.data, type='response')\n",
    "     rmse_test <-  RMSE(pred, test.data$diameter)\n",
    "    test <- c(test, rmse_test)\n",
    "}\n",
    " \n",
    "plot(trees, train,type = \"l\",ylim=c(20,130),col = \"red\", xlab = \"Number of Trees\", ylab = \"Root Mean Squared Error\")\n",
    "lines(test, type = \"l\", col = \"blue\")\n",
    "legend('topright',legend = c('training set','testing set'), col = c(\"red\",\"blue\"), lwd = 2 )"
   ]
  },
  {
   "cell_type": "markdown",
   "metadata": {
    "deletable": false,
    "editable": false
   },
   "source": [
    "### Optimal Number of Trees\n",
    "From the output, the root mean squared error curve flattens at approximately 16-20 trees. Beyond this, the error is roughly the same even if the number of trees increases.  \n"
   ]
  },
  {
   "cell_type": "markdown",
   "metadata": {
    "deletable": false,
    "editable": false
   },
   "source": [
    "## Step 11: Random Forest Regression Model (Using 20 Trees)\n",
    "This step will create the same random forest regression model from step 9 but will now use the optimal number\n",
    "of trees found in the previous step. The model below uses 20 trees. "
   ]
  },
  {
   "cell_type": "code",
   "execution_count": 11,
   "metadata": {
    "deletable": false,
    "editable": false,
    "scrolled": false
   },
   "outputs": [
    {
     "name": "stdout",
     "output_type": "stream",
     "text": [
      "[1] \"======================================================================================================================\"\n",
      "[1] \"Root Mean Squared Error: TRAINING set based on random forest model built using 20 trees\"\n"
     ]
    },
    {
     "data": {
      "text/html": [
       "26.3104431472443"
      ],
      "text/latex": [
       "26.3104431472443"
      ],
      "text/markdown": [
       "26.3104431472443"
      ],
      "text/plain": [
       "[1] 26.31044"
      ]
     },
     "metadata": {},
     "output_type": "display_data"
    },
    {
     "name": "stdout",
     "output_type": "stream",
     "text": [
      "[1] \"======================================================================================================================\"\n",
      "[1] \"Root Mean Squared Error: TESTING set based on random forest model built using 20 trees\"\n"
     ]
    },
    {
     "data": {
      "text/html": [
       "112.872109521818"
      ],
      "text/latex": [
       "112.872109521818"
      ],
      "text/markdown": [
       "112.872109521818"
      ],
      "text/plain": [
       "[1] 112.8721"
      ]
     },
     "metadata": {},
     "output_type": "display_data"
    }
   ],
   "source": [
    "set.seed(915839)\n",
    "library(randomForest)\n",
    "model_rf8 <- randomForest(diameter ~ eccentricity+inclination+rot_per+orb_period+albedo, data=train.data, ntree = 20)\n",
    "\n",
    "\n",
    "# Root mean squared error\n",
    "RMSE = function(pred, obs) {\n",
    "    return(sqrt( sum( (pred - obs)^2 )/length(pred) ) )\n",
    "}\n",
    "\n",
    "print(\"======================================================================================================================\")\n",
    "print('Root Mean Squared Error: TRAINING set based on random forest model built using 20 trees')\n",
    "pred <- predict(model_rf8, newdata=train.data, type='response')\n",
    "RMSE(pred, train.data$diameter)\n",
    "\n",
    "\n",
    "print(\"======================================================================================================================\")\n",
    "print('Root Mean Squared Error: TESTING set based on random forest model built using 20 trees')\n",
    "pred <- predict(model_rf8, newdata=test.data, type='response')\n",
    "RMSE(pred, test.data$diameter)"
   ]
  },
  {
   "cell_type": "markdown",
   "metadata": {},
   "source": [
    " "
   ]
  },
  {
   "cell_type": "markdown",
   "metadata": {
    "deletable": false,
    "editable": false
   },
   "source": [
    "## Step 12: Predictions on the Testing Set\n",
    "This step will use the model trained with the optimal number of trees to predict the diameters of asteroids in the testing set. \n",
    "\n",
    "Click the code section below and hit the **Run** button above."
   ]
  },
  {
   "cell_type": "code",
   "execution_count": 12,
   "metadata": {
    "deletable": false,
    "editable": false
   },
   "outputs": [
    {
     "name": "stdout",
     "output_type": "stream",
     "text": [
      "    actual diameter predicted_diameter\n",
      "1            34.274           40.45395\n",
      "4            38.490           81.08338\n",
      "15           16.840           58.76384\n",
      "24          151.711          116.84189\n",
      "29          118.803          117.48260\n",
      "35           49.460           80.84582\n",
      "36           48.424          167.79934\n",
      "38           84.787          124.88963\n",
      "41          142.380           73.07041\n",
      "45           86.090           69.43644\n",
      "48           54.874          148.30059\n",
      "56           85.937           79.20140\n",
      "60          129.125          143.85302\n",
      "61          160.736           85.26585\n",
      "69          120.600           93.57226\n",
      "71          127.639          127.47234\n",
      "74           19.768           63.81065\n",
      "75          103.000          105.16366\n",
      "81          143.346           78.36461\n",
      "90          180.652          139.69143\n",
      "96          222.792          109.80333\n",
      "100          52.393          119.56840\n",
      "106          32.894           53.78527\n",
      "107          11.696           47.97694\n",
      "108         122.000          118.50319\n",
      "115          72.660          152.81175\n",
      "126         115.974          157.72890\n",
      "129          93.109           82.92778\n",
      "131         141.125          129.59306\n",
      "141          52.010          140.51731\n",
      "160          39.030           77.53552\n",
      "177          53.290          101.73324\n",
      "182         190.980          118.18841\n",
      "188         525.400           73.32541\n",
      "198         168.900          143.13435\n",
      "203         162.515          119.52787\n",
      "205          28.903          106.08993\n",
      "206          97.968          134.53195\n",
      "208         170.630          165.84843\n",
      "211          28.981           53.22704\n",
      "213           6.350           44.97656\n",
      "215         108.000          105.56227\n",
      "216          75.949           68.48417\n",
      "218          94.970          121.68238\n",
      "227         216.473          117.78419\n",
      "233          52.929           55.41363\n",
      "235          69.389           91.62001\n",
      "236          35.465           54.65632\n",
      "245           8.934           25.81824\n",
      "247         939.400           85.50500\n",
      "249          69.818          103.02298\n",
      "252         103.055          114.13503\n",
      "259         126.590          107.76748\n",
      "270         168.174           85.56647\n",
      "279         165.010          108.79183\n",
      "281          43.890           71.77200\n",
      "282         155.132          140.76439\n",
      "285         185.180           67.81778\n",
      "290          96.890           99.37088\n",
      "293          20.221          105.59607\n",
      "295         117.916          103.60416\n",
      "297          77.056           98.82696\n",
      "316           4.824           15.17848\n",
      "322          29.970           92.30971\n",
      "323          40.056           42.34073\n",
      "332          28.856          129.67914\n",
      "338         204.890          133.75969\n",
      "344         115.087           69.33743\n",
      "345          62.377           77.91813\n",
      "347          72.175           76.15159\n",
      "352          13.239           64.31142\n",
      "353          84.074           85.13802\n",
      "359          70.676           49.54899\n",
      "360          34.242           56.16000\n",
      "366         120.900           59.75979\n",
      "369          14.403           32.53715\n",
      "370         138.130           85.01352\n",
      "373          69.855           82.46504\n",
      "374           3.975           18.81960\n",
      "386          27.974           34.97208\n",
      "392          19.037           88.72433\n",
      "400          41.128          125.54801\n",
      "401         115.383          104.06050\n",
      "410         128.578           81.72931\n",
      "415         122.000           99.59732\n",
      "420         303.918          152.26727\n",
      "421           3.400           13.53183\n",
      "422         267.080          159.68587\n",
      "434          47.804           91.07601\n",
      "439          88.648           59.03447\n",
      "453           9.300           43.79846\n",
      "457          62.483           84.30275\n"
     ]
    }
   ],
   "source": [
    "predicted_diameter <- predict(model_rf8, newdata=test.data, type='response')\n",
    "predicted_diameter_df <- data.frame(predicted_diameter)\n",
    "data <- cbind('actual diameter'=test.data$diameter, 'predicted diameter'=predicted_diameter_df)\n",
    "print(data)"
   ]
  },
  {
   "cell_type": "markdown",
   "metadata": {
    "deletable": false,
    "editable": false
   },
   "source": [
    "## End of Module Seven Jupyter Notebook\n",
    "The HTML output can be downloaded by clicking **File**, then **Download as**, then **HTML**. Be sure to answer all of the questions in the Module Seven Discussion. "
   ]
  }
 ],
 "metadata": {
  "kernelspec": {
   "display_name": "R",
   "language": "R",
   "name": "ir"
  },
  "language_info": {
   "codemirror_mode": "r",
   "file_extension": ".r",
   "mimetype": "text/x-r-source",
   "name": "R",
   "pygments_lexer": "r",
   "version": "3.4.4"
  }
 },
 "nbformat": 4,
 "nbformat_minor": 2
}
