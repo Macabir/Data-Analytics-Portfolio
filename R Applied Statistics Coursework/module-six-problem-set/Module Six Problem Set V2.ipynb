{
 "cells": [
  {
   "cell_type": "markdown",
   "metadata": {
    "deletable": false,
    "editable": false
   },
   "source": [
    "# Module Six Problem Set: Decision Trees\n",
    "\n",
    "In this notebook, you have been given a set of steps that will show you how to create and train a decision tree. It is very important to run the steps in order. Some steps depend on the outputs of earlier steps. Once you have run all the steps, you will be asked to create your own decision tree models to help you answer the questions in the Module Six Problem Set. You are expected to write the R script yourself to answer these questions.\n",
    "\n",
    "Reminder: If you have not already reviewed the Problem Set Report template for your Module Six Problem Set, be sure to do so now. That will give you an idea of the questions you will need to answer with the outputs of this script. You should use the code you are given as reference when writing your own scripts."
   ]
  },
  {
   "cell_type": "markdown",
   "metadata": {
    "deletable": false,
    "editable": false
   },
   "source": [
    "## Step 1: Loading the Data Set (for the Classification Decision Tree)\n",
    "You are a risk analyst working for a credit card company. You have access to a set of historical data that can be used to study the relationships between customer characteristics and whether or not they are likely to default on their credit. It is important for the company to calculate the risk that their customers will default on their credit. The table below shows some of the characteristics that will be used in the analysis below. \n",
    "\n",
    "This block of R code will load the **credit_card_default.csv** data set. Here are the variables that will be retained.\n",
    "\n",
    "| <div style=\"text-align: left\"> Variable </div>  |   <div style=\"text-align: left\"> What does it represent? </div> |\n",
    "| -- | --  |\n",
    "| <div style=\"text-align: left\"> age </div> | <div style=\"text-align: left\"> Age of the individual </div> |\n",
    "| <div style=\"text-align: left\"> sex </div> | <div style=\"text-align: left\"> Sex of individual (male or female) </div> |\n",
    "| <div style=\"text-align: left\"> education </div> | <div style=\"text-align: left\"> Highest education level attained (high school, college, or post graduate)</div> |\n",
    "| <div style=\"text-align: left\"> marriage </div> | <div style=\"text-align: left\"> Is the individual married or unmarried?</div> |\n",
    "| <div style=\"text-align: left\"> assets </div> | <div style=\"text-align: left\"> Assets owned by the individual (none, car only, house only, car and house) </div> |\n",
    "| <div style=\"text-align: left\"> missed_payment </div> | <div style=\"text-align: left\"> Did the individual miss payments in the last 3 months? (missed or none) </div> |\n",
    "| <div style=\"text-align: left\"> credit_utilize </div> | <div style=\"text-align: left\"> Credit utilization by the individual, meaning how much of the credit allowed is being used </div> |\n",
    "| <div style=\"text-align: left\"> default </div> | <div style=\"text-align: left\"> Did the individual default on their credit? (default, no default) </div> |\n",
    "Note: Credit utilization is expressed as a decimal representing the percentage of your total credit limit you have utilized. For example, if you have used 50% of your credit limit, the value of credit_utilize would be 0.50.\n",
    "\n",
    "Reference: \n",
    "Yeh, I. C., & Lien, C. H. (2009). The comparisons of data mining techniques for the predictive accuracy of probability of default of credit card clients. Expert Systems with Applications, 36(2), 2473-2480. Retrieved from https://archive.ics.uci.edu/ml/datasets/default+of+credit+card+clients \n",
    "\n",
    "\n",
    "Click the code section below and hit the **Run** button above.\n",
    "<br><br>\n",
    "<font color='red'>**Note:** The code section below will first install one R package: \"rpart.plot\". Please do not move to the next step until the package is fully installed. This will take some time. Once the installation is complete, this step will print first 6 rows of the data set.</font>"
   ]
  },
  {
   "cell_type": "code",
   "execution_count": 12,
   "metadata": {
    "deletable": false,
    "editable": false,
    "scrolled": true
   },
   "outputs": [
    {
     "name": "stdout",
     "output_type": "stream",
     "text": [
      "[1] \"The code section below will first install one R package: rpart.plot.\"\n",
      "[1] \"Please do not move to the next step until the package is fully installed.\"\n",
      "[1] \"This will take some time. Once the installation is complete, this step will print first 6 rows of the data set.\"\n"
     ]
    },
    {
     "name": "stderr",
     "output_type": "stream",
     "text": [
      "Installing package into '/home/codio/R/x86_64-pc-linux-gnu-library/3.4'\n",
      "(as 'lib' is unspecified)\n"
     ]
    },
    {
     "name": "stdout",
     "output_type": "stream",
     "text": [
      "[1] \"installation completed!\"\n",
      "[1] \"data set (first 6 rows)\"\n"
     ]
    },
    {
     "data": {
      "text/html": [
       "<table>\n",
       "<caption>A data.frame: 6 × 8</caption>\n",
       "<thead>\n",
       "\t<tr><th scope=col>age</th><th scope=col>sex</th><th scope=col>education</th><th scope=col>marriage</th><th scope=col>assets</th><th scope=col>missed_payment</th><th scope=col>credit_utilize</th><th scope=col>default</th></tr>\n",
       "\t<tr><th scope=col>&lt;int&gt;</th><th scope=col>&lt;fct&gt;</th><th scope=col>&lt;fct&gt;</th><th scope=col>&lt;fct&gt;</th><th scope=col>&lt;fct&gt;</th><th scope=col>&lt;fct&gt;</th><th scope=col>&lt;dbl&gt;</th><th scope=col>&lt;fct&gt;</th></tr>\n",
       "</thead>\n",
       "<tbody>\n",
       "\t<tr><td>28</td><td>male  </td><td>college     </td><td>married  </td><td>house    </td><td>no </td><td>0.191</td><td>no </td></tr>\n",
       "\t<tr><td>31</td><td>female</td><td>postgraduate</td><td>married  </td><td>car_house</td><td>no </td><td>0.196</td><td>no </td></tr>\n",
       "\t<tr><td>48</td><td>female</td><td>college     </td><td>married  </td><td>house    </td><td>yes</td><td>1.000</td><td>yes</td></tr>\n",
       "\t<tr><td>35</td><td>male  </td><td>high_school </td><td>married  </td><td>car      </td><td>yes</td><td>1.000</td><td>yes</td></tr>\n",
       "\t<tr><td>30</td><td>female</td><td>high_school </td><td>unmarried</td><td>car      </td><td>no </td><td>0.374</td><td>yes</td></tr>\n",
       "\t<tr><td>23</td><td>female</td><td>high_school </td><td>unmarried</td><td>house    </td><td>yes</td><td>0.970</td><td>yes</td></tr>\n",
       "</tbody>\n",
       "</table>\n"
      ],
      "text/latex": [
       "A data.frame: 6 × 8\n",
       "\\begin{tabular}{r|llllllll}\n",
       " age & sex & education & marriage & assets & missed\\_payment & credit\\_utilize & default\\\\\n",
       " <int> & <fct> & <fct> & <fct> & <fct> & <fct> & <dbl> & <fct>\\\\\n",
       "\\hline\n",
       "\t 28 & male   & college      & married   & house     & no  & 0.191 & no \\\\\n",
       "\t 31 & female & postgraduate & married   & car\\_house & no  & 0.196 & no \\\\\n",
       "\t 48 & female & college      & married   & house     & yes & 1.000 & yes\\\\\n",
       "\t 35 & male   & high\\_school  & married   & car       & yes & 1.000 & yes\\\\\n",
       "\t 30 & female & high\\_school  & unmarried & car       & no  & 0.374 & yes\\\\\n",
       "\t 23 & female & high\\_school  & unmarried & house     & yes & 0.970 & yes\\\\\n",
       "\\end{tabular}\n"
      ],
      "text/markdown": [
       "\n",
       "A data.frame: 6 × 8\n",
       "\n",
       "| age &lt;int&gt; | sex &lt;fct&gt; | education &lt;fct&gt; | marriage &lt;fct&gt; | assets &lt;fct&gt; | missed_payment &lt;fct&gt; | credit_utilize &lt;dbl&gt; | default &lt;fct&gt; |\n",
       "|---|---|---|---|---|---|---|---|\n",
       "| 28 | male   | college      | married   | house     | no  | 0.191 | no  |\n",
       "| 31 | female | postgraduate | married   | car_house | no  | 0.196 | no  |\n",
       "| 48 | female | college      | married   | house     | yes | 1.000 | yes |\n",
       "| 35 | male   | high_school  | married   | car       | yes | 1.000 | yes |\n",
       "| 30 | female | high_school  | unmarried | car       | no  | 0.374 | yes |\n",
       "| 23 | female | high_school  | unmarried | house     | yes | 0.970 | yes |\n",
       "\n"
      ],
      "text/plain": [
       "  age sex    education    marriage  assets    missed_payment credit_utilize\n",
       "1 28  male   college      married   house     no             0.191         \n",
       "2 31  female postgraduate married   car_house no             0.196         \n",
       "3 48  female college      married   house     yes            1.000         \n",
       "4 35  male   high_school  married   car       yes            1.000         \n",
       "5 30  female high_school  unmarried car       no             0.374         \n",
       "6 23  female high_school  unmarried house     yes            0.970         \n",
       "  default\n",
       "1 no     \n",
       "2 no     \n",
       "3 yes    \n",
       "4 yes    \n",
       "5 yes    \n",
       "6 yes    "
      ]
     },
     "metadata": {},
     "output_type": "display_data"
    }
   ],
   "source": [
    "print(\"The code section below will first install one R package: rpart.plot.\")\n",
    "print(\"Please do not move to the next step until the package is fully installed.\")\n",
    "print(\"This will take some time. Once the installation is complete, this step will print first 6 rows of the data set.\")\n",
    "\n",
    "\n",
    "# Loading package to show the decision tree\n",
    "install.packages(\"rpart.plot\")\n",
    "\n",
    "# Loading credit card default data set\n",
    "credit_default <- read.csv(file='credit_card_default.csv', header=TRUE, sep=\",\")\n",
    "\n",
    "print(\"installation completed!\")\n",
    "print(\"data set (first 6 rows)\")\n",
    "head(credit_default, 6)"
   ]
  },
  {
   "cell_type": "markdown",
   "metadata": {},
   "source": [
    " "
   ]
  },
  {
   "cell_type": "markdown",
   "metadata": {
    "deletable": false,
    "editable": false
   },
   "source": [
    "## Step 2: Splitting Data into Training and Testing Sets\n",
    "In this step, you will split the data set into training and testing sets. The training set will be used to create the decision tree model and the testing set will be used to validate the model that is created. The training set and testing set split will be 60% and 40%, respectively. \n",
    "<br><br>\n",
    "\n",
    "<font color='red'>**Do not change the seed value!**</font>\n",
    "\n",
    "\n",
    "Click the block of code below and hit the **Run** button above.  "
   ]
  },
  {
   "cell_type": "code",
   "execution_count": 12,
   "metadata": {
    "deletable": false,
    "editable": false,
    "scrolled": true
   },
   "outputs": [
    {
     "name": "stdout",
     "output_type": "stream",
     "text": [
      "[1] \"Number of rows for the training set\"\n"
     ]
    },
    {
     "data": {
      "text/html": [
       "360"
      ],
      "text/latex": [
       "360"
      ],
      "text/markdown": [
       "360"
      ],
      "text/plain": [
       "[1] 360"
      ]
     },
     "metadata": {},
     "output_type": "display_data"
    },
    {
     "name": "stdout",
     "output_type": "stream",
     "text": [
      "[1] \"Number of rows for the validation set\"\n"
     ]
    },
    {
     "data": {
      "text/html": [
       "240"
      ],
      "text/latex": [
       "240"
      ],
      "text/markdown": [
       "240"
      ],
      "text/plain": [
       "[1] 240"
      ]
     },
     "metadata": {},
     "output_type": "display_data"
    }
   ],
   "source": [
    "set.seed(507690)\n",
    "\n",
    "# Partition the data set into training and testing data\n",
    "samp.size = floor(0.60*nrow(credit_default))\n",
    "\n",
    "# Training set\n",
    "print(\"Number of rows for the training set\")\n",
    "train_ind = sample(seq_len(nrow(credit_default)), size = samp.size)\n",
    "train.data1 = credit_default[train_ind,]\n",
    "nrow(train.data1)\n",
    "\n",
    "# Testing set \n",
    "print(\"Number of rows for the validation set\")\n",
    "test.data1 = credit_default[-train_ind,]\n",
    "nrow(test.data1)"
   ]
  },
  {
   "cell_type": "markdown",
   "metadata": {},
   "source": [
    " "
   ]
  },
  {
   "cell_type": "markdown",
   "metadata": {
    "deletable": false,
    "editable": false
   },
   "source": [
    "## Step 3: Constructing the Classification Decision Tree\n",
    "This step will create the decision tree classification model to predict an individual defaulting on their credit using missed payments, education, and age. The R **rpart** library includes a method *rpart* that can create a decision tree classifier. This method can take several arguments to optimize the tree, but we will start with only assigning minimum split to 15. The minimum split is the minimum number of observations that must exist in a node in order for a split to be attempted. \n",
    "<br><br>\n",
    "\n",
    "<font color='red'>**Do not change the seed value!**</font>\n",
    "\n",
    "\n",
    "Click the block of code below and hit the **Run** button above.  "
   ]
  },
  {
   "cell_type": "code",
   "execution_count": 3,
   "metadata": {
    "deletable": false,
    "editable": false,
    "scrolled": false
   },
   "outputs": [
    {
     "name": "stdout",
     "output_type": "stream",
     "text": [
      "\n",
      "Classification tree:\n",
      "rpart(formula = default ~ missed_payment + education + age, data = train.data1, \n",
      "    method = \"class\", control = rpart.control(minsplit = 10))\n",
      "\n",
      "Variables actually used in tree construction:\n",
      "[1] age            education      missed_payment\n",
      "\n",
      "Root node error: 159/360 = 0.44167\n",
      "\n",
      "n= 360 \n",
      "\n",
      "        CP nsplit rel error  xerror     xstd\n",
      "1 0.496855      0   1.00000 1.00000 0.059258\n",
      "2 0.081761      1   0.50314 0.50314 0.049611\n",
      "3 0.018868      3   0.33962 0.35849 0.043562\n",
      "4 0.015723      4   0.32075 0.38994 0.045056\n",
      "5 0.010000      6   0.28931 0.35849 0.043562\n"
     ]
    }
   ],
   "source": [
    "set.seed(507690)\n",
    "\n",
    "library(rpart)\n",
    "model1 <- rpart(default ~ missed_payment + education + age, method=\"class\", data=train.data1, control = rpart.control(minsplit=10))\n",
    "printcp(model1)"
   ]
  },
  {
   "cell_type": "markdown",
   "metadata": {
    "deletable": false,
    "editable": false
   },
   "source": [
    "## Step 4: Cross Validation Error and Cost-Complexity\n",
    "This block of R code will plot cross validation errors against cost-complexity parameter **cp**. This will assist you in selecting an appropriate model by pruning the tree. A horizontal red line will be drawn one standard error above the minimum error. In general, the largest **cp** value that achieves a cross validation error below the red line is chosen to prune the tree.\n",
    "\n",
    "Click the code section below and hit the **Run** button above."
   ]
  },
  {
   "cell_type": "code",
   "execution_count": 4,
   "metadata": {
    "deletable": false,
    "editable": false,
    "scrolled": false
   },
   "outputs": [
    {
     "data": {
      "image/png": "[encoded data removed]",
      "text/plain": [
       "plot without title"
      ]
     },
     "metadata": {},
     "output_type": "display_data"
    }
   ],
   "source": [
    "#plotcp(model) # Visualize cross validation results\n",
    "plotcp(model1, minline = TRUE, lty = 3, col = 2, upper = c(\"size\", \"splits\", \"none\"))"
   ]
  },
  {
   "cell_type": "markdown",
   "metadata": {},
   "source": [
    " "
   ]
  },
  {
   "cell_type": "markdown",
   "metadata": {
    "deletable": false,
    "editable": false
   },
   "source": [
    "## Step 5: Pruning the Tree\n",
    "Using the plot in step 4, a good choice of cp for pruning is often the leftmost value for which the error lies below the horizontal red line. We will pick cp=0.039 and rerun the model, setting the cp parameter to this value. \n",
    "<br><br>\n",
    "\n",
    "<font color='red'>**Do not change the seed value!**</font>\n",
    "\n",
    "\n",
    "Click the code section below and hit the **Run** button above."
   ]
  },
  {
   "cell_type": "code",
   "execution_count": 5,
   "metadata": {
    "deletable": false,
    "editable": false
   },
   "outputs": [
    {
     "name": "stdout",
     "output_type": "stream",
     "text": [
      "\n",
      "Classification tree:\n",
      "rpart(formula = default ~ missed_payment + education + age, data = train.data1, \n",
      "    method = \"class\", control = rpart.control(cp = 0.039))\n",
      "\n",
      "Variables actually used in tree construction:\n",
      "[1] education      missed_payment\n",
      "\n",
      "Root node error: 159/360 = 0.44167\n",
      "\n",
      "n= 360 \n",
      "\n",
      "        CP nsplit rel error  xerror     xstd\n",
      "1 0.496855      0   1.00000 1.00000 0.059258\n",
      "2 0.081761      1   0.50314 0.50314 0.049611\n",
      "3 0.039000      3   0.33962 0.33962 0.042610\n"
     ]
    }
   ],
   "source": [
    "set.seed(507690)\n",
    "pruned_model1 <- rpart(default ~ missed_payment + education + age, method=\"class\",  data=train.data1, control = rpart.control(cp = 0.039))\n",
    "printcp(pruned_model1)"
   ]
  },
  {
   "cell_type": "markdown",
   "metadata": {},
   "source": [
    " "
   ]
  },
  {
   "cell_type": "markdown",
   "metadata": {
    "deletable": false,
    "editable": false
   },
   "source": [
    "## Step 6: Plotting the Classification Decision Tree\n",
    "This block of R code will provide a visual of the pruned decision tree model.\n",
    "<br><br>\n",
    "Each node shows:\n",
    "- The predicted class (default or no default)\n",
    "- The predicted probability of the event (defaulting)\n",
    "- The percentage of observations in the node\n",
    "\n",
    "\n",
    "Click the code section below and hit the **Run** button above."
   ]
  },
  {
   "cell_type": "code",
   "execution_count": 6,
   "metadata": {
    "deletable": false,
    "editable": false,
    "scrolled": false
   },
   "outputs": [
    {
     "data": {
      "image/png": "[encoded data removed]",
      "text/plain": [
       "plot without title"
      ]
     },
     "metadata": {},
     "output_type": "display_data"
    }
   ],
   "source": [
    "library(rpart.plot)\n",
    "rpart.plot(pruned_model1)"
   ]
  },
  {
   "cell_type": "markdown",
   "metadata": {
    "deletable": false,
    "editable": false
   },
   "source": [
    "### Interpreting the tree\n",
    "As an example, the lower-right box can be interpreted as:\n",
    "- education=\"postgraduate\" is no (meaning that the individual is not a postgraduate).\n",
    "- missed_payment=\"no\" is no (meaning that the individual has missed payments). \n",
    "<br><br>\n",
    "\n",
    "This box should say \"Yes, 0.92, 41%\".\n",
    "- \"Yes\" means that majority of the observations are default=Yes (meaning that the individual defaulted).\n",
    "- 0.92 means that the probability of defaulting in that box is 0.92.\n",
    "- 41% means that 41% of the total observations in the training set fall in that node."
   ]
  },
  {
   "cell_type": "markdown",
   "metadata": {
    "deletable": false,
    "editable": false
   },
   "source": [
    "## Step 7: Confusion Matrix\n",
    "This block of R code will obtain the confusion matrix using the model on the testing set. It will calculate the accuracy, precision, and recall. The confusion matrix, also known as an error matrix, allows us to evaluate the performance of the model. The rows of the table represent the predicted outcomes while the columns represent the actual outcomes. The table output is of the form:\n",
    "\n",
    "\n",
    "|              | **Prediction = 0**        | **Prediction = 1**        |\n",
    "|--------------|-----------------|-----------------|\n",
    "| **Actual = 0** | True Negatives  | False Positives |\n",
    "| **Actual = 1** | False Negatives | True Positives  |\n",
    "\n",
    "- True Positive (TP): The actual value is 1 (default=1) and the predicted value is 1 (default=1), hence a true positive. \n",
    "- True Negative (TN): The actual value is 0 (default=0) and the predicted value is 0 (default=0), hence a true negative. \n",
    "- False Positive (FP): The actual value is 0 (default=0) and the predicted value is 1 (default=1), hence a false positive. This is also the Type 1 Error.\n",
    "- False Negative (FN): The actual value is 1 (default=1) and the predicted value is 0 (default=0), hence a false negative. This is also the Type 2 Error.\n",
    "\n",
    "<br><br>\n",
    "\n",
    "**Accuracy** is the ratio of the number of correct predictions to the total number of observations.\n",
    "<br><br>\n",
    "\\begin{equation*}\n",
    "Accuracy = \\frac{TP\\ +\\ TN}{TP\\ +\\ TN\\ +\\ FP\\ + FN} \n",
    "\\end{equation*}\n",
    "\n",
    "<br><br>\n",
    "\n",
    "**Precision** is the ratio of correct positive predictions to the total predicted positives.\n",
    "<br><br>\n",
    "\\begin{equation*}\n",
    "Precision = \\frac{TP}{TP\\ +\\ FP} \n",
    "\\end{equation*}\n",
    "\n",
    "<br><br>\n",
    "\n",
    "**Recall** is the ratio of correct positive predictions to the total positives examples.\n",
    "\n",
    "\\begin{equation*}\n",
    "Recall = \\frac{TP}{TP\\ +\\ FN} \n",
    "\\end{equation*}\n",
    "\n",
    "<br><br>\n",
    "\n",
    "Click the code section below and hit the **Run** button above."
   ]
  },
  {
   "cell_type": "code",
   "execution_count": 7,
   "metadata": {
    "deletable": false,
    "editable": false
   },
   "outputs": [
    {
     "name": "stdout",
     "output_type": "stream",
     "text": [
      "[1] \"Confusion Matrix\"\n"
     ]
    },
    {
     "data": {
      "text/html": [
       "<table>\n",
       "<caption>A matrix: 2 × 2 of type chr</caption>\n",
       "<thead>\n",
       "\t<tr><th></th><th scope=col>Prediction default : no</th><th scope=col>Prediction default : yes</th></tr>\n",
       "</thead>\n",
       "<tbody>\n",
       "\t<tr><th scope=row>Actual default : no</th><td>93</td><td>24</td></tr>\n",
       "\t<tr><th scope=row>Actual default : yes</th><td>27</td><td>96</td></tr>\n",
       "</tbody>\n",
       "</table>\n"
      ],
      "text/latex": [
       "A matrix: 2 × 2 of type chr\n",
       "\\begin{tabular}{r|ll}\n",
       "  & Prediction default : no & Prediction default : yes\\\\\n",
       "\\hline\n",
       "\tActual default : no & 93 & 24\\\\\n",
       "\tActual default : yes & 27 & 96\\\\\n",
       "\\end{tabular}\n"
      ],
      "text/markdown": [
       "\n",
       "A matrix: 2 × 2 of type chr\n",
       "\n",
       "| <!--/--> | Prediction default : no | Prediction default : yes |\n",
       "|---|---|---|\n",
       "| Actual default : no | 93 | 24 |\n",
       "| Actual default : yes | 27 | 96 |\n",
       "\n"
      ],
      "text/plain": [
       "                      pred\n",
       "                       Prediction default : no Prediction default : yes\n",
       "  Actual default : no  93                      24                      \n",
       "  Actual default : yes 27                      96                      "
      ]
     },
     "metadata": {},
     "output_type": "display_data"
    }
   ],
   "source": [
    "# Make predictions on the test data\n",
    "pred <- predict(pruned_model1, newdata=test.data1, type='class')\n",
    "\n",
    "# Construct the confusion matrix\n",
    "conf.matrix <- table(test.data1$default, pred)[,c('no','yes')]\n",
    "rownames(conf.matrix) <- paste(\"Actual default \", rownames(conf.matrix), sep = \": \")\n",
    "colnames(conf.matrix) <- paste(\"Prediction default \", colnames(conf.matrix), sep = \": \")\n",
    "\n",
    "# Print nicely formatted confusion matrix\n",
    "print(\"Confusion Matrix\")\n",
    "format(conf.matrix,justify=\"centre\",digit=2)"
   ]
  },
  {
   "cell_type": "markdown",
   "metadata": {},
   "source": [
    " "
   ]
  },
  {
   "cell_type": "markdown",
   "metadata": {
    "deletable": false,
    "editable": false
   },
   "source": [
    "## Step 7: Prediction\n",
    "The classification decision tree model can now be used to make predictions.   \n",
    "\n",
    "Click the block of code below and hit the **Run** button above.  "
   ]
  },
  {
   "cell_type": "code",
   "execution_count": 8,
   "metadata": {
    "deletable": false,
    "editable": false,
    "scrolled": true
   },
   "outputs": [
    {
     "name": "stdout",
     "output_type": "stream",
     "text": [
      "[1] \"Prediction for defaulting (yes or no): missed_payment='none', education='postgraduate', age=42\"\n"
     ]
    },
    {
     "data": {
      "text/html": [
       "<strong>1:</strong> no\n",
       "<details>\n",
       "\t<summary style=display:list-item;cursor:pointer>\n",
       "\t\t<strong>Levels</strong>:\n",
       "\t</summary>\n",
       "\t<ol class=list-inline>\n",
       "\t\t<li>'no'</li>\n",
       "\t\t<li>'yes'</li>\n",
       "\t</ol>\n",
       "</details>"
      ],
      "text/latex": [
       "\\textbf{1:} no\n",
       "\\emph{Levels}: \\begin{enumerate*}\n",
       "\\item 'no'\n",
       "\\item 'yes'\n",
       "\\end{enumerate*}\n"
      ],
      "text/markdown": [
       "**1:** no\n",
       "**Levels**: 1. 'no'\n",
       "2. 'yes'\n",
       "\n",
       "\n"
      ],
      "text/plain": [
       " 1 \n",
       "no \n",
       "Levels: no yes"
      ]
     },
     "metadata": {},
     "output_type": "display_data"
    },
    {
     "name": "stdout",
     "output_type": "stream",
     "text": [
      "[1] \"Prediction for defaulting (yes or no): missed_payment='missed', education='high_school', age=42\"\n"
     ]
    },
    {
     "data": {
      "text/html": [
       "<strong>1:</strong> yes\n",
       "<details>\n",
       "\t<summary style=display:list-item;cursor:pointer>\n",
       "\t\t<strong>Levels</strong>:\n",
       "\t</summary>\n",
       "\t<ol class=list-inline>\n",
       "\t\t<li>'no'</li>\n",
       "\t\t<li>'yes'</li>\n",
       "\t</ol>\n",
       "</details>"
      ],
      "text/latex": [
       "\\textbf{1:} yes\n",
       "\\emph{Levels}: \\begin{enumerate*}\n",
       "\\item 'no'\n",
       "\\item 'yes'\n",
       "\\end{enumerate*}\n"
      ],
      "text/markdown": [
       "**1:** yes\n",
       "**Levels**: 1. 'no'\n",
       "2. 'yes'\n",
       "\n",
       "\n"
      ],
      "text/plain": [
       "  1 \n",
       "yes \n",
       "Levels: no yes"
      ]
     },
     "metadata": {},
     "output_type": "display_data"
    }
   ],
   "source": [
    "print(\"Prediction for defaulting (yes or no): missed_payment='none', education='postgraduate', age=42\")\n",
    "newdata1 <- data.frame(missed_payment='no', education='postgraduate', age=42)\n",
    "predict(pruned_model1, newdata1, type='class')\n",
    "\n",
    "print(\"Prediction for defaulting (yes or no): missed_payment='missed', education='high_school', age=42\")\n",
    "newdata2 <- data.frame(missed_payment='yes', education='high_school', age=42)\n",
    "predict(pruned_model1, newdata2, type='class')"
   ]
  },
  {
   "cell_type": "markdown",
   "metadata": {},
   "source": [
    " "
   ]
  },
  {
   "cell_type": "markdown",
   "metadata": {
    "deletable": false,
    "editable": false
   },
   "source": [
    "## Step 8: Loading the Data Set (for the Regression Decision Tree)\n",
    "You are an analyst working for the government and you have access to a set of historical data that can be used to study wage growth of the labor force. Governments are interested in studying wage growth patterns based on their economic agenda. This data set has other economic factors that are related to wage growth. You will use this data set to create models for wage growth.\n",
    "\n",
    "This block of R code will load the **economic** data set from a CSV file. It will then display the first six rows of the data. Here are the variables contained in the data set: \n",
    "\n",
    "| <div style=\"text-align: left\"> Variable </div>  |   <div style=\"text-align: left\"> What does it represent? </div> |\n",
    "| -- | --  |\n",
    "| <div style=\"text-align: left\"> wage_growth </div> | <div style=\"text-align: left\"> Wage growth rate </div> |\n",
    "| <div style=\"text-align: left\"> inflation </div> | <div style=\"text-align: left\"> Rate of inflation </div> |\n",
    "| <div style=\"text-align: left\"> unemployment </div> | <div style=\"text-align: left\"> Unemployment rate</div> |\n",
    "| <div style=\"text-align: left\"> economy </div> | <div style=\"text-align: left\"> Economy in recession or not in recession </div> |\n",
    "| <div style=\"text-align: left\"> gdp </div> | <div style=\"text-align: left\"> GDP growth rate </div> |\n",
    "\n",
    "Note: This is a simulated data set based on a real-world problem.\n",
    "\n",
    "Click the code section below and hit the **Run** button above."
   ]
  },
  {
   "cell_type": "code",
   "execution_count": 2,
   "metadata": {
    "deletable": false,
    "editable": false,
    "scrolled": true
   },
   "outputs": [
    {
     "name": "stdout",
     "output_type": "stream",
     "text": [
      "[1] \"head\"\n"
     ]
    },
    {
     "data": {
      "text/html": [
       "<table>\n",
       "<caption>A data.frame: 6 × 6</caption>\n",
       "<thead>\n",
       "\t<tr><th scope=col>wage_growth</th><th scope=col>inflation</th><th scope=col>unemployment</th><th scope=col>economy</th><th scope=col>education</th><th scope=col>gdp</th></tr>\n",
       "\t<tr><th scope=col>&lt;dbl&gt;</th><th scope=col>&lt;dbl&gt;</th><th scope=col>&lt;dbl&gt;</th><th scope=col>&lt;fct&gt;</th><th scope=col>&lt;fct&gt;</th><th scope=col>&lt;dbl&gt;</th></tr>\n",
       "</thead>\n",
       "<tbody>\n",
       "\t<tr><td> 7.30</td><td> 4.49</td><td>3.56</td><td>no_recession</td><td>college      </td><td> 6.27</td></tr>\n",
       "\t<tr><td> 9.05</td><td> 9.59</td><td>2.42</td><td>no_recession</td><td>college      </td><td> 9.44</td></tr>\n",
       "\t<tr><td>10.08</td><td>11.36</td><td>1.23</td><td>no_recession</td><td>post_graduate</td><td>18.29</td></tr>\n",
       "\t<tr><td>10.98</td><td> 9.55</td><td>1.18</td><td>no_recession</td><td>post_graduate</td><td>19.96</td></tr>\n",
       "\t<tr><td> 8.54</td><td> 8.63</td><td>2.54</td><td>no_recession</td><td>high_school  </td><td> 8.43</td></tr>\n",
       "\t<tr><td> 9.75</td><td> 8.26</td><td>2.22</td><td>no_recession</td><td>college      </td><td>17.85</td></tr>\n",
       "</tbody>\n",
       "</table>\n"
      ],
      "text/latex": [
       "A data.frame: 6 × 6\n",
       "\\begin{tabular}{r|llllll}\n",
       " wage\\_growth & inflation & unemployment & economy & education & gdp\\\\\n",
       " <dbl> & <dbl> & <dbl> & <fct> & <fct> & <dbl>\\\\\n",
       "\\hline\n",
       "\t  7.30 &  4.49 & 3.56 & no\\_recession & college       &  6.27\\\\\n",
       "\t  9.05 &  9.59 & 2.42 & no\\_recession & college       &  9.44\\\\\n",
       "\t 10.08 & 11.36 & 1.23 & no\\_recession & post\\_graduate & 18.29\\\\\n",
       "\t 10.98 &  9.55 & 1.18 & no\\_recession & post\\_graduate & 19.96\\\\\n",
       "\t  8.54 &  8.63 & 2.54 & no\\_recession & high\\_school   &  8.43\\\\\n",
       "\t  9.75 &  8.26 & 2.22 & no\\_recession & college       & 17.85\\\\\n",
       "\\end{tabular}\n"
      ],
      "text/markdown": [
       "\n",
       "A data.frame: 6 × 6\n",
       "\n",
       "| wage_growth &lt;dbl&gt; | inflation &lt;dbl&gt; | unemployment &lt;dbl&gt; | economy &lt;fct&gt; | education &lt;fct&gt; | gdp &lt;dbl&gt; |\n",
       "|---|---|---|---|---|---|\n",
       "|  7.30 |  4.49 | 3.56 | no_recession | college       |  6.27 |\n",
       "|  9.05 |  9.59 | 2.42 | no_recession | college       |  9.44 |\n",
       "| 10.08 | 11.36 | 1.23 | no_recession | post_graduate | 18.29 |\n",
       "| 10.98 |  9.55 | 1.18 | no_recession | post_graduate | 19.96 |\n",
       "|  8.54 |  8.63 | 2.54 | no_recession | high_school   |  8.43 |\n",
       "|  9.75 |  8.26 | 2.22 | no_recession | college       | 17.85 |\n",
       "\n"
      ],
      "text/plain": [
       "  wage_growth inflation unemployment economy      education     gdp  \n",
       "1  7.30        4.49     3.56         no_recession college        6.27\n",
       "2  9.05        9.59     2.42         no_recession college        9.44\n",
       "3 10.08       11.36     1.23         no_recession post_graduate 18.29\n",
       "4 10.98        9.55     1.18         no_recession post_graduate 19.96\n",
       "5  8.54        8.63     2.54         no_recession high_school    8.43\n",
       "6  9.75        8.26     2.22         no_recession college       17.85"
      ]
     },
     "metadata": {},
     "output_type": "display_data"
    }
   ],
   "source": [
    "# Load the data set\n",
    "economic <- read.csv(file='economic.csv', header=TRUE, sep=\",\")\n",
    "\n",
    "# Print the first six rows\n",
    "print(\"head\")\n",
    "head(economic, 6)"
   ]
  },
  {
   "cell_type": "markdown",
   "metadata": {},
   "source": [
    " "
   ]
  },
  {
   "cell_type": "markdown",
   "metadata": {
    "deletable": false,
    "editable": false
   },
   "source": [
    "## Step 9: Splitting Data into Training and Testing Sets\n",
    "In this step, you will split the data set into training and testing sets. The training set will be used to create the decision tree model and the testing set will be used to test the model that is created. The training set and testing set split will be 80% and 20%, respectively. \n",
    "<br><br>\n",
    "\n",
    "<font color='red'>**Do not change the seed value!**</font>\n",
    "\n",
    "\n",
    "Click the block of code below and hit the **Run** button above.  "
   ]
  },
  {
   "cell_type": "code",
   "execution_count": 10,
   "metadata": {
    "deletable": false,
    "editable": false
   },
   "outputs": [
    {
     "name": "stdout",
     "output_type": "stream",
     "text": [
      "[1] \"Number of rows for the training set\"\n"
     ]
    },
    {
     "data": {
      "text/html": [
       "79"
      ],
      "text/latex": [
       "79"
      ],
      "text/markdown": [
       "79"
      ],
      "text/plain": [
       "[1] 79"
      ]
     },
     "metadata": {},
     "output_type": "display_data"
    },
    {
     "name": "stdout",
     "output_type": "stream",
     "text": [
      "[1] \"Number of rows for the testing set\"\n"
     ]
    },
    {
     "data": {
      "text/html": [
       "20"
      ],
      "text/latex": [
       "20"
      ],
      "text/markdown": [
       "20"
      ],
      "text/plain": [
       "[1] 20"
      ]
     },
     "metadata": {},
     "output_type": "display_data"
    }
   ],
   "source": [
    "set.seed(507690)\n",
    "\n",
    "# Partition the data set into training and testing data\n",
    "samp.size = floor(0.80*nrow(economic))\n",
    "\n",
    "# Training set\n",
    "print(\"Number of rows for the training set\")\n",
    "train_ind = sample(seq_len(nrow(economic)), size = samp.size)\n",
    "train.data2 = economic[train_ind,]\n",
    "nrow(train.data2)\n",
    "\n",
    "# Testing set \n",
    "print(\"Number of rows for the testing set\")\n",
    "test.data2 = economic[-train_ind,]\n",
    "nrow(test.data2)"
   ]
  },
  {
   "cell_type": "markdown",
   "metadata": {},
   "source": [
    " "
   ]
  },
  {
   "cell_type": "markdown",
   "metadata": {
    "deletable": false,
    "editable": false
   },
   "source": [
    "## Step 10: Constructing the Regression Decision Tree\n",
    "This step will create the decision tree regression model to predict wage growth using economy and inflation. Since we are now creating a regression tree, the method will be set to \"anova\". The minimum split will be set to 10. \n",
    "<br><br>\n",
    "\n",
    "<font color='red'>**Do not change the seed value!**</font>\n",
    "\n",
    "\n",
    "Click the block of code below and hit the **Run** button above.  "
   ]
  },
  {
   "cell_type": "code",
   "execution_count": 11,
   "metadata": {
    "deletable": false,
    "editable": false
   },
   "outputs": [
    {
     "name": "stdout",
     "output_type": "stream",
     "text": [
      "\n",
      "Regression tree:\n",
      "rpart(formula = wage_growth ~ economy + inflation + gdp, data = train.data2, \n",
      "    method = \"anova\", control = rpart.control(minsplit = 10))\n",
      "\n",
      "Variables actually used in tree construction:\n",
      "[1] gdp       inflation\n",
      "\n",
      "Root node error: 614.68/79 = 7.7807\n",
      "\n",
      "n= 79 \n",
      "\n",
      "        CP nsplit rel error  xerror     xstd\n",
      "1 0.700601      0   1.00000 1.02934 0.137290\n",
      "2 0.109853      1   0.29940 0.34596 0.045181\n",
      "3 0.059054      2   0.18955 0.30416 0.045567\n",
      "4 0.020454      3   0.13049 0.22644 0.033865\n",
      "5 0.018098      4   0.11004 0.20723 0.029033\n",
      "6 0.011350      5   0.09194 0.21182 0.029647\n",
      "7 0.010000      6   0.08059 0.18480 0.026645\n"
     ]
    }
   ],
   "source": [
    "set.seed(507690)\n",
    "\n",
    "library(rpart)\n",
    "model2 <- rpart(wage_growth ~ economy + inflation + gdp, method=\"anova\", data=train.data2, control = rpart.control(minsplit=10))\n",
    "printcp(model2)"
   ]
  },
  {
   "cell_type": "markdown",
   "metadata": {},
   "source": [
    " "
   ]
  },
  {
   "cell_type": "markdown",
   "metadata": {
    "deletable": false,
    "editable": false
   },
   "source": [
    "## Step 11: Cross Validation Error and Cost-Complexity\n",
    "This block of R code will plot cross validation errors against the cost-complexity parameter **cp**. This will assist you in selecting an appropriate model by pruning the tree. A horizontal red line will be drawn one standard error above the minimum error. In general, the largest **cp** value that achieves a cross validation error below the red line is chosen to prune the tree.\n",
    "\n",
    "Click the code section below and hit the **Run** button above."
   ]
  },
  {
   "cell_type": "code",
   "execution_count": 12,
   "metadata": {
    "deletable": false,
    "editable": false
   },
   "outputs": [
    {
     "data": {
      "image/png": "[encoded data removed]",
      "text/plain": [
       "plot without title"
      ]
     },
     "metadata": {},
     "output_type": "display_data"
    }
   ],
   "source": [
    "# Visualize cross validation results\n",
    "plotcp(model2, minline = TRUE, lty = 3, col = 2, upper = c(\"size\", \"splits\", \"none\"))"
   ]
  },
  {
   "cell_type": "markdown",
   "metadata": {},
   "source": [
    " "
   ]
  },
  {
   "cell_type": "markdown",
   "metadata": {
    "deletable": false,
    "editable": false
   },
   "source": [
    "## Step 12: Pruning the Tree\n",
    "A good choice of cp for pruning is often the leftmost value for which the mean lies below the horizontal red line. Using the plot in step 11, we will pick cp=0.019 and rerun the model setting the cp parameter to this value. \n",
    "<br><br>\n",
    "\n",
    "<font color='red'>**Do not change the seed value!**</font>\n",
    "\n",
    "\n",
    "Click the code section below and hit the **Run** button above."
   ]
  },
  {
   "cell_type": "code",
   "execution_count": 13,
   "metadata": {
    "deletable": false,
    "editable": false
   },
   "outputs": [
    {
     "name": "stdout",
     "output_type": "stream",
     "text": [
      "\n",
      "Regression tree:\n",
      "rpart(formula = wage_growth ~ economy + inflation + gdp, data = train.data2, \n",
      "    method = \"anova\", control = rpart.control(cp = 0.019))\n",
      "\n",
      "Variables actually used in tree construction:\n",
      "[1] gdp       inflation\n",
      "\n",
      "Root node error: 614.68/79 = 7.7807\n",
      "\n",
      "n= 79 \n",
      "\n",
      "        CP nsplit rel error  xerror     xstd\n",
      "1 0.700601      0   1.00000 1.02934 0.137290\n",
      "2 0.109853      1   0.29940 0.34596 0.045181\n",
      "3 0.059054      2   0.18955 0.30416 0.045567\n",
      "4 0.020454      3   0.13049 0.23743 0.035955\n",
      "5 0.019000      4   0.11004 0.21898 0.031540\n"
     ]
    }
   ],
   "source": [
    "set.seed(507690)\n",
    "pruned_model2 <- rpart(wage_growth ~ economy + inflation + gdp, method=\"anova\",  data=train.data2, control = rpart.control(cp = 0.019))\n",
    "printcp(pruned_model2)"
   ]
  },
  {
   "cell_type": "markdown",
   "metadata": {},
   "source": [
    " "
   ]
  },
  {
   "cell_type": "markdown",
   "metadata": {
    "deletable": false,
    "editable": false
   },
   "source": [
    "## Step 13: Plotting the Classification Decision Tree\n",
    "This block of R code will provide a visual of the pruned decision tree model from the previous step.\n",
    "\n",
    "Click the code section below and hit the **Run** button above."
   ]
  },
  {
   "cell_type": "code",
   "execution_count": 14,
   "metadata": {
    "deletable": false,
    "editable": false,
    "scrolled": false
   },
   "outputs": [
    {
     "data": {
      "image/png": "[encoded data removed]",
      "text/plain": [
       "plot without title"
      ]
     },
     "metadata": {},
     "output_type": "display_data"
    }
   ],
   "source": [
    "library(rpart.plot)\n",
    "rpart.plot(pruned_model2)"
   ]
  },
  {
   "cell_type": "markdown",
   "metadata": {},
   "source": [
    " "
   ]
  },
  {
   "cell_type": "markdown",
   "metadata": {
    "deletable": false,
    "editable": false
   },
   "source": [
    "## Step 14: Root Mean Squared Error (RMSE)\n",
    "In this step, you will calculate the Root Mean Squared Error (RMSE). RMSE is the standard deviation of prediction errors. Recall that the prediction errors are called residuals. RMSE is the standard deviation of residuals. It can be expressed as follows:\n",
    "<br><br>\n",
    "\n",
    "\\begin{equation*}\n",
    "RMSE = \\sqrt{ \\frac{\\sum_{i=1}^{n} \\ (\\ predicted_i\\ -\\ observed_i\\ )^2} { n }  } \n",
    "\\end{equation*}\n",
    "<br><br>\n",
    "\n",
    "The code below implements a user-defined function called RMSE. \n",
    "\n",
    "\n",
    "Click the code section below and hit the **Run** button above."
   ]
  },
  {
   "cell_type": "code",
   "execution_count": 15,
   "metadata": {
    "deletable": false,
    "editable": false
   },
   "outputs": [
    {
     "name": "stdout",
     "output_type": "stream",
     "text": [
      "[1] \"Root Mean Squared Error\"\n"
     ]
    },
    {
     "data": {
      "text/html": [
       "1.0558"
      ],
      "text/latex": [
       "1.0558"
      ],
      "text/markdown": [
       "1.0558"
      ],
      "text/plain": [
       "[1] 1.0558"
      ]
     },
     "metadata": {},
     "output_type": "display_data"
    }
   ],
   "source": [
    "# Here is a custom R function to calculate Root Mean Squared Error or RMSE for any regression model. The following function (called RMSE) will calculate the Root Mean Squared Error\n",
    "# based on the formula shown above.\n",
    "RMSE = function(pred, obs) {\n",
    "    return(sqrt( sum( (pred - obs)^2 )/length(pred) ) )\n",
    "}\n",
    "\n",
    "# Calculate RMSE \n",
    "pred <- predict(pruned_model2, newdata=test.data2, type='vector')\n",
    "print(\"Root Mean Squared Error\")\n",
    "rmse <- RMSE(pred, test.data2$wage_growth)\n",
    "round(rmse, 4)"
   ]
  },
  {
   "cell_type": "markdown",
   "metadata": {},
   "source": [
    " "
   ]
  },
  {
   "cell_type": "markdown",
   "metadata": {
    "deletable": false,
    "editable": false
   },
   "source": [
    "## Step 15: Prediction\n",
    "The regression decision tree model can now be used to make predictions.   \n",
    "\n",
    "Click the block of code below and hit the **Run** button above.  "
   ]
  },
  {
   "cell_type": "code",
   "execution_count": 16,
   "metadata": {
    "deletable": false,
    "editable": false
   },
   "outputs": [
    {
     "name": "stdout",
     "output_type": "stream",
     "text": [
      "[1] \"Predicted wage growth: economy='no_recession', inflation=2.10, gdp=2.5\"\n"
     ]
    },
    {
     "data": {
      "text/html": [
       "<strong>1:</strong> 4.2027"
      ],
      "text/latex": [
       "\\textbf{1:} 4.2027"
      ],
      "text/markdown": [
       "**1:** 4.2027"
      ],
      "text/plain": [
       "     1 \n",
       "4.2027 "
      ]
     },
     "metadata": {},
     "output_type": "display_data"
    },
    {
     "name": "stdout",
     "output_type": "stream",
     "text": [
      "[1] \"Predicted wage growth: economy='no_recession', inflation=3.50, gdp=6.8\"\n"
     ]
    },
    {
     "data": {
      "text/html": [
       "<strong>1:</strong> 7.0595"
      ],
      "text/latex": [
       "\\textbf{1:} 7.0595"
      ],
      "text/markdown": [
       "**1:** 7.0595"
      ],
      "text/plain": [
       "     1 \n",
       "7.0595 "
      ]
     },
     "metadata": {},
     "output_type": "display_data"
    }
   ],
   "source": [
    "print(\"Predicted wage growth: economy='no_recession', inflation=2.10, gdp=2.5\")\n",
    "newdata3 <- data.frame(economy='no_recession', inflation=2.10, gdp=2.5)\n",
    "predicted_wage_growth = predict(pruned_model2, newdata3, type='vector')\n",
    "round(predicted_wage_growth,4)\n",
    "\n",
    "print(\"Predicted wage growth: economy='no_recession', inflation=3.50, gdp=6.8\")\n",
    "newdata4 <- data.frame(economy='no_recession', inflation=3.50, gdp=6.8)\n",
    "predicted_wage_growth = predict(pruned_model2, newdata4, type='vector')\n",
    "round(predicted_wage_growth,4)"
   ]
  },
  {
   "cell_type": "code",
   "execution_count": null,
   "metadata": {},
   "outputs": [],
   "source": []
  },
  {
   "cell_type": "code",
   "execution_count": null,
   "metadata": {},
   "outputs": [],
   "source": []
  },
  {
   "cell_type": "markdown",
   "metadata": {
    "deletable": false,
    "editable": false
   },
   "source": [
    "## Your Code\n",
    "\n",
    "You have been asked to create decision tree models in the Module Six Problem Set. Review the Problem Set Report template to see the questions you will be answering about your models.\n",
    "\n",
    "Use the empty blocks below to write the R code for your models and get outputs. Then use the outputs to answer the questions in your problem set report.\n",
    "\n",
    "**Note: Use the + (plus) button to add new code blocks or the scissor icon to remove empty code blocks, if needed.**"
   ]
  },
  {
   "cell_type": "code",
   "execution_count": 17,
   "metadata": {},
   "outputs": [
    {
     "name": "stdout",
     "output_type": "stream",
     "text": [
      "    age    sex    education  marriage    assets missed_payment credit_utilize\n",
      "1    28   male      college   married     house             no          0.191\n",
      "2    31 female postgraduate   married car_house             no          0.196\n",
      "3    48 female      college   married     house            yes          1.000\n",
      "4    35   male  high_school   married       car            yes          1.000\n",
      "5    30 female  high_school unmarried       car             no          0.374\n",
      "6    23 female  high_school unmarried     house            yes          0.970\n",
      "7    21   male postgraduate   married       car             no          0.153\n",
      "8    30   male  high_school unmarried      none            yes          0.472\n",
      "9    30   male  high_school unmarried car_house             no          0.260\n",
      "10   34 female      college   married      none            yes          0.337\n",
      "11   30 female      college unmarried       car            yes          0.339\n",
      "12   50   male postgraduate   married car_house            yes          0.360\n",
      "13   39   male  high_school unmarried      none             no          0.263\n",
      "14   26   male      college   married     house             no          0.125\n",
      "15   31   male      college unmarried      none            yes          0.333\n",
      "16   48   male  high_school   married       car             no          0.505\n",
      "17   25   male      college   married car_house             no          0.147\n",
      "18   43   male  high_school unmarried       car            yes          0.568\n",
      "19   38 female postgraduate unmarried car_house             no          0.163\n",
      "20   27   male      college unmarried car_house             no          0.255\n",
      "21   38 female      college   married car_house             no          0.145\n",
      "22   31 female      college unmarried       car             no          0.442\n",
      "23   27 female      college   married car_house             no          0.140\n",
      "24   31   male      college unmarried      none            yes          1.000\n",
      "25   44 female postgraduate   married     house             no          0.262\n",
      "26   27   male  high_school   married car_house             no          0.204\n",
      "27   22 female      college unmarried      none             no          0.437\n",
      "28   45   male      college   married     house             no          0.133\n",
      "29   36   male postgraduate   married      none            yes          1.000\n",
      "30   53   male      college unmarried      none            yes          0.512\n",
      "31   38 female postgraduate   married     house             no          0.210\n",
      "32   47   male      college unmarried      none            yes          0.986\n",
      "33   29 female postgraduate   married      none             no          0.446\n",
      "34   24   male      college   married      none            yes          0.338\n",
      "35   32 female      college unmarried       car            yes          0.517\n",
      "36   25   male  high_school unmarried      none            yes          0.488\n",
      "37   39   male      college   married      none            yes          1.000\n",
      "38   38   male      college   married       car             no          0.284\n",
      "39   48 female postgraduate   married car_house             no          0.198\n",
      "40   30   male postgraduate   married      none            yes          0.335\n",
      "41   48 female      college   married car_house             no          0.204\n",
      "42   57 female  high_school   married      none            yes          0.459\n",
      "43   60   male  high_school unmarried      none            yes          0.294\n",
      "44   27   male postgraduate   married      none             no          0.255\n",
      "45   30 female      college unmarried     house            yes          0.264\n",
      "46   50   male      college   married      none             no          0.332\n",
      "47   23 female      college   married     house             no          0.177\n",
      "48   27   male  high_school unmarried car_house            yes          1.000\n",
      "49   28   male  high_school unmarried       car             no          0.360\n",
      "50   32   male postgraduate unmarried     house             no          0.148\n",
      "51   33 female      college unmarried     house             no          0.524\n",
      "52   25 female      college   married car_house             no          0.258\n",
      "53   32 female  high_school unmarried      none             no          0.351\n",
      "54   40   male      college unmarried      none             no          0.202\n",
      "55   27   male postgraduate   married     house            yes          0.153\n",
      "56   31   male      college unmarried      none            yes          0.483\n",
      "57   37 female      college   married      none            yes          0.586\n",
      "58   22   male  high_school unmarried       car            yes          0.977\n",
      "59   24 female postgraduate   married     house             no          0.166\n",
      "60   24   male  high_school unmarried      none            yes          0.485\n",
      "61   51   male      college   married       car            yes          0.330\n",
      "62   26   male postgraduate   married     house             no          0.153\n",
      "63   47 female  high_school unmarried       car             no          0.463\n",
      "64   57   male  high_school unmarried       car            yes          0.372\n",
      "65   25   male      college unmarried      none            yes          0.505\n",
      "66   33 female  high_school   married       car            yes          0.410\n",
      "67   41   male  high_school   married      none             no          0.245\n",
      "68   46 female  high_school   married      none            yes          0.485\n",
      "69   26 female      college   married car_house             no          0.250\n",
      "70   27   male  high_school unmarried      none            yes          0.495\n",
      "71   37 female  high_school unmarried      none            yes          0.323\n",
      "72   27   male postgraduate unmarried     house             no          0.161\n",
      "73   29 female  high_school unmarried      none            yes          0.503\n",
      "74   54   male      college unmarried      none             no          0.515\n",
      "75   51   male      college unmarried      none             no          0.481\n",
      "76   23 female postgraduate   married       car             no          0.428\n",
      "77   31 female  high_school   married       car            yes          0.504\n",
      "78   35   male      college   married       car             no          0.249\n",
      "79   39 female      college unmarried       car            yes          0.522\n",
      "80   28 female      college   married      none            yes          0.318\n",
      "81   26 female postgraduate   married     house             no          0.333\n",
      "82   29 female  high_school unmarried       car            yes          0.541\n",
      "83   32   male postgraduate unmarried     house             no          0.165\n",
      "84   24 female postgraduate unmarried     house             no          0.333\n",
      "85   26 female      college unmarried     house             no          0.154\n",
      "86   38   male      college unmarried      none             no          0.374\n",
      "87   53   male postgraduate   married car_house             no          0.132\n",
      "88   24   male postgraduate unmarried       car            yes          0.954\n",
      "89   51   male  high_school   married      none             no          0.312\n",
      "90   44   male  high_school unmarried      none            yes          0.330\n",
      "91   30   male      college unmarried       car             no          0.299\n",
      "92   35   male postgraduate unmarried car_house             no          0.238\n",
      "93   42 female      college unmarried       car            yes          1.000\n",
      "94   49   male      college unmarried      none             no          0.527\n",
      "95   25 female  high_school unmarried      none            yes          1.000\n",
      "96   32 female      college   married      none             no          0.154\n",
      "97   27 female postgraduate unmarried car_house            yes          0.156\n",
      "98   29 female      college   married     house             no          0.154\n",
      "99   26 female postgraduate   married car_house            yes          0.149\n",
      "100  46   male      college unmarried      none            yes          0.433\n",
      "101  22 female      college   married      none            yes          0.325\n",
      "102  52 female  high_school   married       car            yes          1.000\n",
      "103  60 female  high_school unmarried       car            yes          0.443\n",
      "104  36   male postgraduate unmarried car_house             no          0.206\n",
      "105  49 female  high_school unmarried       car            yes          0.509\n",
      "106  30   male postgraduate   married car_house             no          0.161\n",
      "107  24   male      college unmarried      none            yes          0.931\n",
      "108  56 female  high_school unmarried       car            yes          0.342\n",
      "109  24 female      college unmarried       car            yes          0.333\n",
      "110  32   male  high_school unmarried       car            yes          0.350\n",
      "111  45   male  high_school   married      none            yes          1.000\n",
      "112  38 female      college unmarried      none            yes          1.000\n",
      "113  30 female postgraduate   married     house             no          0.336\n",
      "114  40 female      college unmarried       car            yes          0.986\n",
      "115  24 female postgraduate   married      none             no          0.147\n",
      "116  37 female      college unmarried      none            yes          0.324\n",
      "117  25 female  high_school unmarried       car            yes          0.563\n",
      "118  27 female postgraduate unmarried     house             no          0.214\n",
      "119  41 female  high_school   married      none            yes          0.329\n",
      "120  36 female postgraduate   married     house            yes          0.248\n",
      "121  61 female postgraduate   married     house             no          0.159\n",
      "122  27 female      college unmarried car_house            yes          0.521\n",
      "123  35 female  high_school unmarried      none            yes          1.000\n",
      "124  43 female  high_school unmarried       car            yes          0.297\n",
      "125  47 female      college   married car_house             no          0.171\n",
      "126  33   male postgraduate   married     house             no          0.207\n",
      "127  37 female postgraduate unmarried car_house             no          0.186\n",
      "128  43   male postgraduate unmarried     house             no          0.337\n",
      "129  41 female  high_school unmarried      none            yes          0.443\n",
      "130  26 female  high_school unmarried       car            yes          0.951\n",
      "131  29 female      college unmarried car_house             no          0.211\n",
      "132  24   male  high_school unmarried      none             no          0.531\n",
      "133  39 female      college unmarried       car            yes          0.470\n",
      "134  23 female postgraduate   married      none            yes          0.989\n",
      "135  50   male      college unmarried       car            yes          0.513\n",
      "136  40 female  high_school unmarried      none            yes          0.318\n",
      "137  52 female      college unmarried       car             no          0.286\n",
      "138  23 female postgraduate   married      none             no          0.431\n",
      "139  30   male postgraduate unmarried     house             no          0.176\n",
      "140  38   male  high_school   married     house            yes          0.312\n",
      "141  58   male postgraduate   married     house             no          0.335\n",
      "142  45   male  high_school unmarried      none            yes          0.930\n",
      "143  42 female      college unmarried      none            yes          1.000\n",
      "144  41 female  high_school unmarried      none            yes          0.307\n",
      "145  46   male  high_school unmarried       car            yes          0.973\n",
      "146  46   male  high_school   married       car            yes          0.434\n",
      "147  24 female  high_school unmarried      none             no          0.250\n",
      "148  24 female      college unmarried      none            yes          0.523\n",
      "149  25   male      college unmarried      none            yes          1.000\n",
      "150  43 female postgraduate   married car_house             no          0.253\n",
      "151  27 female  high_school   married      none             no          1.000\n",
      "152  43   male      college unmarried       car             no          0.247\n",
      "153  29 female  high_school unmarried     house            yes          0.254\n",
      "154  25 female  high_school unmarried      none            yes          1.000\n",
      "155  55 female  high_school unmarried      none            yes          0.528\n",
      "156  39 female postgraduate   married car_house             no          0.253\n",
      "157  29   male  high_school unmarried      none            yes          0.612\n",
      "158  26 female postgraduate   married     house             no          0.329\n",
      "159  22 female      college unmarried      none            yes          0.321\n",
      "160  24   male      college   married     house            yes          0.442\n",
      "161  29   male  high_school unmarried       car            yes          0.500\n",
      "162  55   male      college unmarried      none             no          0.364\n",
      "163  25   male  high_school unmarried car_house            yes          0.330\n",
      "164  22   male  high_school unmarried       car            yes          1.000\n",
      "165  27 female  high_school unmarried      none             no          0.280\n",
      "166  33 female      college unmarried       car             no          0.306\n",
      "167  23 female      college unmarried      none            yes          0.450\n",
      "168  43 female  high_school unmarried       car            yes          0.997\n",
      "169  27 female  high_school unmarried      none             no          0.381\n",
      "170  38 female  high_school unmarried       car             no          0.523\n",
      "171  35 female      college   married     house             no          0.322\n",
      "172  45 female      college   married car_house             no          0.171\n",
      "173  22   male      college unmarried      none            yes          0.532\n",
      "174  25   male postgraduate unmarried car_house            yes          0.335\n",
      "175  25 female  high_school   married car_house             no          0.318\n",
      "176  50 female      college unmarried     house             no          0.196\n",
      "177  27 female  high_school unmarried       car            yes          1.000\n",
      "178  37 female  high_school unmarried       car            yes          0.504\n",
      "179  27 female  high_school unmarried      none            yes          0.536\n",
      "180  28   male  high_school unmarried     house             no          0.463\n",
      "181  51 female      college unmarried      none             no          0.990\n",
      "182  30   male      college   married       car            yes          0.297\n",
      "183  23 female postgraduate   married       car            yes          0.239\n",
      "184  25 female      college   married car_house             no          0.149\n",
      "185  32   male postgraduate   married car_house            yes          0.341\n",
      "186  27 female      college unmarried      none            yes          0.488\n",
      "187  45   male  high_school   married      none             no          0.340\n",
      "188  57   male postgraduate   married car_house             no          0.205\n",
      "189  39 female  high_school unmarried     house             no          0.330\n",
      "190  45   male postgraduate unmarried       car            yes          0.356\n",
      "191  52   male postgraduate   married      none             no          0.240\n",
      "192  28   male  high_school unmarried       car             no          0.422\n",
      "193  47   male      college unmarried      none             no          0.972\n",
      "194  49   male postgraduate   married     house             no          0.257\n",
      "195  44 female postgraduate unmarried       car            yes          0.166\n",
      "196  32   male  high_school unmarried      none            yes          0.492\n",
      "197  24 female      college unmarried      none            yes          0.361\n",
      "198  28 female  high_school unmarried      none            yes          0.505\n",
      "199  32   male      college unmarried       car             no          0.396\n",
      "200  24   male  high_school   married      none             no          0.418\n",
      "201  26 female  high_school   married       car             no          0.167\n",
      "202  28   male      college unmarried      none            yes          1.000\n",
      "203  44   male      college   married     house             no          0.157\n",
      "204  22 female      college   married      none            yes          0.526\n",
      "205  29   male postgraduate   married       car             no          0.210\n",
      "206  30 female      college   married     house             no          0.165\n",
      "207  23 female postgraduate   married      none            yes          0.164\n",
      "208  27 female      college   married       car             no          0.512\n",
      "209  26   male postgraduate   married      none             no          0.265\n",
      "210  25 female      college unmarried     house            yes          0.505\n",
      "211  38 female  high_school unmarried     house            yes          0.499\n",
      "212  27 female      college unmarried       car             no          0.265\n",
      "213  39   male  high_school unmarried      none             no          0.436\n",
      "214  30   male      college   married       car             no          0.211\n",
      "215  30   male      college unmarried      none            yes          1.000\n",
      "216  26 female postgraduate   married     house             no          0.170\n",
      "217  36 female  high_school   married      none            yes          0.978\n",
      "218  23 female      college unmarried       car            yes          0.466\n",
      "219  26 female      college   married       car            yes          0.213\n",
      "220  34   male postgraduate   married       car             no          0.247\n",
      "221  48   male      college   married      none            yes          0.312\n",
      "222  44   male  high_school unmarried      none            yes          0.984\n",
      "223  48 female postgraduate   married car_house            yes          0.150\n",
      "224  51 female postgraduate   married     house            yes          0.255\n",
      "225  38   male  high_school unmarried      none            yes          0.887\n",
      "226  35 female      college unmarried       car            yes          0.156\n",
      "227  24 female      college unmarried     house             no          0.153\n",
      "228  33 female  high_school unmarried      none            yes          1.000\n",
      "229  50 female  high_school unmarried     house            yes          0.496\n",
      "230  35 female      college   married     house             no          0.253\n",
      "231  24 female postgraduate   married car_house             no          0.181\n",
      "232  23 female postgraduate   married       car             no          0.139\n",
      "233  31 female      college   married       car            yes          0.449\n",
      "234  41   male      college unmarried      none            yes          0.549\n",
      "235  28   male      college unmarried      none            yes          0.525\n",
      "236  49   male  high_school   married car_house             no          0.194\n",
      "237  31 female postgraduate   married     house            yes          0.145\n",
      "238  31 female postgraduate unmarried      none             no          0.252\n",
      "239  30 female postgraduate   married       car            yes          0.145\n",
      "240  26   male      college   married car_house            yes          0.201\n",
      "241  53 female      college   married     house             no          0.159\n",
      "242  33 female postgraduate   married      none             no          0.343\n",
      "243  27 female  high_school unmarried car_house            yes          0.968\n",
      "244  26 female  high_school unmarried       car            yes          0.542\n",
      "245  41 female postgraduate unmarried      none             no          0.341\n",
      "246  54   male      college   married      none             no          0.551\n",
      "247  48   male      college unmarried       car            yes          0.940\n",
      "248  54   male postgraduate unmarried car_house            yes          0.194\n",
      "249  33 female  high_school unmarried      none            yes          1.000\n",
      "250  39 female  high_school unmarried car_house             no          0.318\n",
      "251  32 female  high_school   married      none             no          0.330\n",
      "252  34   male  high_school   married     house            yes          0.249\n",
      "253  27   male      college   married car_house             no          0.147\n",
      "254  34 female  high_school unmarried      none             no          0.543\n",
      "255  43   male      college unmarried car_house             no          0.136\n",
      "256  26 female postgraduate   married      none            yes          0.522\n",
      "257  49 female  high_school   married      none            yes          1.000\n",
      "258  31 female  high_school unmarried      none            yes          0.950\n",
      "259  58   male  high_school unmarried      none             no          0.306\n",
      "260  35   male postgraduate   married     house             no          0.133\n",
      "261  27 female      college   married car_house             no          0.148\n",
      "262  25   male  high_school unmarried     house            yes          0.946\n",
      "263  23 female      college unmarried      none             no          0.348\n",
      "264  28 female      college unmarried       car            yes          0.333\n",
      "265  38 female postgraduate   married       car             no          0.136\n",
      "266  34   male  high_school unmarried      none            yes          0.523\n",
      "267  35 female postgraduate   married car_house             no          0.197\n",
      "268  57   male  high_school unmarried      none            yes          0.467\n",
      "269  32 female      college   married car_house             no          0.195\n",
      "270  28 female      college unmarried      none             no          0.329\n",
      "271  36   male      college unmarried      none            yes          0.370\n",
      "272  26   male  high_school unmarried       car            yes          1.000\n",
      "273  37   male postgraduate   married      none             no          0.240\n",
      "274  29   male      college unmarried       car            yes          1.000\n",
      "275  29 female postgraduate unmarried      none             no          0.365\n",
      "276  27   male  high_school unmarried       car            yes          0.967\n",
      "277  28 female  high_school unmarried      none            yes          0.225\n",
      "278  43 female postgraduate unmarried     house             no          0.215\n",
      "279  36 female      college   married      none             no          0.985\n",
      "280  51 female      college unmarried       car             no          0.571\n",
      "281  28 female postgraduate unmarried      none             no          0.421\n",
      "282  53   male      college   married car_house             no          0.322\n",
      "283  34   male postgraduate   married car_house            yes          0.149\n",
      "284  37   male postgraduate   married car_house            yes          0.235\n",
      "285  35   male postgraduate unmarried     house            yes          0.173\n",
      "286  36   male postgraduate   married car_house             no          0.331\n",
      "287  29 female      college   married      none             no          0.156\n",
      "288  46   male  high_school unmarried       car             no          0.328\n",
      "289  29 female postgraduate unmarried     house             no          0.239\n",
      "290  36   male postgraduate unmarried      none             no          0.541\n",
      "291  42   male  high_school   married       car             no          0.473\n",
      "292  34   male postgraduate unmarried car_house             no          0.253\n",
      "293  34 female      college unmarried      none             no          0.355\n",
      "294  24   male postgraduate   married car_house             no          0.154\n",
      "295  34 female  high_school unmarried      none             no          0.340\n",
      "296  37   male      college unmarried       car            yes          0.975\n",
      "297  42 female  high_school   married      none            yes          0.953\n",
      "298  43 female postgraduate   married     house            yes          0.250\n",
      "299  25 female  high_school   married      none            yes          0.995\n",
      "300  46 female  high_school unmarried      none            yes          1.000\n",
      "301  58   male      college unmarried      none             no          0.186\n",
      "302  33 female postgraduate unmarried      none             no          0.962\n",
      "303  33   male      college unmarried      none            yes          0.332\n",
      "304  29   male      college unmarried     house             no          0.145\n",
      "305  24   male      college   married     house             no          0.202\n",
      "306  44 female      college   married car_house            yes          0.553\n",
      "307  39 female postgraduate   married     house             no          0.156\n",
      "308  43   male      college unmarried car_house             no          0.326\n",
      "309  26   male  high_school unmarried       car            yes          0.970\n",
      "310  41   male      college unmarried       car            yes          0.403\n",
      "311  47 female      college unmarried      none            yes          0.241\n",
      "312  33 female  high_school unmarried     house            yes          0.496\n",
      "313  30   male  high_school unmarried      none             no          0.494\n",
      "314  22 female      college unmarried      none             no          0.366\n",
      "315  35   male      college   married     house             no          0.324\n",
      "316  35 female      college unmarried     house             no          0.250\n",
      "317  41   male      college unmarried       car            yes          0.447\n",
      "318  41   male  high_school unmarried       car            yes          1.000\n",
      "319  58   male postgraduate   married     house             no          0.173\n",
      "320  30 female postgraduate   married car_house            yes          0.208\n",
      "321  43 female postgraduate   married       car             no          0.153\n",
      "322  27   male postgraduate   married car_house             no          0.171\n",
      "323  51   male  high_school unmarried       car            yes          0.467\n",
      "324  23 female postgraduate   married car_house             no          0.339\n",
      "325  43   male  high_school unmarried       car            yes          0.344\n",
      "326  34 female  high_school   married     house            yes          0.944\n",
      "327  27 female      college unmarried      none             no          0.254\n",
      "328  25 female postgraduate   married car_house             no          0.217\n",
      "329  29 female postgraduate   married     house             no          0.246\n",
      "330  36 female postgraduate   married     house            yes          0.162\n",
      "331  26   male postgraduate   married car_house             no          0.252\n",
      "332  36 female  high_school unmarried       car            yes          0.331\n",
      "333  27   male  high_school   married      none             no          0.293\n",
      "334  25   male postgraduate   married       car             no          0.157\n",
      "335  24 female  high_school unmarried       car             no          0.480\n",
      "336  40   male postgraduate unmarried       car             no          0.564\n",
      "337  40   male postgraduate unmarried     house             no          0.218\n",
      "338  23   male      college   married      none             no          0.428\n",
      "339  26 female postgraduate   married car_house             no          0.190\n",
      "340  56 female postgraduate   married       car             no          0.169\n",
      "341  26 female      college unmarried car_house             no          0.157\n",
      "342  41   male      college   married      none             no          0.251\n",
      "343  39   male      college unmarried     house            yes          0.981\n",
      "344  33   male postgraduate unmarried car_house             no          0.329\n",
      "345  49   male  high_school   married     house            yes          0.949\n",
      "346  41   male  high_school unmarried      none             no          0.520\n",
      "347  34 female      college   married     house             no          0.148\n",
      "348  40   male      college   married car_house            yes          0.550\n",
      "349  29 female  high_school   married       car             no          0.147\n",
      "350  28 female  high_school unmarried      none             no          0.362\n",
      "351  30   male postgraduate   married       car            yes          0.344\n",
      "352  27   male postgraduate   married       car             no          0.195\n",
      "353  36   male      college unmarried     house            yes          0.318\n",
      "354  46   male      college unmarried car_house             no          0.151\n",
      "355  32 female      college   married car_house            yes          0.186\n",
      "356  32 female  high_school   married      none             no          0.538\n",
      "357  24 female postgraduate   married       car            yes          0.243\n",
      "358  36   male postgraduate unmarried       car             no          0.321\n",
      "359  36   male  high_school unmarried car_house            yes          0.320\n",
      "360  35   male postgraduate unmarried     house             no          0.334\n",
      "361  43 female postgraduate   married      none             no          0.556\n",
      "362  38   male      college unmarried       car            yes          0.304\n",
      "363  25 female postgraduate unmarried      none            yes          0.252\n",
      "364  22 female  high_school unmarried      none            yes          0.975\n",
      "365  38 female  high_school unmarried      none             no          0.440\n",
      "366  27   male      college unmarried      none            yes          1.000\n",
      "367  31 female      college   married       car             no          0.171\n",
      "368  29 female      college   married     house            yes          0.246\n",
      "369  32 female      college   married      none            yes          0.505\n",
      "370  34 female      college   married       car            yes          0.401\n",
      "371  34 female postgraduate   married car_house            yes          0.343\n",
      "372  23 female postgraduate   married     house            yes          0.323\n",
      "373  28   male postgraduate   married       car             no          0.190\n",
      "374  27 female postgraduate   married     house             no          0.184\n",
      "375  31   male      college   married car_house             no          0.144\n",
      "376  41   male postgraduate   married car_house             no          0.168\n",
      "377  37   male      college   married car_house             no          0.147\n",
      "378  41   male      college   married     house             no          0.347\n",
      "379  45 female postgraduate   married car_house             no          0.193\n",
      "380  35 female postgraduate unmarried     house             no          0.237\n",
      "381  24 female postgraduate   married      none             no          0.156\n",
      "382  49   male  high_school unmarried      none            yes          0.556\n",
      "383  29 female postgraduate unmarried car_house             no          0.149\n",
      "384  25 female  high_school   married       car             no          0.168\n",
      "385  33 female      college unmarried       car             no          0.477\n",
      "386  34   male  high_school unmarried car_house            yes          0.305\n",
      "387  22 female  high_school unmarried      none            yes          0.932\n",
      "388  32   male  high_school unmarried      none            yes          0.492\n",
      "389  33 female postgraduate unmarried      none             no          0.469\n",
      "390  41   male      college unmarried      none            yes          0.468\n",
      "391  42 female  high_school unmarried      none            yes          0.374\n",
      "392  39   male  high_school   married      none            yes          1.000\n",
      "393  34 female postgraduate   married car_house            yes          0.130\n",
      "394  41 female postgraduate   married car_house             no          0.138\n",
      "395  39 female postgraduate   married     house             no          0.244\n",
      "396  39   male  high_school unmarried      none            yes          0.495\n",
      "397  27   male postgraduate unmarried car_house            yes          0.241\n",
      "398  47 female postgraduate   married     house             no          0.156\n",
      "399  29 female postgraduate unmarried     house             no          0.201\n",
      "400  45 female postgraduate   married       car             no          0.185\n",
      "401  36   male postgraduate   married     house             no          0.159\n",
      "402  40 female postgraduate   married car_house             no          0.145\n",
      "403  32 female      college   married car_house             no          0.160\n",
      "404  29   male postgraduate   married      none             no          0.149\n",
      "405  26   male postgraduate   married car_house             no          0.229\n",
      "406  28   male      college unmarried      none            yes          0.256\n",
      "407  40   male postgraduate   married     house             no          0.332\n",
      "408  24 female      college unmarried car_house            yes          0.338\n",
      "409  44 female      college unmarried      none            yes          0.566\n",
      "410  27   male  high_school unmarried car_house             no          0.396\n",
      "411  40 female postgraduate   married     house             no          0.317\n",
      "412  39 female      college unmarried     house            yes          0.196\n",
      "413  26   male postgraduate   married car_house             no          0.196\n",
      "414  33   male      college   married     house             no          0.238\n",
      "415  24 female      college   married      none             no          0.503\n",
      "416  24 female  high_school unmarried      none            yes          0.240\n",
      "417  43   male postgraduate   married     house             no          0.170\n",
      "418  52 female      college unmarried       car            yes          1.000\n",
      "419  44   male      college   married       car            yes          0.325\n",
      "420  32 female      college unmarried       car            yes          0.348\n",
      "421  32   male postgraduate unmarried car_house            yes          0.331\n",
      "422  29 female      college unmarried       car             no          0.510\n",
      "423  27   male  high_school unmarried     house            yes          0.161\n",
      "424  38   male  high_school   married car_house             no          0.252\n",
      "425  25 female postgraduate unmarried       car             no          0.265\n",
      "426  38 female postgraduate   married     house             no          0.127\n",
      "427  29   male postgraduate   married car_house             no          0.333\n",
      "428  34   male      college unmarried      none            yes          0.941\n",
      "429  48 female  high_school unmarried       car            yes          0.531\n",
      "430  26 female postgraduate   married     house            yes          0.207\n",
      "431  22 female      college unmarried     house             no          0.167\n",
      "432  45 female      college unmarried      none             no          0.293\n",
      "433  29 female postgraduate   married     house             no          0.162\n",
      "434  25 female postgraduate unmarried      none             no          0.238\n",
      "435  38 female postgraduate unmarried     house             no          0.317\n",
      "436  37   male postgraduate   married       car             no          0.132\n",
      "437  35 female postgraduate   married car_house             no          0.255\n",
      "438  24 female      college unmarried       car            yes          1.000\n",
      "439  24   male  high_school   married       car            yes          0.179\n",
      "440  29   male      college   married     house             no          0.200\n",
      "441  51   male      college   married       car             no          0.282\n",
      "442  32   male      college   married     house             no          0.160\n",
      "443  41 female      college   married     house             no          0.156\n",
      "444  51   male postgraduate unmarried       car            yes          0.968\n",
      "445  52 female  high_school   married       car            yes          0.472\n",
      "446  25   male  high_school unmarried       car            yes          1.000\n",
      "447  36 female  high_school   married     house            yes          0.148\n",
      "448  24 female  high_school unmarried     house            yes          0.466\n",
      "449  32   male      college unmarried car_house             no          0.257\n",
      "450  32 female postgraduate unmarried     house             no          0.231\n",
      "451  48 female postgraduate   married car_house             no          0.257\n",
      "452  44   male  high_school unmarried      none             no          0.336\n",
      "453  22 female      college unmarried car_house             no          0.563\n",
      "454  26 female      college unmarried      none             no          0.959\n",
      "455  49 female  high_school unmarried car_house            yes          0.257\n",
      "456  30   male  high_school   married car_house             no          0.209\n",
      "457  48 female postgraduate   married car_house             no          0.155\n",
      "458  31   male      college unmarried      none            yes          0.363\n",
      "459  26 female postgraduate   married       car             no          0.137\n",
      "460  37   male      college unmarried      none             no          0.479\n",
      "461  33   male postgraduate   married     house            yes          0.249\n",
      "462  49 female  high_school unmarried      none            yes          0.540\n",
      "463  24 female      college   married     house             no          0.180\n",
      "464  28 female postgraduate   married      none             no          0.245\n",
      "465  40   male      college unmarried      none            yes          0.414\n",
      "466  26 female  high_school unmarried      none            yes          0.932\n",
      "467  44   male  high_school   married car_house             no          0.539\n",
      "468  29   male postgraduate   married     house             no          0.169\n",
      "469  64 female  high_school unmarried       car            yes          0.507\n",
      "470  42   male      college unmarried      none            yes          0.524\n",
      "471  30 female      college   married       car            yes          0.535\n",
      "472  38 female postgraduate   married car_house             no          0.345\n",
      "473  42 female  high_school unmarried      none            yes          0.486\n",
      "474  38   male  high_school   married       car            yes          1.000\n",
      "475  28   male  high_school   married      none            yes          0.323\n",
      "476  42 female  high_school unmarried       car            yes          0.519\n",
      "477  28 female      college unmarried       car            yes          0.524\n",
      "478  60 female      college   married      none            yes          0.975\n",
      "479  40 female postgraduate   married      none            yes          0.314\n",
      "480  32   male postgraduate unmarried     house            yes          0.254\n",
      "481  23 female      college unmarried      none            yes          1.000\n",
      "482  33 female  high_school   married car_house             no          0.262\n",
      "483  46 female      college unmarried      none             no          0.346\n",
      "484  30 female      college unmarried car_house            yes          0.281\n",
      "485  28   male  high_school unmarried       car             no          0.433\n",
      "486  30 female  high_school   married      none            yes          0.321\n",
      "487  22 female postgraduate   married      none             no          0.332\n",
      "488  27 female  high_school   married      none             no          0.273\n",
      "489  32 female postgraduate   married      none             no          0.187\n",
      "490  26 female postgraduate   married     house             no          0.196\n",
      "491  45   male postgraduate   married     house             no          0.179\n",
      "492  33   male  high_school unmarried      none             no          0.473\n",
      "493  21   male  high_school unmarried      none            yes          1.000\n",
      "494  33 female      college   married       car            yes          0.176\n",
      "495  36   male postgraduate   married     house             no          0.137\n",
      "496  30 female      college   married car_house             no          0.214\n",
      "497  39 female  high_school unmarried      none            yes          0.375\n",
      "498  28   male  high_school unmarried car_house            yes          0.548\n",
      "499  44 female      college   married     house            yes          0.160\n",
      "500  34 female  high_school   married     house             no          0.135\n",
      "501  41 female postgraduate   married       car             no          0.331\n",
      "502  32 female postgraduate   married car_house             no          0.342\n",
      "503  28 female postgraduate unmarried      none            yes          0.310\n",
      "504  28   male      college   married car_house             no          0.320\n",
      "505  22 female  high_school unmarried      none            yes          0.495\n",
      "506  30 female      college   married car_house             no          0.188\n",
      "507  31   male      college   married       car            yes          0.972\n",
      "508  34 female  high_school   married       car             no          0.418\n",
      "509  33 female  high_school unmarried      none             no          0.351\n",
      "510  38 female  high_school unmarried       car            yes          0.304\n",
      "511  26   male postgraduate   married     house             no          0.146\n",
      "512  23   male postgraduate unmarried     house            yes          0.193\n",
      "513  23 female postgraduate unmarried       car             no          0.243\n",
      "514  55 female  high_school unmarried      none            yes          1.000\n",
      "515  30 female      college unmarried      none             no          0.311\n",
      "516  48   male postgraduate   married     house             no          0.204\n",
      "517  41   male postgraduate unmarried      none             no          0.522\n",
      "518  33   male  high_school unmarried       car            yes          0.563\n",
      "519  28 female      college   married       car            yes          0.251\n",
      "520  39   male postgraduate unmarried car_house             no          0.144\n",
      "521  35 female      college   married      none            yes          0.359\n",
      "522  39   male  high_school unmarried       car            yes          0.977\n",
      "523  39 female postgraduate   married car_house             no          0.171\n",
      "524  39 female  high_school   married car_house             no          0.178\n",
      "525  36 female      college unmarried      none             no          0.124\n",
      "526  26 female      college   married car_house             no          0.347\n",
      "527  26   male      college unmarried     house             no          0.129\n",
      "528  34   male      college unmarried car_house             no          0.492\n",
      "529  73   male  high_school   married       car            yes          1.000\n",
      "530  47 female      college unmarried car_house             no          0.210\n",
      "531  30   male  high_school unmarried     house            yes          0.931\n",
      "532  23 female      college unmarried       car            yes          1.000\n",
      "533  52 female  high_school unmarried       car            yes          0.297\n",
      "534  23 female postgraduate   married car_house            yes          0.140\n",
      "535  33 female      college   married     house             no          0.134\n",
      "536  57   male      college unmarried      none            yes          0.464\n",
      "537  27 female postgraduate   married     house            yes          0.194\n",
      "538  29 female postgraduate   married      none             no          0.483\n",
      "539  48   male      college   married      none             no          0.131\n",
      "540  28   male      college unmarried       car            yes          0.539\n",
      "541  38   male      college unmarried      none            yes          0.541\n",
      "542  27   male      college unmarried      none             no          0.474\n",
      "543  23 female  high_school unmarried      none            yes          0.306\n",
      "544  32   male      college   married car_house             no          0.327\n",
      "545  27 female      college   married     house             no          0.164\n",
      "546  39 female      college unmarried       car             no          0.413\n",
      "547  36 female  high_school   married car_house             no          0.346\n",
      "548  34 female  high_school unmarried     house             no          0.400\n",
      "549  26   male      college   married car_house            yes          0.551\n",
      "550  30 female postgraduate   married car_house            yes          0.330\n",
      "551  30 female postgraduate   married car_house             no          0.249\n",
      "552  37   male      college unmarried      none            yes          0.476\n",
      "553  28   male  high_school   married       car             no          0.129\n",
      "554  26   male      college unmarried      none             no          1.000\n",
      "555  41 female  high_school unmarried      none             no          1.000\n",
      "556  25 female  high_school unmarried     house            yes          0.509\n",
      "557  25 female  high_school unmarried      none            yes          0.533\n",
      "558  51   male  high_school unmarried      none             no          0.349\n",
      "559  39   male postgraduate   married       car             no          0.316\n",
      "560  28 female      college unmarried      none             no          0.219\n",
      "561  24 female      college unmarried       car            yes          1.000\n",
      "562  37 female postgraduate   married car_house             no          0.245\n",
      "563  30   male      college unmarried       car            yes          0.332\n",
      "564  42   male postgraduate unmarried car_house            yes          1.000\n",
      "565  56   male  high_school   married       car            yes          0.523\n",
      "566  34   male postgraduate unmarried car_house            yes          0.237\n",
      "567  42   male postgraduate   married     house             no          0.243\n",
      "568  44 female      college unmarried car_house             no          0.165\n",
      "569  28   male  high_school unmarried       car             no          0.310\n",
      "570  47 female      college unmarried     house            yes          1.000\n",
      "571  24 female      college unmarried     house             no          0.330\n",
      "572  27 female  high_school unmarried      none            yes          0.364\n",
      "573  43   male  high_school unmarried       car            yes          1.000\n",
      "574  28   male postgraduate   married     house            yes          0.160\n",
      "575  28   male      college   married car_house            yes          0.246\n",
      "576  23 female postgraduate   married      none             no          0.324\n",
      "577  27 female  high_school   married     house             no          0.142\n",
      "578  28 female      college   married      none            yes          0.174\n",
      "579  28 female postgraduate   married       car             no          0.235\n",
      "580  29   male      college   married     house            yes          0.469\n",
      "581  53   male  high_school unmarried      none            yes          0.344\n",
      "582  54   male postgraduate unmarried car_house             no          0.242\n",
      "583  25   male      college   married car_house             no          0.163\n",
      "584  29   male      college   married car_house             no          0.345\n",
      "585  49 female postgraduate unmarried      none            yes          1.000\n",
      "586  48 female postgraduate   married     house             no          0.256\n",
      "587  31 female postgraduate   married car_house             no          0.198\n",
      "588  36 female      college unmarried       car            yes          0.311\n",
      "589  32   male  high_school unmarried      none             no          0.953\n",
      "590  33 female      college unmarried      none            yes          0.390\n",
      "591  36 female  high_school unmarried      none            yes          0.979\n",
      "592  25 female  high_school unmarried       car            yes          0.524\n",
      "593  27 female      college   married car_house             no          0.336\n",
      "594  45   male      college   married car_house             no          0.331\n",
      "595  41 female  high_school unmarried       car             no          0.428\n",
      "596  30   male      college   married      none            yes          0.279\n",
      "597  23 female      college unmarried       car             no          0.502\n",
      "598  45 female  high_school   married car_house             no          0.200\n",
      "599  30 female      college unmarried     house            yes          0.490\n",
      "600  47 female  high_school   married      none            yes          0.452\n",
      "    default\n",
      "1        no\n",
      "2        no\n",
      "3       yes\n",
      "4       yes\n",
      "5       yes\n",
      "6       yes\n",
      "7        no\n",
      "8       yes\n",
      "9        no\n",
      "10      yes\n",
      "11      yes\n",
      "12      yes\n",
      "13      yes\n",
      "14       no\n",
      "15       no\n",
      "16      yes\n",
      "17       no\n",
      "18      yes\n",
      "19       no\n",
      "20       no\n",
      "21       no\n",
      "22      yes\n",
      "23       no\n",
      "24      yes\n",
      "25       no\n",
      "26       no\n",
      "27      yes\n",
      "28       no\n",
      "29      yes\n",
      "30      yes\n",
      "31       no\n",
      "32      yes\n",
      "33      yes\n",
      "34       no\n",
      "35      yes\n",
      "36      yes\n",
      "37      yes\n",
      "38      yes\n",
      "39       no\n",
      "40       no\n",
      "41       no\n",
      "42      yes\n",
      "43      yes\n",
      "44       no\n",
      "45       no\n",
      "46       no\n",
      "47       no\n",
      "48      yes\n",
      "49      yes\n",
      "50       no\n",
      "51      yes\n",
      "52       no\n",
      "53      yes\n",
      "54       no\n",
      "55       no\n",
      "56      yes\n",
      "57      yes\n",
      "58      yes\n",
      "59       no\n",
      "60      yes\n",
      "61       no\n",
      "62       no\n",
      "63      yes\n",
      "64      yes\n",
      "65      yes\n",
      "66      yes\n",
      "67       no\n",
      "68      yes\n",
      "69       no\n",
      "70      yes\n",
      "71      yes\n",
      "72       no\n",
      "73      yes\n",
      "74      yes\n",
      "75      yes\n",
      "76      yes\n",
      "77      yes\n",
      "78       no\n",
      "79      yes\n",
      "80      yes\n",
      "81       no\n",
      "82      yes\n",
      "83       no\n",
      "84       no\n",
      "85       no\n",
      "86      yes\n",
      "87       no\n",
      "88      yes\n",
      "89      yes\n",
      "90      yes\n",
      "91      yes\n",
      "92       no\n",
      "93      yes\n",
      "94      yes\n",
      "95      yes\n",
      "96       no\n",
      "97       no\n",
      "98       no\n",
      "99       no\n",
      "100     yes\n",
      "101     yes\n",
      "102     yes\n",
      "103     yes\n",
      "104      no\n",
      "105     yes\n",
      "106      no\n",
      "107     yes\n",
      "108     yes\n",
      "109     yes\n",
      "110     yes\n",
      "111     yes\n",
      "112     yes\n",
      "113      no\n",
      "114     yes\n",
      "115      no\n",
      "116     yes\n",
      "117     yes\n",
      "118      no\n",
      "119     yes\n",
      "120      no\n",
      "121      no\n",
      "122     yes\n",
      "123     yes\n",
      "124     yes\n",
      "125      no\n",
      "126      no\n",
      "127      no\n",
      "128      no\n",
      "129     yes\n",
      "130     yes\n",
      "131      no\n",
      "132     yes\n",
      "133     yes\n",
      "134     yes\n",
      "135     yes\n",
      "136     yes\n",
      "137     yes\n",
      "138     yes\n",
      "139      no\n",
      "140      no\n",
      "141      no\n",
      "142     yes\n",
      "143     yes\n",
      "144     yes\n",
      "145     yes\n",
      "146     yes\n",
      "147     yes\n",
      "148     yes\n",
      "149     yes\n",
      "150      no\n",
      "151     yes\n",
      "152     yes\n",
      "153     yes\n",
      "154     yes\n",
      "155     yes\n",
      "156      no\n",
      "157     yes\n",
      "158      no\n",
      "159     yes\n",
      "160     yes\n",
      "161     yes\n",
      "162     yes\n",
      "163     yes\n",
      "164     yes\n",
      "165     yes\n",
      "166     yes\n",
      "167     yes\n",
      "168     yes\n",
      "169     yes\n",
      "170     yes\n",
      "171      no\n",
      "172      no\n",
      "173     yes\n",
      "174      no\n",
      "175      no\n",
      "176      no\n",
      "177     yes\n",
      "178     yes\n",
      "179     yes\n",
      "180     yes\n",
      "181     yes\n",
      "182     yes\n",
      "183      no\n",
      "184      no\n",
      "185      no\n",
      "186     yes\n",
      "187     yes\n",
      "188      no\n",
      "189     yes\n",
      "190     yes\n",
      "191      no\n",
      "192     yes\n",
      "193     yes\n",
      "194      no\n",
      "195      no\n",
      "196     yes\n",
      "197     yes\n",
      "198     yes\n",
      "199     yes\n",
      "200     yes\n",
      "201      no\n",
      "202     yes\n",
      "203      no\n",
      "204     yes\n",
      "205      no\n",
      "206      no\n",
      "207      no\n",
      "208     yes\n",
      "209      no\n",
      "210     yes\n",
      "211     yes\n",
      "212      no\n",
      "213     yes\n",
      "214      no\n",
      "215     yes\n",
      "216      no\n",
      "217     yes\n",
      "218     yes\n",
      "219      no\n",
      "220      no\n",
      "221     yes\n",
      "222     yes\n",
      "223      no\n",
      "224      no\n",
      "225     yes\n",
      "226      no\n",
      "227      no\n",
      "228     yes\n",
      "229     yes\n",
      "230      no\n",
      "231      no\n",
      "232      no\n",
      "233     yes\n",
      "234     yes\n",
      "235     yes\n",
      "236      no\n",
      "237      no\n",
      "238      no\n",
      "239      no\n",
      "240      no\n",
      "241      no\n",
      "242      no\n",
      "243     yes\n",
      "244     yes\n",
      "245      no\n",
      "246     yes\n",
      "247     yes\n",
      "248      no\n",
      "249     yes\n",
      "250      no\n",
      "251     yes\n",
      "252      no\n",
      "253      no\n",
      "254     yes\n",
      "255      no\n",
      "256     yes\n",
      "257     yes\n",
      "258     yes\n",
      "259     yes\n",
      "260      no\n",
      "261      no\n",
      "262     yes\n",
      "263     yes\n",
      "264     yes\n",
      "265      no\n",
      "266     yes\n",
      "267      no\n",
      "268     yes\n",
      "269      no\n",
      "270     yes\n",
      "271     yes\n",
      "272     yes\n",
      "273      no\n",
      "274     yes\n",
      "275     yes\n",
      "276     yes\n",
      "277     yes\n",
      "278      no\n",
      "279     yes\n",
      "280     yes\n",
      "281     yes\n",
      "282      no\n",
      "283      no\n",
      "284      no\n",
      "285      no\n",
      "286      no\n",
      "287      no\n",
      "288     yes\n",
      "289      no\n",
      "290     yes\n",
      "291     yes\n",
      "292      no\n",
      "293     yes\n",
      "294      no\n",
      "295     yes\n",
      "296     yes\n",
      "297     yes\n",
      "298      no\n",
      "299     yes\n",
      "300     yes\n",
      "301      no\n",
      "302     yes\n",
      "303     yes\n",
      "304      no\n",
      "305      no\n",
      "306     yes\n",
      "307      no\n",
      "308      no\n",
      "309     yes\n",
      "310     yes\n",
      "311     yes\n",
      "312     yes\n",
      "313     yes\n",
      "314     yes\n",
      "315      no\n",
      "316      no\n",
      "317     yes\n",
      "318     yes\n",
      "319      no\n",
      "320      no\n",
      "321      no\n",
      "322      no\n",
      "323     yes\n",
      "324      no\n",
      "325     yes\n",
      "326     yes\n",
      "327      no\n",
      "328      no\n",
      "329      no\n",
      "330      no\n",
      "331      no\n",
      "332     yes\n",
      "333     yes\n",
      "334      no\n",
      "335     yes\n",
      "336     yes\n",
      "337      no\n",
      "338     yes\n",
      "339      no\n",
      "340      no\n",
      "341      no\n",
      "342      no\n",
      "343     yes\n",
      "344      no\n",
      "345     yes\n",
      "346     yes\n",
      "347      no\n",
      "348     yes\n",
      "349      no\n",
      "350     yes\n",
      "351      no\n",
      "352      no\n",
      "353     yes\n",
      "354      no\n",
      "355      no\n",
      "356     yes\n",
      "357      no\n",
      "358     yes\n",
      "359     yes\n",
      "360      no\n",
      "361     yes\n",
      "362     yes\n",
      "363      no\n",
      "364     yes\n",
      "365     yes\n",
      "366     yes\n",
      "367      no\n",
      "368      no\n",
      "369     yes\n",
      "370     yes\n",
      "371      no\n",
      "372      no\n",
      "373      no\n",
      "374      no\n",
      "375      no\n",
      "376      no\n",
      "377      no\n",
      "378      no\n",
      "379      no\n",
      "380      no\n",
      "381      no\n",
      "382     yes\n",
      "383      no\n",
      "384      no\n",
      "385     yes\n",
      "386     yes\n",
      "387     yes\n",
      "388     yes\n",
      "389     yes\n",
      "390     yes\n",
      "391     yes\n",
      "392     yes\n",
      "393      no\n",
      "394      no\n",
      "395      no\n",
      "396     yes\n",
      "397      no\n",
      "398      no\n",
      "399      no\n",
      "400      no\n",
      "401      no\n",
      "402      no\n",
      "403      no\n",
      "404      no\n",
      "405      no\n",
      "406     yes\n",
      "407      no\n",
      "408     yes\n",
      "409     yes\n",
      "410     yes\n",
      "411      no\n",
      "412      no\n",
      "413      no\n",
      "414      no\n",
      "415     yes\n",
      "416     yes\n",
      "417      no\n",
      "418     yes\n",
      "419     yes\n",
      "420      no\n",
      "421      no\n",
      "422     yes\n",
      "423      no\n",
      "424      no\n",
      "425      no\n",
      "426      no\n",
      "427      no\n",
      "428     yes\n",
      "429     yes\n",
      "430      no\n",
      "431      no\n",
      "432     yes\n",
      "433      no\n",
      "434      no\n",
      "435      no\n",
      "436      no\n",
      "437      no\n",
      "438     yes\n",
      "439      no\n",
      "440      no\n",
      "441     yes\n",
      "442      no\n",
      "443      no\n",
      "444     yes\n",
      "445     yes\n",
      "446     yes\n",
      "447      no\n",
      "448     yes\n",
      "449      no\n",
      "450      no\n",
      "451      no\n",
      "452     yes\n",
      "453     yes\n",
      "454     yes\n",
      "455      no\n",
      "456      no\n",
      "457      no\n",
      "458     yes\n",
      "459      no\n",
      "460     yes\n",
      "461      no\n",
      "462     yes\n",
      "463      no\n",
      "464      no\n",
      "465     yes\n",
      "466     yes\n",
      "467     yes\n",
      "468      no\n",
      "469     yes\n",
      "470     yes\n",
      "471     yes\n",
      "472      no\n",
      "473     yes\n",
      "474     yes\n",
      "475     yes\n",
      "476     yes\n",
      "477     yes\n",
      "478     yes\n",
      "479     yes\n",
      "480      no\n",
      "481     yes\n",
      "482      no\n",
      "483     yes\n",
      "484     yes\n",
      "485     yes\n",
      "486     yes\n",
      "487      no\n",
      "488     yes\n",
      "489      no\n",
      "490      no\n",
      "491      no\n",
      "492     yes\n",
      "493     yes\n",
      "494      no\n",
      "495      no\n",
      "496      no\n",
      "497     yes\n",
      "498     yes\n",
      "499      no\n",
      "500      no\n",
      "501      no\n",
      "502      no\n",
      "503     yes\n",
      "504      no\n",
      "505     yes\n",
      "506      no\n",
      "507     yes\n",
      "508     yes\n",
      "509     yes\n",
      "510     yes\n",
      "511      no\n",
      "512      no\n",
      "513      no\n",
      "514     yes\n",
      "515     yes\n",
      "516      no\n",
      "517     yes\n",
      "518     yes\n",
      "519      no\n",
      "520      no\n",
      "521     yes\n",
      "522     yes\n",
      "523      no\n",
      "524      no\n",
      "525      no\n",
      "526      no\n",
      "527      no\n",
      "528     yes\n",
      "529     yes\n",
      "530      no\n",
      "531     yes\n",
      "532     yes\n",
      "533     yes\n",
      "534      no\n",
      "535      no\n",
      "536     yes\n",
      "537      no\n",
      "538     yes\n",
      "539      no\n",
      "540     yes\n",
      "541     yes\n",
      "542     yes\n",
      "543     yes\n",
      "544      no\n",
      "545      no\n",
      "546     yes\n",
      "547      no\n",
      "548     yes\n",
      "549     yes\n",
      "550      no\n",
      "551      no\n",
      "552     yes\n",
      "553      no\n",
      "554     yes\n",
      "555     yes\n",
      "556     yes\n",
      "557     yes\n",
      "558     yes\n",
      "559      no\n",
      "560      no\n",
      "561     yes\n",
      "562      no\n",
      "563     yes\n",
      "564     yes\n",
      "565     yes\n",
      "566      no\n",
      "567      no\n",
      "568      no\n",
      "569     yes\n",
      "570     yes\n",
      "571     yes\n",
      "572     yes\n",
      "573     yes\n",
      "574      no\n",
      "575      no\n",
      "576      no\n",
      "577      no\n",
      "578      no\n",
      "579      no\n",
      "580     yes\n",
      "581     yes\n",
      "582      no\n",
      "583      no\n",
      "584      no\n",
      "585     yes\n",
      "586      no\n",
      "587      no\n",
      "588     yes\n",
      "589     yes\n",
      "590     yes\n",
      "591     yes\n",
      "592     yes\n",
      "593      no\n",
      "594      no\n",
      "595     yes\n",
      "596     yes\n",
      "597     yes\n",
      "598      no\n",
      "599     yes\n",
      "600     yes\n"
     ]
    }
   ],
   "source": [
    "print(credit_default)"
   ]
  },
  {
   "cell_type": "code",
   "execution_count": 13,
   "metadata": {},
   "outputs": [
    {
     "name": "stdout",
     "output_type": "stream",
     "text": [
      "[1] \"Number of rows for the training set\"\n"
     ]
    },
    {
     "data": {
      "text/html": [
       "420"
      ],
      "text/latex": [
       "420"
      ],
      "text/markdown": [
       "420"
      ],
      "text/plain": [
       "[1] 420"
      ]
     },
     "metadata": {},
     "output_type": "display_data"
    },
    {
     "name": "stdout",
     "output_type": "stream",
     "text": [
      "[1] \"Number of rows for the validation set\"\n"
     ]
    },
    {
     "data": {
      "text/html": [
       "180"
      ],
      "text/latex": [
       "180"
      ],
      "text/markdown": [
       "180"
      ],
      "text/plain": [
       "[1] 180"
      ]
     },
     "metadata": {},
     "output_type": "display_data"
    }
   ],
   "source": [
    "set.seed(6751342)\n",
    "\n",
    "# Partition the data set into training and testing data\n",
    "samp.size = floor(0.70*nrow(credit_default))\n",
    "\n",
    "# Training set\n",
    "print(\"Number of rows for the training set\")\n",
    "train_ind = sample(seq_len(nrow(credit_default)), size = samp.size)\n",
    "train.data3 = credit_default[train_ind,]\n",
    "nrow(train.data3)\n",
    "\n",
    "# Testing set \n",
    "print(\"Number of rows for the validation set\")\n",
    "test.data3 = credit_default[-train_ind,]\n",
    "nrow(test.data3)"
   ]
  },
  {
   "cell_type": "code",
   "execution_count": 14,
   "metadata": {},
   "outputs": [
    {
     "name": "stdout",
     "output_type": "stream",
     "text": [
      "\n",
      "Classification tree:\n",
      "rpart(formula = default ~ missed_payment + credit_utilize + assets, \n",
      "    data = train.data3, method = \"class\", control = rpart.control(minsplit = 10))\n",
      "\n",
      "Variables actually used in tree construction:\n",
      "[1] assets         credit_utilize missed_payment\n",
      "\n",
      "Root node error: 198/420 = 0.47143\n",
      "\n",
      "n= 420 \n",
      "\n",
      "        CP nsplit rel error  xerror     xstd\n",
      "1 0.792929      0   1.00000 1.00000 0.051668\n",
      "2 0.045455      1   0.20707 0.20707 0.030720\n",
      "3 0.010101      3   0.11616 0.12121 0.024025\n",
      "4 0.010000      5   0.09596 0.13131 0.024943\n"
     ]
    }
   ],
   "source": [
    "set.seed(6751342)\n",
    "\n",
    "library(rpart)\n",
    "model3 <- rpart(default ~ missed_payment + credit_utilize + assets, method=\"class\", data=train.data3, control = rpart.control(minsplit=10))\n",
    "printcp(model3)"
   ]
  },
  {
   "cell_type": "code",
   "execution_count": 15,
   "metadata": {},
   "outputs": [
    {
     "data": {
      "image/png": "[encoded data removed]",
      "text/plain": [
       "plot without title"
      ]
     },
     "metadata": {},
     "output_type": "display_data"
    }
   ],
   "source": [
    "#plotcp(model) # Visualize cross validation results\n",
    "plotcp(model3, minline = TRUE, lty = 3, col = 2, upper = c(\"size\", \"splits\", \"none\"))"
   ]
  },
  {
   "cell_type": "code",
   "execution_count": 27,
   "metadata": {},
   "outputs": [
    {
     "name": "stdout",
     "output_type": "stream",
     "text": [
      "\n",
      "Classification tree:\n",
      "rpart(formula = default ~ missed_payment + credit_utilize + assets, \n",
      "    data = train.data3, method = \"class\", control = rpart.control(cp = 0.021))\n",
      "\n",
      "Variables actually used in tree construction:\n",
      "[1] assets         credit_utilize\n",
      "\n",
      "Root node error: 198/420 = 0.47143\n",
      "\n",
      "n= 420 \n",
      "\n",
      "        CP nsplit rel error  xerror     xstd\n",
      "1 0.792929      0   1.00000 1.00000 0.051668\n",
      "2 0.045455      1   0.20707 0.20707 0.030720\n",
      "3 0.021000      3   0.11616 0.12121 0.024025\n"
     ]
    }
   ],
   "source": [
    "set.seed(6751342)\n",
    "pruned_model3 <- rpart(default ~ missed_payment + credit_utilize + assets, method=\"class\", data=train.data3, control = rpart.control(cp=0.021))\n",
    "printcp(pruned_model3)"
   ]
  },
  {
   "cell_type": "code",
   "execution_count": 29,
   "metadata": {},
   "outputs": [
    {
     "data": {
      "image/png": "[encoded data removed]",
      "text/plain": [
       "plot without title"
      ]
     },
     "metadata": {},
     "output_type": "display_data"
    }
   ],
   "source": [
    "library(rpart.plot)\n",
    "rpart.plot(pruned_model3)"
   ]
  },
  {
   "cell_type": "code",
   "execution_count": 30,
   "metadata": {},
   "outputs": [
    {
     "name": "stdout",
     "output_type": "stream",
     "text": [
      "[1] \"Confusion Matrix\"\n"
     ]
    },
    {
     "data": {
      "text/html": [
       "<table>\n",
       "<caption>A matrix: 2 × 2 of type chr</caption>\n",
       "<thead>\n",
       "\t<tr><th></th><th scope=col>Prediction default : no</th><th scope=col>Prediction default : yes</th></tr>\n",
       "</thead>\n",
       "<tbody>\n",
       "\t<tr><th scope=row>Actual default : no</th><td> 74</td><td>  4</td></tr>\n",
       "\t<tr><th scope=row>Actual default : yes</th><td>  2</td><td>100</td></tr>\n",
       "</tbody>\n",
       "</table>\n"
      ],
      "text/latex": [
       "A matrix: 2 × 2 of type chr\n",
       "\\begin{tabular}{r|ll}\n",
       "  & Prediction default : no & Prediction default : yes\\\\\n",
       "\\hline\n",
       "\tActual default : no &  74 &   4\\\\\n",
       "\tActual default : yes &   2 & 100\\\\\n",
       "\\end{tabular}\n"
      ],
      "text/markdown": [
       "\n",
       "A matrix: 2 × 2 of type chr\n",
       "\n",
       "| <!--/--> | Prediction default : no | Prediction default : yes |\n",
       "|---|---|---|\n",
       "| Actual default : no |  74 |   4 |\n",
       "| Actual default : yes |   2 | 100 |\n",
       "\n"
      ],
      "text/plain": [
       "                      pred\n",
       "                       Prediction default : no Prediction default : yes\n",
       "  Actual default : no   74                       4                     \n",
       "  Actual default : yes   2                     100                     "
      ]
     },
     "metadata": {},
     "output_type": "display_data"
    }
   ],
   "source": [
    "# Make predictions on the test data\n",
    "pred <- predict(pruned_model3, newdata=test.data3, type='class')\n",
    "\n",
    "# Construct the confusion matrix\n",
    "conf.matrix <- table(test.data3$default, pred)[,c('no','yes')]\n",
    "rownames(conf.matrix) <- paste(\"Actual default \", rownames(conf.matrix), sep = \": \")\n",
    "colnames(conf.matrix) <- paste(\"Prediction default \", colnames(conf.matrix), sep = \": \")\n",
    "\n",
    "# Print nicely formatted confusion matrix\n",
    "print(\"Confusion Matrix\")\n",
    "format(conf.matrix,justify=\"centre\",digit=2)"
   ]
  },
  {
   "cell_type": "code",
   "execution_count": 33,
   "metadata": {},
   "outputs": [
    {
     "name": "stdout",
     "output_type": "stream",
     "text": [
      "[1] \"Prediction for defaulting (yes or no): missed_payment='none', assets='car_house', credit_utilize=0.3\"\n"
     ]
    },
    {
     "data": {
      "text/html": [
       "<strong>1:</strong> no\n",
       "<details>\n",
       "\t<summary style=display:list-item;cursor:pointer>\n",
       "\t\t<strong>Levels</strong>:\n",
       "\t</summary>\n",
       "\t<ol class=list-inline>\n",
       "\t\t<li>'no'</li>\n",
       "\t\t<li>'yes'</li>\n",
       "\t</ol>\n",
       "</details>"
      ],
      "text/latex": [
       "\\textbf{1:} no\n",
       "\\emph{Levels}: \\begin{enumerate*}\n",
       "\\item 'no'\n",
       "\\item 'yes'\n",
       "\\end{enumerate*}\n"
      ],
      "text/markdown": [
       "**1:** no\n",
       "**Levels**: 1. 'no'\n",
       "2. 'yes'\n",
       "\n",
       "\n"
      ],
      "text/plain": [
       " 1 \n",
       "no \n",
       "Levels: no yes"
      ]
     },
     "metadata": {},
     "output_type": "display_data"
    },
    {
     "name": "stdout",
     "output_type": "stream",
     "text": [
      "[1] \"Prediction for defaulting (yes or no): missed_payment='yes', assets='none', credit_utilize=0.3\"\n"
     ]
    },
    {
     "data": {
      "text/html": [
       "<strong>1:</strong> yes\n",
       "<details>\n",
       "\t<summary style=display:list-item;cursor:pointer>\n",
       "\t\t<strong>Levels</strong>:\n",
       "\t</summary>\n",
       "\t<ol class=list-inline>\n",
       "\t\t<li>'no'</li>\n",
       "\t\t<li>'yes'</li>\n",
       "\t</ol>\n",
       "</details>"
      ],
      "text/latex": [
       "\\textbf{1:} yes\n",
       "\\emph{Levels}: \\begin{enumerate*}\n",
       "\\item 'no'\n",
       "\\item 'yes'\n",
       "\\end{enumerate*}\n"
      ],
      "text/markdown": [
       "**1:** yes\n",
       "**Levels**: 1. 'no'\n",
       "2. 'yes'\n",
       "\n",
       "\n"
      ],
      "text/plain": [
       "  1 \n",
       "yes \n",
       "Levels: no yes"
      ]
     },
     "metadata": {},
     "output_type": "display_data"
    }
   ],
   "source": [
    "print(\"Prediction for defaulting (yes or no): missed_payment='none', assets='car_house', credit_utilize=0.3\")\n",
    "newdata3 <- data.frame(missed_payment='no', assets='car_house', credit_utilize=0.3)\n",
    "predict(pruned_model3, newdata3, type='class')\n",
    "\n",
    "print(\"Prediction for defaulting (yes or no): missed_payment='yes', assets='none', credit_utilize=0.3\")\n",
    "newdata3 <- data.frame(missed_payment='yes', assets='none', credit_utilize=0.3)\n",
    "predict(pruned_model3, newdata3, type='class')"
   ]
  },
  {
   "cell_type": "code",
   "execution_count": 20,
   "metadata": {},
   "outputs": [],
   "source": [
    "#Wage Earnings Tree Section Below"
   ]
  },
  {
   "cell_type": "code",
   "execution_count": 21,
   "metadata": {},
   "outputs": [
    {
     "name": "stdout",
     "output_type": "stream",
     "text": [
      "   wage_growth inflation unemployment      economy     education   gdp\n",
      "1         7.30      4.49         3.56 no_recession       college  6.27\n",
      "2         9.05      9.59         2.42 no_recession       college  9.44\n",
      "3        10.08     11.36         1.23 no_recession post_graduate 18.29\n",
      "4        10.98      9.55         1.18 no_recession post_graduate 19.96\n",
      "5         8.54      8.63         2.54 no_recession   high_school  8.43\n",
      "6         9.75      8.26         2.22 no_recession       college 17.85\n",
      "7         2.28      1.71         9.33    recession   high_school  2.20\n",
      "8         3.20      3.04         7.13    recession post_graduate  3.64\n",
      "9         9.62      6.60         1.91 no_recession   high_school 13.93\n",
      "10        5.20      3.62         4.66    recession post_graduate  4.78\n",
      "11        7.34      5.91         2.95 no_recession   high_school  7.62\n",
      "12        5.76      3.00         4.12    recession post_graduate  5.80\n",
      "13        3.59      3.17         6.51    recession   high_school  4.03\n",
      "14        5.98      4.16         3.55 no_recession   high_school  6.64\n",
      "15        7.32      7.41         2.78 no_recession   high_school 10.97\n",
      "16        9.89     10.27         0.61 no_recession       college 20.97\n",
      "17        8.28     11.33         2.02 no_recession       college  6.13\n",
      "18        9.16      8.12         2.39 no_recession       college  8.90\n",
      "19        9.24     10.81         1.44 no_recession   high_school  6.04\n",
      "20        5.71      7.38         4.50 no_recession       college  8.64\n",
      "21       10.13      9.22         1.29 no_recession post_graduate 21.39\n",
      "22        7.84      6.39         1.75 no_recession   high_school  6.79\n",
      "23        2.25      1.67         9.22    recession   high_school  2.49\n",
      "24        9.28      9.83         1.74 no_recession post_graduate 12.00\n",
      "25        7.65      4.77         2.37 no_recession   high_school 11.13\n",
      "26        7.68      6.44         2.76 no_recession   high_school  7.12\n",
      "27       10.68      8.69         1.37 no_recession post_graduate 15.32\n",
      "28        7.07      6.58         3.11 no_recession       college 10.94\n",
      "29        8.32      7.52         2.12 no_recession   high_school  9.58\n",
      "30        7.46      6.22         3.09 no_recession       college  8.58\n",
      "31        1.81      1.56        11.07    recession   high_school  3.08\n",
      "32        9.77      9.55         0.61 no_recession post_graduate 13.18\n",
      "33        9.47     10.29         1.47 no_recession       college 13.35\n",
      "34        5.70      4.06         4.80 no_recession   high_school  6.43\n",
      "35        3.05      2.28         7.66 no_recession       college  3.43\n",
      "36        7.39      8.26         2.75 no_recession       college  7.13\n",
      "37        8.85      9.07         2.30 no_recession       college 11.10\n",
      "38        8.05      7.38         3.27 no_recession   high_school  5.40\n",
      "39        6.81      4.32         3.27    recession post_graduate  5.60\n",
      "40        9.56      7.94         2.17 no_recession post_graduate  8.77\n",
      "41        9.92     10.99         1.83 no_recession   high_school 15.96\n",
      "42        1.72      1.49        10.61 no_recession   high_school  2.88\n",
      "43        4.80      2.64         4.56    recession       college  3.45\n",
      "44        6.19      3.51         3.74 no_recession   high_school  5.51\n",
      "45        6.51      5.62         4.21 no_recession post_graduate  6.77\n",
      "46        3.86      3.25         5.87    recession   high_school  1.49\n",
      "47        3.05      2.20         7.07    recession   high_school  2.99\n",
      "48        2.09      2.55         9.06    recession post_graduate  2.36\n",
      "49        5.71      4.21         4.47 no_recession       college  3.13\n",
      "50        7.76      5.38         3.32 no_recession   high_school 12.87\n",
      "51        9.03     10.95         1.82 no_recession       college 16.03\n",
      "52        0.00      1.50        13.99    recession       college  1.59\n",
      "53        5.89      5.18         3.53 no_recession   high_school  4.31\n",
      "54        5.04      2.56         4.22 no_recession       college  3.50\n",
      "55        9.19      8.62         2.08 no_recession       college 11.02\n",
      "56        9.18      6.15         2.02 no_recession   high_school  9.58\n",
      "57        3.93      1.43         6.79 no_recession   high_school  2.48\n",
      "58        8.48      7.00         2.78 no_recession       college 11.68\n",
      "59       10.58      9.67         1.09 no_recession post_graduate 11.15\n",
      "60        0.95      1.80        11.69    recession       college  1.56\n",
      "61        6.52      7.26         4.00 no_recession   high_school  4.84\n",
      "62        9.76      9.00         1.86 no_recession       college  9.57\n",
      "63        7.49      6.73         2.21 no_recession       college  8.32\n",
      "64        6.78      4.78         3.64 no_recession       college  4.63\n",
      "65        3.50      2.53         6.58    recession post_graduate  3.57\n",
      "66        1.49      1.27        10.80    recession   high_school  1.18\n",
      "67        6.24      2.68         3.79 no_recession   high_school  5.87\n",
      "68        2.81      1.85         8.08    recession       college  3.00\n",
      "69        9.80     10.83         1.97 no_recession post_graduate  9.61\n",
      "70        6.34      3.42         4.04 no_recession       college  6.68\n",
      "71        7.69      5.04         3.04 no_recession post_graduate  8.64\n",
      "72        5.10      4.69         4.48 no_recession   high_school  4.33\n",
      "73       11.57     10.51         1.07 no_recession post_graduate 21.88\n",
      "74        3.44      3.66         7.08 no_recession       college  1.82\n",
      "75        7.52      8.32         3.40 no_recession   high_school  8.52\n",
      "76        6.83      7.68         2.30 no_recession   high_school  7.27\n",
      "77        9.56     10.03         2.06 no_recession       college 19.45\n",
      "78        9.89     10.21         1.81 no_recession post_graduate  9.78\n",
      "79        9.67     11.28         1.46 no_recession   high_school 14.92\n",
      "80        8.60      8.29         2.46 no_recession post_graduate 12.98\n",
      "81        6.07      3.51         3.74 no_recession   high_school  2.37\n",
      "82        9.36      6.31         1.81 no_recession   high_school 14.75\n",
      "83        9.91      9.37         2.25 no_recession post_graduate  9.05\n",
      "84       10.65     10.75         1.77 no_recession post_graduate 16.93\n",
      "85        7.04      5.51         2.90 no_recession   high_school  9.41\n",
      "86        3.68      3.88         6.77    recession   high_school  2.93\n",
      "87        7.43      6.67         2.36 no_recession   high_school  5.52\n",
      "88        9.59      7.39         2.08 no_recession       college 14.74\n",
      "89        9.73      9.72         1.73 no_recession       college 17.64\n",
      "90        8.49      7.25         3.03 no_recession   high_school  8.86\n",
      "91        1.49      1.36        10.32    recession       college  1.70\n",
      "92        9.32      8.56         2.22 no_recession post_graduate 13.61\n",
      "93        8.28     10.80         2.03 no_recession post_graduate 11.23\n",
      "94        9.28      9.41         1.86 no_recession   high_school 16.18\n",
      "95        1.83      2.01        10.24    recession post_graduate  2.43\n",
      "96       11.00     11.09         1.97 no_recession post_graduate 14.96\n",
      "97        4.83      2.19         5.38    recession post_graduate  3.45\n",
      "98        5.66      3.17         4.05    recession post_graduate  6.61\n",
      "99        8.89     11.08         2.16 no_recession       college 14.30\n"
     ]
    }
   ],
   "source": [
    "print(economic)"
   ]
  },
  {
   "cell_type": "code",
   "execution_count": 22,
   "metadata": {},
   "outputs": [
    {
     "name": "stdout",
     "output_type": "stream",
     "text": [
      "[1] \"Number of rows for the training set\"\n"
     ]
    },
    {
     "data": {
      "text/html": [
       "79"
      ],
      "text/latex": [
       "79"
      ],
      "text/markdown": [
       "79"
      ],
      "text/plain": [
       "[1] 79"
      ]
     },
     "metadata": {},
     "output_type": "display_data"
    },
    {
     "name": "stdout",
     "output_type": "stream",
     "text": [
      "[1] \"Number of rows for the testing set\"\n"
     ]
    },
    {
     "data": {
      "text/html": [
       "20"
      ],
      "text/latex": [
       "20"
      ],
      "text/markdown": [
       "20"
      ],
      "text/plain": [
       "[1] 20"
      ]
     },
     "metadata": {},
     "output_type": "display_data"
    }
   ],
   "source": [
    "set.seed(6751342)\n",
    "\n",
    "# Partition the data set into training and testing data\n",
    "samp.size = floor(0.80*nrow(economic))\n",
    "\n",
    "# Training set\n",
    "print(\"Number of rows for the training set\")\n",
    "train_ind = sample(seq_len(nrow(economic)), size = samp.size)\n",
    "train.data4 = economic[train_ind,]\n",
    "nrow(train.data4)\n",
    "\n",
    "# Testing set \n",
    "print(\"Number of rows for the testing set\")\n",
    "test.data4 = economic[-train_ind,]\n",
    "nrow(test.data4)"
   ]
  },
  {
   "cell_type": "code",
   "execution_count": null,
   "metadata": {},
   "outputs": [],
   "source": []
  },
  {
   "cell_type": "code",
   "execution_count": 23,
   "metadata": {},
   "outputs": [
    {
     "name": "stdout",
     "output_type": "stream",
     "text": [
      "\n",
      "Regression tree:\n",
      "rpart(formula = wage_growth ~ economy + unemployment + gdp, data = train.data4, \n",
      "    method = \"anova\", control = rpart.control(minsplit = 10))\n",
      "\n",
      "Variables actually used in tree construction:\n",
      "[1] gdp          unemployment\n",
      "\n",
      "Root node error: 587.64/79 = 7.4385\n",
      "\n",
      "n= 79 \n",
      "\n",
      "        CP nsplit rel error  xerror     xstd\n",
      "1 0.708690      0  1.000000 1.02234 0.148393\n",
      "2 0.129011      1  0.291310 0.35817 0.048483\n",
      "3 0.059161      2  0.162299 0.23645 0.032876\n",
      "4 0.023760      3  0.103138 0.17992 0.027038\n",
      "5 0.015015      4  0.079378 0.17113 0.024920\n",
      "6 0.012324      5  0.064363 0.13864 0.020731\n",
      "7 0.010000      6  0.052039 0.13256 0.019947\n"
     ]
    }
   ],
   "source": [
    "set.seed(6751342)\n",
    "\n",
    "library(rpart)\n",
    "model4 <- rpart(wage_growth ~ economy + unemployment + gdp, method=\"anova\", data=train.data4, control = rpart.control(minsplit=10))\n",
    "printcp(model4)"
   ]
  },
  {
   "cell_type": "code",
   "execution_count": 6,
   "metadata": {},
   "outputs": [
    {
     "data": {
      "image/png": "[encoded data removed]",
      "text/plain": [
       "plot without title"
      ]
     },
     "metadata": {},
     "output_type": "display_data"
    }
   ],
   "source": [
    "# Visualize cross validation results\n",
    "plotcp(model4, minline = TRUE, lty = 3, col = 2, upper = c(\"size\", \"splits\", \"none\"))"
   ]
  },
  {
   "cell_type": "code",
   "execution_count": 31,
   "metadata": {},
   "outputs": [
    {
     "name": "stdout",
     "output_type": "stream",
     "text": [
      "\n",
      "Regression tree:\n",
      "rpart(formula = wage_growth ~ economy + unemployment + gdp, data = train.data4, \n",
      "    method = \"anova\", control = rpart.control(cp = 0.014))\n",
      "\n",
      "Variables actually used in tree construction:\n",
      "[1] gdp          unemployment\n",
      "\n",
      "Root node error: 587.64/79 = 7.4385\n",
      "\n",
      "n= 79 \n",
      "\n",
      "        CP nsplit rel error  xerror     xstd\n",
      "1 0.708690      0  1.000000 1.02234 0.148393\n",
      "2 0.129011      1  0.291310 0.35817 0.048483\n",
      "3 0.059161      2  0.162299 0.23645 0.032876\n",
      "4 0.023760      3  0.103138 0.23034 0.032585\n",
      "5 0.014000      4  0.079378 0.20281 0.029362\n"
     ]
    }
   ],
   "source": [
    "set.seed(6751342)\n",
    "\n",
    "library(rpart)\n",
    "pruned_model4 <- rpart(wage_growth ~ economy + unemployment + gdp, method=\"anova\", data=train.data4, control = rpart.control(cp=0.014))\n",
    "printcp(pruned_model4)"
   ]
  },
  {
   "cell_type": "code",
   "execution_count": 32,
   "metadata": {},
   "outputs": [
    {
     "data": {
      "image/png": "[encoded data removed]",
      "text/plain": [
       "plot without title"
      ]
     },
     "metadata": {},
     "output_type": "display_data"
    }
   ],
   "source": [
    "library(rpart.plot)\n",
    "rpart.plot(pruned_model4)"
   ]
  },
  {
   "cell_type": "code",
   "execution_count": 34,
   "metadata": {
    "scrolled": true
   },
   "outputs": [
    {
     "name": "stdout",
     "output_type": "stream",
     "text": [
      "[1] \"Root Mean Squared Error\"\n"
     ]
    },
    {
     "data": {
      "text/html": [
       "1.0268"
      ],
      "text/latex": [
       "1.0268"
      ],
      "text/markdown": [
       "1.0268"
      ],
      "text/plain": [
       "[1] 1.0268"
      ]
     },
     "metadata": {},
     "output_type": "display_data"
    }
   ],
   "source": [
    "# Here is a custom R function to calculate Root Mean Squared Error or RMSE for any regression model. The following function (called RMSE) will calculate the Root Mean Squared Error\n",
    "# based on the formula shown above.\n",
    "RMSE = function(pred, obs) {\n",
    "    return(sqrt( sum( (pred - obs)^2 )/length(pred) ) )\n",
    "}\n",
    "\n",
    "# Calculate RMSE \n",
    "pred <- predict(pruned_model4, newdata=test.data4, type='vector')\n",
    "print(\"Root Mean Squared Error\")\n",
    "rmse <- RMSE(pred, test.data4$wage_growth)\n",
    "round(rmse, 4)"
   ]
  },
  {
   "cell_type": "code",
   "execution_count": 38,
   "metadata": {},
   "outputs": [
    {
     "name": "stdout",
     "output_type": "stream",
     "text": [
      "[1] \"Prediction for wage growth: economy='no_recession', unemployment='car_house', gdp=0.3\"\n"
     ]
    },
    {
     "data": {
      "text/html": [
       "<strong>1:</strong> 7.08142857142857"
      ],
      "text/latex": [
       "\\textbf{1:} 7.08142857142857"
      ],
      "text/markdown": [
       "**1:** 7.08142857142857"
      ],
      "text/plain": [
       "       1 \n",
       "7.081429 "
      ]
     },
     "metadata": {},
     "output_type": "display_data"
    },
    {
     "name": "stdout",
     "output_type": "stream",
     "text": [
      "[1] \"Prediction for wage growth: economy='recession', unemployment='car_house', gdp=0.3\"\n"
     ]
    },
    {
     "data": {
      "text/html": [
       "<strong>1:</strong> 4.4025"
      ],
      "text/latex": [
       "\\textbf{1:} 4.4025"
      ],
      "text/markdown": [
       "**1:** 4.4025"
      ],
      "text/plain": [
       "     1 \n",
       "4.4025 "
      ]
     },
     "metadata": {},
     "output_type": "display_data"
    }
   ],
   "source": [
    "print(\"Prediction for wage growth: economy='no_recession', unemployment='car_house', gdp=0.3\")\n",
    "newdata4 <- data.frame(economy='no_recession', unemployment=3.4, gdp=3.5)\n",
    "predict(pruned_model4, newdata4, type='vector')\n",
    "\n",
    "print(\"Prediction for wage growth: economy='recession', unemployment='car_house', gdp=0.3\")\n",
    "newdata5 <- data.frame(economy='recession', unemployment=7.4, gdp=1.4)\n",
    "predict(pruned_model4, newdata5, type='vector')"
   ]
  },
  {
   "cell_type": "markdown",
   "metadata": {
    "deletable": false,
    "editable": false
   },
   "source": [
    "## End of Module Six Jupyter Notebook\n",
    "Attach the HTML output along with your problem set report for the Module Six Problem Set. The HTML output can be downloaded by clicking **File**, then **Download as**, then **HTML**. Be sure to answer all of the questions in your problem set report. "
   ]
  },
  {
   "cell_type": "code",
   "execution_count": null,
   "metadata": {},
   "outputs": [],
   "source": []
  },
  {
   "cell_type": "code",
   "execution_count": null,
   "metadata": {},
   "outputs": [],
   "source": []
  }
 ],
 "metadata": {
  "kernelspec": {
   "display_name": "R",
   "language": "R",
   "name": "ir"
  },
  "language_info": {
   "codemirror_mode": "r",
   "file_extension": ".r",
   "mimetype": "text/x-r-source",
   "name": "R",
   "pygments_lexer": "r",
   "version": "3.4.4"
  }
 },
 "nbformat": 4,
 "nbformat_minor": 2
}
