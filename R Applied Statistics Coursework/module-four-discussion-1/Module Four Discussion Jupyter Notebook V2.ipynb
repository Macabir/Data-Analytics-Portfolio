{
 "cells": [
  {
   "cell_type": "markdown",
   "metadata": {
    "deletable": false,
    "editable": false
   },
   "source": [
    "# Module Four Discussion: F-Test for Comparing Nested Models\n",
    "\n",
    "**Important: You will not be doing a problem set in this module so as to allow you more time to work on Project One. Instead, you will have more in-depth discussion questions based on the scripts for the nested models F-test.**\n",
    "\n",
    "In this notebook, you have been given a set of steps that will show you how to compare different regression models for a data set using the F-test for nested models. It is very important to run the steps in order. Some steps depend on the outputs of earlier steps. Once you have run all the steps, be sure to complete the Module Four discussion.\n",
    "\n",
    "Reminder: If you have not already reviewed the questions for the Module Four discussion, be sure to do so now. That will give you an idea of the questions you will need to answer with the outputs of this script."
   ]
  },
  {
   "cell_type": "markdown",
   "metadata": {
    "deletable": false,
    "editable": false
   },
   "source": [
    "### Step 1: Loading the Data Set\n",
    "You are an analyst working for a car maker. You have access to a set of data that can be used to study the fuel economy of a car. Car makers are interested in studying factors that are associated with better fuel economy. This data set includes several important variables that are associated with fuel economy. You will use this data set to create models to predict fuel economy.\n",
    "\n",
    "This block of R code will load the data set from **mtcars.csv** file. You will then create a subset of the data with only the three variables that are needed in the next step. Here are the variables that will be retained:\n",
    "\n",
    "| <div style=\"text-align: left\"> Variable </div>  |   <div style=\"text-align: left\"> What does it represent? </div> |\n",
    "| -- | --  |\n",
    "| <div style=\"text-align: left\"> mpg </div> | <div style=\"text-align: left\"> Miles/(US) gallon </div> |\n",
    "| <div style=\"text-align: left\"> drat </div> | <div style=\"text-align: left\"> Rear axle ratio </div> |\n",
    "| <div style=\"text-align: left\"> wt </div> | <div style=\"text-align: left\"> Weight (1,000 lbs) </div> |\n",
    "\n",
    "Reference: R data sets. (1974). <i>Motor trend car road tests</i> [Data file]. Retrieved from https://www.rdocumentation.org/packages/datasets/versions/3.6.2/topics/mtcars\n",
    "\n",
    "Click the code section below and hit the **Run** button above."
   ]
  },
  {
   "cell_type": "code",
   "execution_count": 1,
   "metadata": {
    "deletable": false,
    "editable": false,
    "scrolled": true
   },
   "outputs": [
    {
     "name": "stdout",
     "output_type": "stream",
     "text": [
      "[1] \"head\"\n"
     ]
    },
    {
     "data": {
      "text/html": [
       "<table>\n",
       "<caption>A data.frame: 6 × 3</caption>\n",
       "<thead>\n",
       "\t<tr><th scope=col>mpg</th><th scope=col>drat</th><th scope=col>wt</th></tr>\n",
       "\t<tr><th scope=col>&lt;dbl&gt;</th><th scope=col>&lt;dbl&gt;</th><th scope=col>&lt;dbl&gt;</th></tr>\n",
       "</thead>\n",
       "<tbody>\n",
       "\t<tr><td>21.0</td><td>3.90</td><td>2.620</td></tr>\n",
       "\t<tr><td>21.0</td><td>3.90</td><td>2.875</td></tr>\n",
       "\t<tr><td>22.8</td><td>3.85</td><td>2.320</td></tr>\n",
       "\t<tr><td>21.4</td><td>3.08</td><td>3.215</td></tr>\n",
       "\t<tr><td>18.7</td><td>3.15</td><td>3.440</td></tr>\n",
       "\t<tr><td>18.1</td><td>2.76</td><td>3.460</td></tr>\n",
       "</tbody>\n",
       "</table>\n"
      ],
      "text/latex": [
       "A data.frame: 6 × 3\n",
       "\\begin{tabular}{r|lll}\n",
       " mpg & drat & wt\\\\\n",
       " <dbl> & <dbl> & <dbl>\\\\\n",
       "\\hline\n",
       "\t 21.0 & 3.90 & 2.620\\\\\n",
       "\t 21.0 & 3.90 & 2.875\\\\\n",
       "\t 22.8 & 3.85 & 2.320\\\\\n",
       "\t 21.4 & 3.08 & 3.215\\\\\n",
       "\t 18.7 & 3.15 & 3.440\\\\\n",
       "\t 18.1 & 2.76 & 3.460\\\\\n",
       "\\end{tabular}\n"
      ],
      "text/markdown": [
       "\n",
       "A data.frame: 6 × 3\n",
       "\n",
       "| mpg &lt;dbl&gt; | drat &lt;dbl&gt; | wt &lt;dbl&gt; |\n",
       "|---|---|---|\n",
       "| 21.0 | 3.90 | 2.620 |\n",
       "| 21.0 | 3.90 | 2.875 |\n",
       "| 22.8 | 3.85 | 2.320 |\n",
       "| 21.4 | 3.08 | 3.215 |\n",
       "| 18.7 | 3.15 | 3.440 |\n",
       "| 18.1 | 2.76 | 3.460 |\n",
       "\n"
      ],
      "text/plain": [
       "  mpg  drat wt   \n",
       "1 21.0 3.90 2.620\n",
       "2 21.0 3.90 2.875\n",
       "3 22.8 3.85 2.320\n",
       "4 21.4 3.08 3.215\n",
       "5 18.7 3.15 3.440\n",
       "6 18.1 2.76 3.460"
      ]
     },
     "metadata": {},
     "output_type": "display_data"
    }
   ],
   "source": [
    "# Loading mtcars data set from a mtcars.csv file\n",
    "mtcars <- read.csv(file='mtcars.csv', header=TRUE, sep=\",\")\n",
    "\n",
    "vars <- c('mpg','drat','wt')\n",
    "mtcars_subset <- mtcars[vars]\n",
    "\n",
    "# Print the first six rows\n",
    "print(\"head\")\n",
    "head(mtcars_subset, 6)"
   ]
  },
  {
   "cell_type": "markdown",
   "metadata": {},
   "source": [
    " "
   ]
  },
  {
   "cell_type": "markdown",
   "metadata": {
    "deletable": false,
    "editable": false
   },
   "source": [
    "## Step 2: Compare Interaction Model with No Interaction Model\n",
    "In step 3 of Module Two Jupyter Notebook, you created an interaction model for fuel economy using two quantitative variables: weight of the car and rear axle ratio. This model included the interaction term between weight and rear axle ratio. You will now compare this model with a model that does not contain the interaction term. These models can be thought of as nested models. Two models are nested if one of them contains all terms of the second model in addition to having at least one additional term. The model with the additional term is called the complete or full model. The other model is called the reduced or restricted model. \n",
    "\n",
    "The comparison between the complete and reduced model will be done using the F-test for nested models. For this particular model comparison, the F-test will evaluate whether the interaction term contributes in predicting the fuel economy. If the test is significant, then the interaction model should be used. If the test is insignificant, then the reduced model should be used. \n",
    "<br><br>\n",
    "\n",
    "The general form of the complete and reduced model is:\n",
    "<br>\n",
    "\n",
    "\\begin{equation*}\n",
    "\\large E(y) = {\\beta}_0\\ +\\ {\\beta}_1\\ {x}_1\\ +\\ {\\beta}_2\\ {x}_2\\ +\\ {\\beta}_3\\ {x}_1\\ {x}_2\\ \\ \\ \\ \\ \\ \\text{complete model} \n",
    "\\end{equation*}\n",
    "\n",
    "\\begin{equation*}\n",
    "\\large E(y) = {\\beta}_0\\ +\\ {\\beta}_1\\ {x}_1\\ +\\ {\\beta}_2\\ {x}_2\\ \\ \\ \\ \\ \\ \\ \\text{reduced model} \n",
    "\\end{equation*}\n",
    "\n",
    "<br><br>\n",
    "\n",
    "The prediction regression equation for the complete and reduced model is:\n",
    "<br>\n",
    "\n",
    "\\begin{equation*}\n",
    "\\large \\hat{y} = \\hat{{\\beta}_0}\\ +\\ \\hat{{\\beta}_1}\\ {x}_1\\ +\\ \\hat{{\\beta}_2}\\ {x}_2\\ +\\ \\hat{{\\beta}_3}\\ {x}_1\\ {x}_2\\ \\ \\ \\ \\ \\ \\text{complete model} \n",
    "\\end{equation*}\n",
    "\n",
    "\\begin{equation*}\n",
    "\\large \\hat{y} = \\hat{{\\beta}_0}\\ +\\ \\hat{{\\beta}_1}\\ {x}_1\\ +\\ \\hat{{\\beta}_2}\\ {x}_2\\ \\ \\ \\ \\ \\ \\ \\text{reduced model} \n",
    "\\end{equation*}\n",
    "\n",
    "<br>\n",
    "\\begin{equation*}\n",
    "\\text{where } \\hat{y} \\text{ is the predicted fuel efficiency,}\\ {x}_1\\ \\text{is weight of the car, and}\\ {x}_2\\ \\text{is rear axle ratio} \n",
    "\\end{equation*}\n",
    " \n",
    "<br><br>\n",
    "The null hypothesis for this test is that the beta estimate for the interaction term is zero, meaning that the interaction term is not needed and the reduced model is sufficient. The alternative hypothesis is that the beta estimate for the interaction term is non-zero, meaning that the interaction term is needed and the complete model is necessary.   \n",
    "\n",
    "The **anova** function in R will run this test for you and will output the F-test statistic and the corresponding P-value. \n",
    "\n",
    "Click the block of code below and hit the **Run** button above.  "
   ]
  },
  {
   "cell_type": "code",
   "execution_count": 2,
   "metadata": {
    "deletable": false,
    "editable": false,
    "scrolled": false
   },
   "outputs": [
    {
     "data": {
      "text/html": [
       "<table>\n",
       "<caption>A anova: 2 × 6</caption>\n",
       "<thead>\n",
       "\t<tr><th scope=col>Res.Df</th><th scope=col>RSS</th><th scope=col>Df</th><th scope=col>Sum of Sq</th><th scope=col>F</th><th scope=col>Pr(&gt;F)</th></tr>\n",
       "\t<tr><th scope=col>&lt;dbl&gt;</th><th scope=col>&lt;dbl&gt;</th><th scope=col>&lt;dbl&gt;</th><th scope=col>&lt;dbl&gt;</th><th scope=col>&lt;dbl&gt;</th><th scope=col>&lt;dbl&gt;</th></tr>\n",
       "</thead>\n",
       "<tbody>\n",
       "\t<tr><td>28</td><td>225.6176</td><td>NA</td><td>       NA</td><td>      NA</td><td>        NA</td></tr>\n",
       "\t<tr><td>29</td><td>269.2413</td><td>-1</td><td>-43.62369</td><td>5.413865</td><td>0.02743572</td></tr>\n",
       "</tbody>\n",
       "</table>\n"
      ],
      "text/latex": [
       "A anova: 2 × 6\n",
       "\\begin{tabular}{r|llllll}\n",
       " Res.Df & RSS & Df & Sum of Sq & F & Pr(>F)\\\\\n",
       " <dbl> & <dbl> & <dbl> & <dbl> & <dbl> & <dbl>\\\\\n",
       "\\hline\n",
       "\t 28 & 225.6176 & NA &        NA &       NA &         NA\\\\\n",
       "\t 29 & 269.2413 & -1 & -43.62369 & 5.413865 & 0.02743572\\\\\n",
       "\\end{tabular}\n"
      ],
      "text/markdown": [
       "\n",
       "A anova: 2 × 6\n",
       "\n",
       "| Res.Df &lt;dbl&gt; | RSS &lt;dbl&gt; | Df &lt;dbl&gt; | Sum of Sq &lt;dbl&gt; | F &lt;dbl&gt; | Pr(&gt;F) &lt;dbl&gt; |\n",
       "|---|---|---|---|---|---|\n",
       "| 28 | 225.6176 | NA |        NA |       NA |         NA |\n",
       "| 29 | 269.2413 | -1 | -43.62369 | 5.413865 | 0.02743572 |\n",
       "\n"
      ],
      "text/plain": [
       "  Res.Df RSS      Df Sum of Sq F        Pr(>F)    \n",
       "1 28     225.6176 NA        NA       NA         NA\n",
       "2 29     269.2413 -1 -43.62369 5.413865 0.02743572"
      ]
     },
     "metadata": {},
     "output_type": "display_data"
    }
   ],
   "source": [
    "# Create the complete model\n",
    "fit_complete <- lm(mpg ~ wt + drat + wt:drat, data=mtcars_subset)\n",
    "\n",
    "# Create the reduced model\n",
    "fit_reduced <- lm(mpg ~ wt + drat, data=mtcars_subset)\n",
    "\n",
    "# Perform the F-test\n",
    "anova(fit_complete, fit_reduced)"
   ]
  },
  {
   "cell_type": "markdown",
   "metadata": {
    "deletable": false,
    "editable": false
   },
   "source": [
    "#### Hypothesis Test\n",
    "Null Hypothesis: Beta3 = 0. (The coefficient for interaction term is 0. The reduced model is sufficient)\n",
    "<br>\n",
    "\n",
    "Alternative Hypothesis: Beta3 is non-zero. (The coefficient for the interaction term is non-zero. The complete model should be used.)\n",
    "<br>\n",
    "\n",
    "Let us use a level of significance of 5%. If the P-value is less than 0.05, we will reject the null hypothesis. Otherwise, we will not reject the null hypothesis.\n",
    "<br>\n",
    "\n",
    "Suppose the F-value = 5.4139 and the P-value = 0.0274.\n",
    "<br>\n",
    "\n",
    "Since the P-value 0.0274 is less than the level of significance 0.05, we will reject the null hypothesis and conclude that the interaction term should be used in predicting the fuel economy. Therefore, the complete model should be used."
   ]
  },
  {
   "cell_type": "markdown",
   "metadata": {},
   "source": [
    " "
   ]
  },
  {
   "cell_type": "markdown",
   "metadata": {
    "deletable": false,
    "editable": false
   },
   "source": [
    "## Step 3: Loading the Economic Data Set\n",
    "\n",
    "You are an analyst working for the government and you have access to a set of historical data that can be used to study wage growth of the labor force. Governments are interested in studying wage growth patterns based on their economic agenda. This data set has other economic factors that are related to wage growth. You will use this data set to create models for wage growth.\n",
    "\n",
    "This block of R code will load the **economic** data set from a CSV file. You will then create a subset of the data with only the three variables that are needed in the next step. Here are the variables that should be retained: \n",
    "\n",
    "| <div style=\"text-align: left\"> Variable </div>  |   <div style=\"text-align: left\"> What does it represent? </div> |\n",
    "| -- | --  |\n",
    "| <div style=\"text-align: left\"> wage_growth </div> | <div style=\"text-align: left\"> Wage growth rate </div> |\n",
    "| <div style=\"text-align: left\"> unemployment </div> | <div style=\"text-align: left\"> Unemployment rate</div> |\n",
    "| <div style=\"text-align: left\"> gdp </div> | <div style=\"text-align: left\"> GDP growth rate </div> |\n",
    "\n",
    "Note: This is a simulated data set based on a real-world problem.\n",
    "\n",
    "Click the code section below and hit the **Run** button above."
   ]
  },
  {
   "cell_type": "code",
   "execution_count": 3,
   "metadata": {
    "deletable": false,
    "editable": false,
    "scrolled": false
   },
   "outputs": [
    {
     "name": "stdout",
     "output_type": "stream",
     "text": [
      "[1] \"head\"\n"
     ]
    },
    {
     "data": {
      "text/html": [
       "<table>\n",
       "<caption>A data.frame: 6 × 3</caption>\n",
       "<thead>\n",
       "\t<tr><th scope=col>wage_growth</th><th scope=col>unemployment</th><th scope=col>gdp</th></tr>\n",
       "\t<tr><th scope=col>&lt;dbl&gt;</th><th scope=col>&lt;dbl&gt;</th><th scope=col>&lt;dbl&gt;</th></tr>\n",
       "</thead>\n",
       "<tbody>\n",
       "\t<tr><td> 7.30</td><td>3.56</td><td> 6.27</td></tr>\n",
       "\t<tr><td> 9.05</td><td>2.42</td><td> 9.44</td></tr>\n",
       "\t<tr><td>10.08</td><td>1.23</td><td>18.29</td></tr>\n",
       "\t<tr><td>10.98</td><td>1.18</td><td>19.96</td></tr>\n",
       "\t<tr><td> 8.54</td><td>2.54</td><td> 8.43</td></tr>\n",
       "\t<tr><td> 9.75</td><td>2.22</td><td>17.85</td></tr>\n",
       "</tbody>\n",
       "</table>\n"
      ],
      "text/latex": [
       "A data.frame: 6 × 3\n",
       "\\begin{tabular}{r|lll}\n",
       " wage\\_growth & unemployment & gdp\\\\\n",
       " <dbl> & <dbl> & <dbl>\\\\\n",
       "\\hline\n",
       "\t  7.30 & 3.56 &  6.27\\\\\n",
       "\t  9.05 & 2.42 &  9.44\\\\\n",
       "\t 10.08 & 1.23 & 18.29\\\\\n",
       "\t 10.98 & 1.18 & 19.96\\\\\n",
       "\t  8.54 & 2.54 &  8.43\\\\\n",
       "\t  9.75 & 2.22 & 17.85\\\\\n",
       "\\end{tabular}\n"
      ],
      "text/markdown": [
       "\n",
       "A data.frame: 6 × 3\n",
       "\n",
       "| wage_growth &lt;dbl&gt; | unemployment &lt;dbl&gt; | gdp &lt;dbl&gt; |\n",
       "|---|---|---|\n",
       "|  7.30 | 3.56 |  6.27 |\n",
       "|  9.05 | 2.42 |  9.44 |\n",
       "| 10.08 | 1.23 | 18.29 |\n",
       "| 10.98 | 1.18 | 19.96 |\n",
       "|  8.54 | 2.54 |  8.43 |\n",
       "|  9.75 | 2.22 | 17.85 |\n",
       "\n"
      ],
      "text/plain": [
       "  wage_growth unemployment gdp  \n",
       "1  7.30       3.56          6.27\n",
       "2  9.05       2.42          9.44\n",
       "3 10.08       1.23         18.29\n",
       "4 10.98       1.18         19.96\n",
       "5  8.54       2.54          8.43\n",
       "6  9.75       2.22         17.85"
      ]
     },
     "metadata": {},
     "output_type": "display_data"
    }
   ],
   "source": [
    "# Load the economic data set and subset to only include wage_growth, unemployment, and gdp variables\n",
    "economic <- read.csv(file='economic.csv', header=TRUE, sep=\",\")\n",
    "vars <- c('wage_growth','unemployment','gdp')\n",
    "economic_subset <- economic[vars]\n",
    "\n",
    "# Print the first six rows\n",
    "print(\"head\")\n",
    "head(economic_subset, 6)"
   ]
  },
  {
   "cell_type": "markdown",
   "metadata": {},
   "source": [
    " "
   ]
  },
  {
   "cell_type": "markdown",
   "metadata": {
    "deletable": false,
    "editable": false
   },
   "source": [
    "## Step 4: Compare Complete Second Order Model with Interaction Model\n",
    "In step 6 of the Module Three Jupyter Notebook, you created a complete second order model for wage growth using two quantitative variables: unemployment rate and GDP growth. This model included the interaction term and squared terms for unemployment rate and GDP growth. You will now compare this model (full or complete model) with a model that does not contain the squared terms (restricted or reduced model). This will be done using a statistical test to evaluate whether the squared terms contribute information for predicting wage growth. In other words, you are testing whether the squared terms should be included in predicting wage growth (in which case a complete model is necessary) or not (in which case the reduced model is sufficient). \n",
    "<br><br>\n",
    "\n",
    "The general form of the complete and reduced model is:\n",
    "<br>\n",
    "\n",
    "\\begin{equation*}\n",
    "\\large E(y) = {\\beta}_0\\ +\\ {\\beta}_1\\ {x}_1\\ +\\ {\\beta}_2\\ {x}_2\\ +\\ {\\beta}_3\\ {x}_1\\ {x}_2\\ +\\ {\\beta}_4\\ {x}_1^2\\ +\\ {\\beta}_5\\ {x}_2^2 \\ \\ \\ \\ \\text{complete model} \n",
    "\\end{equation*}\n",
    "\n",
    "\\begin{equation*}\n",
    "\\large E(y) = {\\beta}_0\\ +\\ {\\beta}_1\\ {x}_1\\ +\\ {\\beta}_2\\ {x}_2\\ +\\ {\\beta}_3\\ {x}_1\\ {x}_2\\ \\ \\ \\ \\ \\ \\ \\text{reduced model} \n",
    "\\end{equation*}\n",
    "\n",
    "<br><br>\n",
    "\n",
    "\n",
    "The prediction regression equation for the complete and reduced model is:\n",
    "<br>\n",
    "\n",
    "\\begin{equation*}\n",
    "\\large \\hat{y} = \\hat{{\\beta}_0}\\ +\\ \\hat{{\\beta}_1}\\ {x}_1\\ +\\ \\hat{{\\beta}_2}\\ {x}_2\\ +\\ \\hat{{\\beta}_3}\\ {x}_1\\ {x}_2\\ +\\ \\hat{{\\beta}_4}\\ {x}_1^2\\ +\\ \\hat{{\\beta}_5}\\ {x}_2^2 \\ \\ \\ \\ \\text{complete model} \n",
    "\\end{equation*}\n",
    "\n",
    "\\begin{equation*}\n",
    "\\large \\hat{y} = \\hat{{\\beta}_0}\\ +\\ \\hat{{\\beta}_1}\\ {x}_1\\ +\\ \\hat{{\\beta}_2}\\ {x}_2\\ +\\ \\hat{{\\beta}_3}\\ {x}_1\\ {x}_2\\ \\ \\ \\ \\ \\ \\ \\text{reduced model} \n",
    "\\end{equation*}\n",
    "\n",
    "\n",
    "\n",
    "<br>\n",
    "\\begin{equation*}\n",
    "\\text{where } \\hat{y} \\text{ is the predicted wage growth,}\\ {x}_1\\ \\text{is unemployment, and}\\ {x}_2\\ \\text{is GDP} \n",
    "\\end{equation*}\n",
    " \n",
    "<br>\n",
    "The F-test for nested models will do this comparison. This hypothesis test compares a complete model to a reduced model. The null hypothesis for this test is that the beta estimates for squared terms are zero, meaning that the squared terms are not needed and the reduced model is sufficient. The alternative hypothesis is that at least one of the beta estimates for squared terms is non-zero, meaning that the squared terms are needed and the complete model is necessary.   \n",
    "\n",
    "The **anova** function in R will run this test for you and will output the F-test statistic and the corresponding P-value. \n",
    "\n",
    "Click the block of code below and hit the **Run** button above."
   ]
  },
  {
   "cell_type": "code",
   "execution_count": 4,
   "metadata": {
    "deletable": false,
    "editable": false,
    "scrolled": true
   },
   "outputs": [
    {
     "data": {
      "text/html": [
       "<table>\n",
       "<caption>A anova: 2 × 6</caption>\n",
       "<thead>\n",
       "\t<tr><th scope=col>Res.Df</th><th scope=col>RSS</th><th scope=col>Df</th><th scope=col>Sum of Sq</th><th scope=col>F</th><th scope=col>Pr(&gt;F)</th></tr>\n",
       "\t<tr><th scope=col>&lt;dbl&gt;</th><th scope=col>&lt;dbl&gt;</th><th scope=col>&lt;dbl&gt;</th><th scope=col>&lt;dbl&gt;</th><th scope=col>&lt;dbl&gt;</th><th scope=col>&lt;dbl&gt;</th></tr>\n",
       "</thead>\n",
       "<tbody>\n",
       "\t<tr><td>93</td><td>31.36076</td><td>NA</td><td>       NA</td><td>      NA</td><td>          NA</td></tr>\n",
       "\t<tr><td>95</td><td>42.12107</td><td>-2</td><td>-10.76031</td><td>15.95479</td><td>1.103452e-06</td></tr>\n",
       "</tbody>\n",
       "</table>\n"
      ],
      "text/latex": [
       "A anova: 2 × 6\n",
       "\\begin{tabular}{r|llllll}\n",
       " Res.Df & RSS & Df & Sum of Sq & F & Pr(>F)\\\\\n",
       " <dbl> & <dbl> & <dbl> & <dbl> & <dbl> & <dbl>\\\\\n",
       "\\hline\n",
       "\t 93 & 31.36076 & NA &        NA &       NA &           NA\\\\\n",
       "\t 95 & 42.12107 & -2 & -10.76031 & 15.95479 & 1.103452e-06\\\\\n",
       "\\end{tabular}\n"
      ],
      "text/markdown": [
       "\n",
       "A anova: 2 × 6\n",
       "\n",
       "| Res.Df &lt;dbl&gt; | RSS &lt;dbl&gt; | Df &lt;dbl&gt; | Sum of Sq &lt;dbl&gt; | F &lt;dbl&gt; | Pr(&gt;F) &lt;dbl&gt; |\n",
       "|---|---|---|---|---|---|\n",
       "| 93 | 31.36076 | NA |        NA |       NA |           NA |\n",
       "| 95 | 42.12107 | -2 | -10.76031 | 15.95479 | 1.103452e-06 |\n",
       "\n"
      ],
      "text/plain": [
       "  Res.Df RSS      Df Sum of Sq F        Pr(>F)      \n",
       "1 93     31.36076 NA        NA       NA           NA\n",
       "2 95     42.12107 -2 -10.76031 15.95479 1.103452e-06"
      ]
     },
     "metadata": {},
     "output_type": "display_data"
    }
   ],
   "source": [
    "# Create the complete model\n",
    "fit_complete <- lm(wage_growth ~ unemployment + gdp + unemployment:gdp + I(unemployment^2) + I(gdp^2), data=economic_subset)\n",
    "\n",
    "# Create the reduced model\n",
    "fit_reduced <- lm(wage_growth ~ unemployment + gdp + unemployment:gdp, data=economic_subset)\n",
    "\n",
    "# Perform the F-test\n",
    "anova(fit_complete, fit_reduced)"
   ]
  },
  {
   "cell_type": "markdown",
   "metadata": {},
   "source": [
    "  "
   ]
  },
  {
   "cell_type": "markdown",
   "metadata": {
    "deletable": false,
    "editable": false
   },
   "source": [
    "## End of Module Four Jupyter Notebook\n",
    "Attach the HTML output as a part of your Module Four discussion. The HTML output can be downloaded by clicking **File**, then **Download as**, then **HTML**. Be sure to answer all of the questions in the discussion prompt."
   ]
  }
 ],
 "metadata": {
  "kernelspec": {
   "display_name": "R",
   "language": "R",
   "name": "ir"
  },
  "language_info": {
   "codemirror_mode": "r",
   "file_extension": ".r",
   "mimetype": "text/x-r-source",
   "name": "R",
   "pygments_lexer": "r",
   "version": "3.4.4"
  }
 },
 "nbformat": 4,
 "nbformat_minor": 2
}
