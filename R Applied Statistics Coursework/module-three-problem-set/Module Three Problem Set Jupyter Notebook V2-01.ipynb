{
 "cells": [
  {
   "cell_type": "markdown",
   "metadata": {
    "deletable": false,
    "editable": false
   },
   "source": [
    "# Module Three Problem Set: Second Order Regression Models\n",
    "\n",
    "In this notebook, you have been given a set of steps that will show you how to create a multiple regression model in R. It is very important to run the steps in order. Some steps depend on the outputs of earlier steps. Once you have run all the steps, you will be asked to create your own multiple regression model to help you answer the questions in Module Three the Problem Set. You are expected to write the R script yourself to answer these questions.\n",
    "\n",
    "Reminder: If you have not already reviewed the Problem Set Report template for your Module Three Problem Set, be sure to do so now. That will give you an idea of the questions you will need to answer with the outputs of this script. You should use the code you are given as reference when writing your own scripts.\n"
   ]
  },
  {
   "cell_type": "markdown",
   "metadata": {
    "deletable": false,
    "editable": false
   },
   "source": [
    "### Step 1: Loading the Data Set\n",
    "\n",
    "You are an analyst working for the government and you have access to a set of historical data that can be used to study wage growth of the labor force. Governments are interested in studying wage growth patterns based on their economic agenda. This data set has other economic factors that are related to wage growth. You will use this data set to create models for wage growth.\n",
    "\n",
    "This block of R code will load the **economic** data set from a CSV file. It will then display the first six rows of the data. Here are the variables contained in the data set:\n",
    "\n",
    "| <div style=\"text-align: left\"> Variable </div>  |   <div style=\"text-align: left\"> What does it represent? </div> |\n",
    "| -- | --  |\n",
    "| <div style=\"text-align: left\"> wage_growth </div> | <div style=\"text-align: left\"> Wage growth rate </div> |\n",
    "| <div style=\"text-align: left\"> inflation </div> | <div style=\"text-align: left\"> Rate of inflation </div> |\n",
    "| <div style=\"text-align: left\"> unemployment </div> | <div style=\"text-align: left\"> Unemployment rate</div> |\n",
    "| <div style=\"text-align: left\"> economy </div> | <div style=\"text-align: left\"> Economy in recession or not in recession </div> |\n",
    "| <div style=\"text-align: left\"> gdp </div> | <div style=\"text-align: left\"> GDP growth rate </div> |\n",
    "\n",
    "Note: This is a simulated data set based on a real-world problem.\n",
    "\n",
    "Click the code section below and hit the **Run** button above."
   ]
  },
  {
   "cell_type": "code",
   "execution_count": 6,
   "metadata": {
    "deletable": false,
    "editable": false
   },
   "outputs": [
    {
     "name": "stdout",
     "output_type": "stream",
     "text": [
      "[1] \"head\"\n"
     ]
    },
    {
     "data": {
      "text/html": [
       "<table>\n",
       "<caption>A data.frame: 6 × 6</caption>\n",
       "<thead>\n",
       "\t<tr><th scope=col>wage_growth</th><th scope=col>inflation</th><th scope=col>unemployment</th><th scope=col>economy</th><th scope=col>education</th><th scope=col>gdp</th></tr>\n",
       "\t<tr><th scope=col>&lt;dbl&gt;</th><th scope=col>&lt;dbl&gt;</th><th scope=col>&lt;dbl&gt;</th><th scope=col>&lt;fct&gt;</th><th scope=col>&lt;fct&gt;</th><th scope=col>&lt;dbl&gt;</th></tr>\n",
       "</thead>\n",
       "<tbody>\n",
       "\t<tr><td> 7.30</td><td> 4.49</td><td>3.56</td><td>no_recession</td><td>college      </td><td> 6.27</td></tr>\n",
       "\t<tr><td> 9.05</td><td> 9.59</td><td>2.42</td><td>no_recession</td><td>college      </td><td> 9.44</td></tr>\n",
       "\t<tr><td>10.08</td><td>11.36</td><td>1.23</td><td>no_recession</td><td>post_graduate</td><td>18.29</td></tr>\n",
       "\t<tr><td>10.98</td><td> 9.55</td><td>1.18</td><td>no_recession</td><td>post_graduate</td><td>19.96</td></tr>\n",
       "\t<tr><td> 8.54</td><td> 8.63</td><td>2.54</td><td>no_recession</td><td>high_school  </td><td> 8.43</td></tr>\n",
       "\t<tr><td> 9.75</td><td> 8.26</td><td>2.22</td><td>no_recession</td><td>college      </td><td>17.85</td></tr>\n",
       "</tbody>\n",
       "</table>\n"
      ],
      "text/latex": [
       "A data.frame: 6 × 6\n",
       "\\begin{tabular}{r|llllll}\n",
       " wage\\_growth & inflation & unemployment & economy & education & gdp\\\\\n",
       " <dbl> & <dbl> & <dbl> & <fct> & <fct> & <dbl>\\\\\n",
       "\\hline\n",
       "\t  7.30 &  4.49 & 3.56 & no\\_recession & college       &  6.27\\\\\n",
       "\t  9.05 &  9.59 & 2.42 & no\\_recession & college       &  9.44\\\\\n",
       "\t 10.08 & 11.36 & 1.23 & no\\_recession & post\\_graduate & 18.29\\\\\n",
       "\t 10.98 &  9.55 & 1.18 & no\\_recession & post\\_graduate & 19.96\\\\\n",
       "\t  8.54 &  8.63 & 2.54 & no\\_recession & high\\_school   &  8.43\\\\\n",
       "\t  9.75 &  8.26 & 2.22 & no\\_recession & college       & 17.85\\\\\n",
       "\\end{tabular}\n"
      ],
      "text/markdown": [
       "\n",
       "A data.frame: 6 × 6\n",
       "\n",
       "| wage_growth &lt;dbl&gt; | inflation &lt;dbl&gt; | unemployment &lt;dbl&gt; | economy &lt;fct&gt; | education &lt;fct&gt; | gdp &lt;dbl&gt; |\n",
       "|---|---|---|---|---|---|\n",
       "|  7.30 |  4.49 | 3.56 | no_recession | college       |  6.27 |\n",
       "|  9.05 |  9.59 | 2.42 | no_recession | college       |  9.44 |\n",
       "| 10.08 | 11.36 | 1.23 | no_recession | post_graduate | 18.29 |\n",
       "| 10.98 |  9.55 | 1.18 | no_recession | post_graduate | 19.96 |\n",
       "|  8.54 |  8.63 | 2.54 | no_recession | high_school   |  8.43 |\n",
       "|  9.75 |  8.26 | 2.22 | no_recession | college       | 17.85 |\n",
       "\n"
      ],
      "text/plain": [
       "  wage_growth inflation unemployment economy      education     gdp  \n",
       "1  7.30        4.49     3.56         no_recession college        6.27\n",
       "2  9.05        9.59     2.42         no_recession college        9.44\n",
       "3 10.08       11.36     1.23         no_recession post_graduate 18.29\n",
       "4 10.98        9.55     1.18         no_recession post_graduate 19.96\n",
       "5  8.54        8.63     2.54         no_recession high_school    8.43\n",
       "6  9.75        8.26     2.22         no_recession college       17.85"
      ]
     },
     "metadata": {},
     "output_type": "display_data"
    }
   ],
   "source": [
    "economic <- read.csv(file='economic.csv', header=TRUE, sep=\",\")\n",
    "\n",
    "# Print the first six rows\n",
    "print(\"head\")\n",
    "head(economic, 6)"
   ]
  },
  {
   "cell_type": "markdown",
   "metadata": {},
   "source": [
    " "
   ]
  },
  {
   "cell_type": "markdown",
   "metadata": {
    "deletable": false,
    "editable": false
   },
   "source": [
    "## Step 2: Scatterplot of Wage Growth and GDP Growth\n",
    "In this step, you will use the **plot** function in R to print the scatterplot for variables **wage_growth** and **gdp** in the data set.  \n",
    "\n",
    "\n",
    "Click the block of code below and hit the **Run** button above.  \n",
    "NOTE: If the plot is not created, click the code section and hit the **Run** button again."
   ]
  },
  {
   "cell_type": "code",
   "execution_count": 2,
   "metadata": {
    "deletable": false,
    "editable": false
   },
   "outputs": [
    {
     "data": {
      "image/png": "[encoded data removed]",
      "text/plain": [
       "Plot with title \"Scatterplot of Wage Growth and GDP\""
      ]
     },
     "metadata": {},
     "output_type": "display_data"
    }
   ],
   "source": [
    "plot(economic$gdp, economic$wage_growth, \n",
    "     main = \"Scatterplot of Wage Growth and GDP\",\n",
    "     xlab = \"GDP\", ylab = \"Wage Growth\",\n",
    "     col=\"red\", \n",
    "     pch = 19, frame = FALSE)"
   ]
  },
  {
   "cell_type": "markdown",
   "metadata": {},
   "source": [
    " "
   ]
  },
  {
   "cell_type": "markdown",
   "metadata": {
    "deletable": false,
    "editable": false
   },
   "source": [
    "## Step 3: Scatterplot of Wage Growth and Inflation\n",
    "In this step, you will use the **plot** function in R to print the scatterplot for variables **wage_growth** and **inflation** in the data set.  \n",
    "\n",
    "\n",
    "Click the block of code below and hit the **Run** button above.  \n",
    "NOTE: If the plot is not created, click the code section and hit the **Run** button again."
   ]
  },
  {
   "cell_type": "code",
   "execution_count": 3,
   "metadata": {
    "deletable": false,
    "editable": false,
    "scrolled": true
   },
   "outputs": [
    {
     "data": {
      "image/png": "[encoded data removed]",
      "text/plain": [
       "Plot with title \"Scatterplot of Wage Growth and Inflation\""
      ]
     },
     "metadata": {},
     "output_type": "display_data"
    }
   ],
   "source": [
    "plot(economic$inflation, economic$wage_growth, \n",
    "     main = \"Scatterplot of Wage Growth and Inflation\",\n",
    "     xlab = \"Inflation\", ylab = \"Wage Growth\",\n",
    "     col=\"red\", \n",
    "     pch = 19, frame = FALSE)"
   ]
  },
  {
   "cell_type": "markdown",
   "metadata": {},
   "source": [
    " "
   ]
  },
  {
   "cell_type": "markdown",
   "metadata": {
    "deletable": false,
    "editable": false
   },
   "source": [
    "## Step 4: Quadratic (Second Order) Model with One Quantitative Variable\n",
    "In this step, you will create a second order multiple regression model for **wage_growth** as the response variable and **gdp** as the predictor variable. \n",
    "\n",
    "The general form of this second order regression model is:\n",
    "<br><br>\n",
    "\\begin{equation*}\n",
    "\\large E(y) = {\\beta}_0 +\\ {\\beta}_1\\ {x} +\\ {\\beta}_2\\ {x}^2\n",
    "\\end{equation*}\n",
    "<br><br>\n",
    "\n",
    "\n",
    "The prediction regression model is:\n",
    "\n",
    "<br>\n",
    "\\begin{equation*}\n",
    "\\large \\hat{y} = \\hat{{\\beta}_0} +\\ \\hat{{\\beta}_1}\\ {x}\\ +\\ \\hat{{\\beta}_2}\\ {x}^2\n",
    "\\end{equation*}\n",
    "<br>\n",
    "\n",
    "\n",
    "\\begin{equation*}\n",
    "\\text{where } \\hat{y} \\text{ is the predicted value of wage growth and }\\ {x}\\ \\text{is GDP growth}\n",
    "\\end{equation*}\n",
    "\n",
    "\\begin{equation*}\n",
    "\\hat{{\\beta}_0} \\text{,} \\hspace{0.25cm} \\hat{{\\beta}_1} \\text{, } \\hspace{0.25cm} \\hat{{\\beta}_2} \\text{  } \\text{ are estimates of}\n",
    "\\text{  } {\\beta}_0\\ \\text{,} \\hspace{0.25cm} {\\beta}_1\\ \\text{,} \\hspace{0.25cm} {\\beta}_2\\ \\text{ respectively  }\n",
    "\\end{equation*}\n",
    "<br><br>\n",
    "\n",
    "The following code block will create this second order model. \n",
    "\n",
    "Click the block of code below and hit the **Run** button above.  "
   ]
  },
  {
   "cell_type": "code",
   "execution_count": 4,
   "metadata": {
    "deletable": false,
    "editable": false
   },
   "outputs": [
    {
     "data": {
      "text/plain": [
       "\n",
       "Call:\n",
       "lm(formula = wage_growth ~ gdp + I(gdp^2), data = economic)\n",
       "\n",
       "Residuals:\n",
       "    Min      1Q  Median      3Q     Max \n",
       "-2.4028 -0.8161 -0.2157  0.7948  2.9852 \n",
       "\n",
       "Coefficients:\n",
       "             Estimate Std. Error t value Pr(>|t|)    \n",
       "(Intercept)  0.713275   0.365647   1.951    0.054 .  \n",
       "gdp          1.114431   0.082167  13.563  < 2e-16 ***\n",
       "I(gdp^2)    -0.032609   0.003843  -8.485 2.64e-13 ***\n",
       "---\n",
       "Signif. codes:  0 '***' 0.001 '**' 0.01 '*' 0.05 '.' 0.1 ' ' 1\n",
       "\n",
       "Residual standard error: 1.147 on 96 degrees of freedom\n",
       "Multiple R-squared:  0.8338,\tAdjusted R-squared:  0.8303 \n",
       "F-statistic: 240.7 on 2 and 96 DF,  p-value: < 2.2e-16\n"
      ]
     },
     "metadata": {},
     "output_type": "display_data"
    }
   ],
   "source": [
    "# Create the second order regression model and print the statistics\n",
    "model1 <- lm(wage_growth ~ gdp + I(gdp^2), data=economic)\n",
    "summary(model1)"
   ]
  },
  {
   "cell_type": "markdown",
   "metadata": {
    "deletable": false,
    "editable": false
   },
   "source": [
    "### Interpretation of Beta Estimates\n",
    "From the output in previous step, the regression model is:\n",
    "<br><br>\n",
    "\\begin{equation*}\n",
    "\\large \\hat{y} = 0.7133\\ +\\ 1.1144\\ {x} -\\ 0.0326\\ {x}^2\n",
    "\\end{equation*}\n",
    "<br><br>\n",
    "\n",
    "* Note that the estimated coefficient of term x is 1.1144. In the presence of the squared term (x^2), it no longer represents a slope coefficient. The estimated coefficient of x does not have a meaningful interpretation. \n",
    "<br><br>\n",
    "* The estimated coefficient of term x^2 is -0.0326. Since the sign of this coefficient is \"-\" (negative), it indicates a curve with downward concavity. This confirms the relationship observed in step 2. A \"+\" (positive) sign for the estimate would indicate a curve relationship that has upward concavity. Thus, the estimated coefficient of term x^2 represents the rate of curvature.\n"
   ]
  },
  {
   "cell_type": "markdown",
   "metadata": {
    "deletable": false,
    "editable": false
   },
   "source": [
    "## Step 5: Prediction, Prediction Interval, and Confidence Interval\n",
    "In this step, you will predict the wage growth when the GDP is growing at 1.70%. You will also obtain a 90% prediction interval and confidence interval for this prediction. Note that this observation is not from the data set that was used to create this model. \n",
    "\n",
    "Click the block of code below and hit the **Run** button above.  "
   ]
  },
  {
   "cell_type": "code",
   "execution_count": 5,
   "metadata": {
    "deletable": false,
    "editable": false
   },
   "outputs": [
    {
     "name": "stdout",
     "output_type": "stream",
     "text": [
      "[1] \"prediction interval\"\n"
     ]
    },
    {
     "data": {
      "text/html": [
       "<table>\n",
       "<caption>A matrix: 1 × 3 of type dbl</caption>\n",
       "<thead>\n",
       "\t<tr><th scope=col>fit</th><th scope=col>lwr</th><th scope=col>upr</th></tr>\n",
       "</thead>\n",
       "<tbody>\n",
       "\t<tr><td>2.5136</td><td>0.5625</td><td>4.4646</td></tr>\n",
       "</tbody>\n",
       "</table>\n"
      ],
      "text/latex": [
       "A matrix: 1 × 3 of type dbl\n",
       "\\begin{tabular}{r|lll}\n",
       " fit & lwr & upr\\\\\n",
       "\\hline\n",
       "\t 2.5136 & 0.5625 & 4.4646\\\\\n",
       "\\end{tabular}\n"
      ],
      "text/markdown": [
       "\n",
       "A matrix: 1 × 3 of type dbl\n",
       "\n",
       "| fit | lwr | upr |\n",
       "|---|---|---|\n",
       "| 2.5136 | 0.5625 | 4.4646 |\n",
       "\n"
      ],
      "text/plain": [
       "  fit    lwr    upr   \n",
       "1 2.5136 0.5625 4.4646"
      ]
     },
     "metadata": {},
     "output_type": "display_data"
    },
    {
     "name": "stdout",
     "output_type": "stream",
     "text": [
      "[1] \"confidence interval\"\n"
     ]
    },
    {
     "data": {
      "text/html": [
       "<table>\n",
       "<caption>A matrix: 1 × 3 of type dbl</caption>\n",
       "<thead>\n",
       "\t<tr><th scope=col>fit</th><th scope=col>lwr</th><th scope=col>upr</th></tr>\n",
       "</thead>\n",
       "<tbody>\n",
       "\t<tr><td>2.5136</td><td>2.092</td><td>2.9351</td></tr>\n",
       "</tbody>\n",
       "</table>\n"
      ],
      "text/latex": [
       "A matrix: 1 × 3 of type dbl\n",
       "\\begin{tabular}{r|lll}\n",
       " fit & lwr & upr\\\\\n",
       "\\hline\n",
       "\t 2.5136 & 2.092 & 2.9351\\\\\n",
       "\\end{tabular}\n"
      ],
      "text/markdown": [
       "\n",
       "A matrix: 1 × 3 of type dbl\n",
       "\n",
       "| fit | lwr | upr |\n",
       "|---|---|---|\n",
       "| 2.5136 | 2.092 | 2.9351 |\n",
       "\n"
      ],
      "text/plain": [
       "  fit    lwr   upr   \n",
       "1 2.5136 2.092 2.9351"
      ]
     },
     "metadata": {},
     "output_type": "display_data"
    }
   ],
   "source": [
    "newdata <- data.frame(gdp=1.70)\n",
    "\n",
    "print(\"prediction interval\")\n",
    "prediction_pred_int <- predict(model1, newdata, interval=\"predict\", level=0.90) \n",
    "round(prediction_pred_int,4)\n",
    "\n",
    "print(\"confidence interval\")\n",
    "prediction_conf_int <- predict(model1, newdata, interval=\"confidence\", level=0.90) \n",
    "round(prediction_conf_int,4)"
   ]
  },
  {
   "cell_type": "markdown",
   "metadata": {},
   "source": [
    " "
   ]
  },
  {
   "cell_type": "markdown",
   "metadata": {
    "deletable": false,
    "editable": false
   },
   "source": [
    "## Step 6: Complete Second Order Model (Two Quantitative Variables)\n",
    "In this step, you will create a second order multiple regression model for **wage_growth** as the response variable and **inflation** and **gdp** as predictor variables. A complete second order model contains all of the terms in a first order model, as well as interaction terms, and second order terms involving squares for only the quantitative independent variables. \n",
    "\n",
    "The general form of this regression model is:\n",
    "<br>\n",
    "\n",
    "\\begin{equation*}\n",
    "\\large E(y) = {\\beta}_0\\ +\\ {\\beta}_1\\ {x}_1\\ +\\  {\\beta}_2\\ {x}_2\\ +\\ {\\beta}_3\\ {x}_1{x}_2 + \\ {\\beta}_4\\ {x}_1^2\\ +\\ {\\beta}_5\\ {x}_2^2\\ \n",
    "\\end{equation*}\n",
    "\n",
    "<br>\n",
    "\n",
    "The prediction regression model is:\n",
    "<br>\n",
    "\n",
    "\\begin{equation*}\n",
    "\\large \\hat{y} = \\hat{{\\beta}_0}\\ +\\ \\hat{{\\beta}_1}\\ {x}_1\\ +\\  \\hat{{\\beta}_2}\\ {x}_2\\ +\\ \\hat{{\\beta}_3}\\ {x}_1{x}_2 + \\ \\hat{{\\beta}_4}\\ {x}_1^2\\ +\\ \\hat{{\\beta}_5}\\ {x}_2^2\\ \n",
    "\\end{equation*}\n",
    "\n",
    "\n",
    "\\begin{equation*}\n",
    "\\text{where } \\hat{y} \\text{ is the predicted value of the wage growth,}\\ {x}_1\\ \\text{is Inflation, and }\\ {x}_2\\ \\text{is GDP growth}\n",
    "\\end{equation*}\n",
    "\n",
    "\\begin{equation*}\n",
    "\\hat{{\\beta}_0} \\text{,} \\hspace{0.25cm} \\hat{{\\beta}_1} \\text{, } \\hspace{0.25cm} \\hat{{\\beta}_2} \\text{,} \\hspace{0.25cm} \\hat{{\\beta}_3} \\text{,} \\hspace{0.25cm} \\hat{{\\beta}_4} \\text{,} \\hspace{0.25cm} \\hat{{\\beta}_5} \\text{  } \\text{ are estimates of }\n",
    "\\text{  } {\\beta}_0\\ \\text{,} \\hspace{0.25cm} {\\beta}_1\\ \\text{,} \\hspace{0.25cm} {\\beta}_2\\ \\text{,} \\hspace{0.25cm} {\\beta}_3\\ \\text{,} \\hspace{0.25cm} {\\beta}_4\\ \\text{,} \\hspace{0.25cm} {\\beta}_5\\ \\text{ respectively  }\n",
    "\\end{equation*}\n",
    "<br><br>\n",
    "\n",
    "\n",
    "The following code block will create this complete second order model. \n",
    "\n",
    "Click the block of code below and hit the **Run** button above.  "
   ]
  },
  {
   "cell_type": "code",
   "execution_count": 6,
   "metadata": {
    "deletable": false,
    "editable": false
   },
   "outputs": [
    {
     "data": {
      "text/plain": [
       "\n",
       "Call:\n",
       "lm(formula = wage_growth ~ inflation + gdp + inflation:gdp + \n",
       "    I(inflation^2) + I(gdp^2), data = economic)\n",
       "\n",
       "Residuals:\n",
       "     Min       1Q   Median       3Q      Max \n",
       "-2.51590 -0.55715 -0.08018  0.62653  2.09057 \n",
       "\n",
       "Coefficients:\n",
       "                Estimate Std. Error t value Pr(>|t|)    \n",
       "(Intercept)    -0.395208   0.365361  -1.082   0.2822    \n",
       "inflation       1.060687   0.195710   5.420 4.68e-07 ***\n",
       "gdp             0.545357   0.110379   4.941 3.42e-06 ***\n",
       "I(inflation^2) -0.027371   0.019822  -1.381   0.1706    \n",
       "I(gdp^2)       -0.003176   0.005775  -0.550   0.5837    \n",
       "inflation:gdp  -0.034358   0.017778  -1.933   0.0563 .  \n",
       "---\n",
       "Signif. codes:  0 '***' 0.001 '**' 0.01 '*' 0.05 '.' 0.1 ' ' 1\n",
       "\n",
       "Residual standard error: 0.8512 on 93 degrees of freedom\n",
       "Multiple R-squared:  0.9113,\tAdjusted R-squared:  0.9065 \n",
       "F-statistic: 191.1 on 5 and 93 DF,  p-value: < 2.2e-16\n"
      ]
     },
     "metadata": {},
     "output_type": "display_data"
    }
   ],
   "source": [
    "# Create the second order regression model and print the statistics\n",
    "model2 <- lm(wage_growth ~ inflation + gdp + inflation:gdp + I(inflation^2) + I(gdp^2) , data=economic)\n",
    "summary(model2)"
   ]
  },
  {
   "cell_type": "markdown",
   "metadata": {},
   "source": [
    " "
   ]
  },
  {
   "cell_type": "markdown",
   "metadata": {
    "deletable": false,
    "editable": false
   },
   "source": [
    "## Step 7: Prediction, Prediction Interval, and Confidence Interval\n",
    "In this step, you will predict the wage growth when Inflation is 2.1% and the GDP is growing at 1.70%. You will also obtain a 90% prediction interval and confidence interval for this prediction. Note that this observation is not from the data set that was used to create this model. \n",
    "\n",
    "Click the block of code below and hit the **Run** button above.  "
   ]
  },
  {
   "cell_type": "code",
   "execution_count": 7,
   "metadata": {
    "deletable": false,
    "editable": false
   },
   "outputs": [
    {
     "name": "stdout",
     "output_type": "stream",
     "text": [
      "[1] \"prediction interval\"\n"
     ]
    },
    {
     "data": {
      "text/html": [
       "<table>\n",
       "<caption>A matrix: 1 × 3 of type dbl</caption>\n",
       "<thead>\n",
       "\t<tr><th scope=col>fit</th><th scope=col>lwr</th><th scope=col>upr</th></tr>\n",
       "</thead>\n",
       "<tbody>\n",
       "\t<tr><td>2.5068</td><td>1.056</td><td>3.9576</td></tr>\n",
       "</tbody>\n",
       "</table>\n"
      ],
      "text/latex": [
       "A matrix: 1 × 3 of type dbl\n",
       "\\begin{tabular}{r|lll}\n",
       " fit & lwr & upr\\\\\n",
       "\\hline\n",
       "\t 2.5068 & 1.056 & 3.9576\\\\\n",
       "\\end{tabular}\n"
      ],
      "text/markdown": [
       "\n",
       "A matrix: 1 × 3 of type dbl\n",
       "\n",
       "| fit | lwr | upr |\n",
       "|---|---|---|\n",
       "| 2.5068 | 1.056 | 3.9576 |\n",
       "\n"
      ],
      "text/plain": [
       "  fit    lwr   upr   \n",
       "1 2.5068 1.056 3.9576"
      ]
     },
     "metadata": {},
     "output_type": "display_data"
    },
    {
     "name": "stdout",
     "output_type": "stream",
     "text": [
      "[1] \"confidence interval\"\n"
     ]
    },
    {
     "data": {
      "text/html": [
       "<table>\n",
       "<caption>A matrix: 1 × 3 of type dbl</caption>\n",
       "<thead>\n",
       "\t<tr><th scope=col>fit</th><th scope=col>lwr</th><th scope=col>upr</th></tr>\n",
       "</thead>\n",
       "<tbody>\n",
       "\t<tr><td>2.5068</td><td>2.1831</td><td>2.8305</td></tr>\n",
       "</tbody>\n",
       "</table>\n"
      ],
      "text/latex": [
       "A matrix: 1 × 3 of type dbl\n",
       "\\begin{tabular}{r|lll}\n",
       " fit & lwr & upr\\\\\n",
       "\\hline\n",
       "\t 2.5068 & 2.1831 & 2.8305\\\\\n",
       "\\end{tabular}\n"
      ],
      "text/markdown": [
       "\n",
       "A matrix: 1 × 3 of type dbl\n",
       "\n",
       "| fit | lwr | upr |\n",
       "|---|---|---|\n",
       "| 2.5068 | 2.1831 | 2.8305 |\n",
       "\n"
      ],
      "text/plain": [
       "  fit    lwr    upr   \n",
       "1 2.5068 2.1831 2.8305"
      ]
     },
     "metadata": {},
     "output_type": "display_data"
    }
   ],
   "source": [
    "newdata <- data.frame(inflation=2.1, gdp=1.70)\n",
    "\n",
    "print(\"prediction interval\")\n",
    "prediction_pred_int <- predict(model2, newdata, interval=\"predict\", level=0.90) \n",
    "round(prediction_pred_int,4)\n",
    "\n",
    "print(\"confidence interval\")\n",
    "prediction_conf_int <- predict(model2, newdata, interval=\"confidence\", level=0.90) \n",
    "round(prediction_conf_int,4)"
   ]
  },
  {
   "cell_type": "markdown",
   "metadata": {},
   "source": [
    " "
   ]
  },
  {
   "cell_type": "markdown",
   "metadata": {
    "deletable": false,
    "editable": false
   },
   "source": [
    "## Step 8: Complete Second Order Model (One Quantitative and One Qualitative Variable)\n",
    "In this step, you will create a second order multiple regression model for **wage_growth** as the response variable and **inflation**, **economy** as predictor variables. A complete second order model contains all of the terms in a first order model, second order terms involving squares of only the quantitative independent variables, and interaction terms. \n",
    "\n",
    "The general form of the regression model is:\n",
    "<br>\n",
    "\n",
    "\\begin{equation*}\n",
    "\\large E(y) = {\\beta}_0\\ +\\ {\\beta}_1\\ {x}_1\\ +\\  {\\beta}_2\\ {x}_2\\ +\\ {\\beta}_3\\ {x}_1\\ {x}_2\\ +\\ {\\beta}_4\\ {x}_1^2\\ +\\ {\\beta}_5\\ {x}_1^2\\ {x}_2\n",
    "\\end{equation*}\n",
    "\n",
    "<br>\n",
    "The prediction regression model is:\n",
    "<br>\n",
    "\n",
    "\\begin{equation*}\n",
    "\\large \\hat{y} = \\hat{{\\beta}_0}\\ +\\ \\hat{{\\beta}_1}\\ {x}_1\\ +\\  \\hat{{\\beta}_2}\\ {x}_2\\ +\\ \\hat{{\\beta}_3}\\ {x}_1\\ {x}_2\\ +\\ \\hat{{\\beta}_4}\\ {x}_1^2\\ +\\ \\hat{{\\beta}_5}\\ {x}_1^2\\ {x}_2\n",
    "\\end{equation*}\n",
    "\n",
    "\\begin{equation*}\n",
    "\\text{where } \\hat{y} \\text{ is the predicted value of the wage growth,}\\ {x}_1\\ \\text{is Inflation, and }\\ {x}_2\\ \\text{is Economy}\n",
    "\\end{equation*}\n",
    "\n",
    "\\begin{equation*}\n",
    "\\hat{{\\beta}_0} \\text{,} \\hspace{0.25cm} \\hat{{\\beta}_1} \\text{, } \\hspace{0.25cm} \\hat{{\\beta}_2} \\text{,} \\hspace{0.25cm} \\hat{{\\beta}_3} \\text{,} \\hspace{0.25cm} \\hat{{\\beta}_4} \\text{,} \\hspace{0.25cm} \\hat{{\\beta}_5} \\text{  } \\text{ are estimates of }\n",
    "\\text{  } {\\beta}_0\\ \\text{,} \\hspace{0.25cm} {\\beta}_1\\ \\text{,} \\hspace{0.25cm} {\\beta}_2\\ \\text{,} \\hspace{0.25cm} {\\beta}_3\\ \\text{,} \\hspace{0.25cm} {\\beta}_4\\ \\text{,} \\hspace{0.25cm} {\\beta}_5\\ \\text{ respectively  }\n",
    "\\end{equation*}\n",
    "<br><br>\n",
    "\n",
    "The following code block will create this complete second-order model. \n",
    "\n",
    "Click the block of code below and hit the **Run** button above.  "
   ]
  },
  {
   "cell_type": "code",
   "execution_count": 8,
   "metadata": {
    "deletable": false,
    "editable": false,
    "scrolled": false
   },
   "outputs": [
    {
     "data": {
      "text/plain": [
       "\n",
       "Call:\n",
       "lm(formula = wage_growth ~ inflation + economy + inflation:economy + \n",
       "    I(inflation^2) + I(inflation^2):economy, data = economic)\n",
       "\n",
       "Residuals:\n",
       "    Min      1Q  Median      3Q     Max \n",
       "-2.7108 -0.6342  0.1124  0.7136  1.9368 \n",
       "\n",
       "Coefficients:\n",
       "                                Estimate Std. Error t value Pr(>|t|)    \n",
       "(Intercept)                      1.38806    0.73653   1.885  0.06261 .  \n",
       "inflation                        1.33488    0.22565   5.916 5.45e-08 ***\n",
       "economyrecession                -3.48576    2.14620  -1.624  0.10773    \n",
       "I(inflation^2)                  -0.05175    0.01598  -3.239  0.00167 ** \n",
       "inflation:economyrecession       1.41440    1.64178   0.862  0.39118    \n",
       "economyrecession:I(inflation^2) -0.16300    0.30307  -0.538  0.59197    \n",
       "---\n",
       "Signif. codes:  0 '***' 0.001 '**' 0.01 '*' 0.05 '.' 0.1 ' ' 1\n",
       "\n",
       "Residual standard error: 1.015 on 93 degrees of freedom\n",
       "Multiple R-squared:  0.8738,\tAdjusted R-squared:  0.867 \n",
       "F-statistic: 128.7 on 5 and 93 DF,  p-value: < 2.2e-16\n"
      ]
     },
     "metadata": {},
     "output_type": "display_data"
    }
   ],
   "source": [
    "# Create the second order regression model and print the statistics\n",
    "model3 <- lm(wage_growth ~ inflation + economy + inflation:economy + I(inflation^2) + I(inflation^2):economy, data=economic)\n",
    "summary(model3)"
   ]
  },
  {
   "cell_type": "markdown",
   "metadata": {},
   "source": [
    " "
   ]
  },
  {
   "cell_type": "markdown",
   "metadata": {
    "deletable": false,
    "editable": false
   },
   "source": [
    "## Step 9: Prediction, Prediction Interval, and Confidence Interval\n",
    "In this step, you will predict the wage growth when the inflation is 2.1% and the economy is in recession. You will also obtain a 90% prediction interval and confidence interval for this prediction. Note that this observation is not from the data set that was used to create this model. \n",
    "\n",
    "Click the block of code below and hit the **Run** button above.  "
   ]
  },
  {
   "cell_type": "code",
   "execution_count": 9,
   "metadata": {
    "deletable": false,
    "editable": false
   },
   "outputs": [
    {
     "name": "stdout",
     "output_type": "stream",
     "text": [
      "[1] \"prediction interval\"\n"
     ]
    },
    {
     "data": {
      "text/html": [
       "<table>\n",
       "<caption>A matrix: 1 × 3 of type dbl</caption>\n",
       "<thead>\n",
       "\t<tr><th scope=col>fit</th><th scope=col>lwr</th><th scope=col>upr</th></tr>\n",
       "</thead>\n",
       "<tbody>\n",
       "\t<tr><td>2.7287</td><td>0.9822</td><td>4.4753</td></tr>\n",
       "</tbody>\n",
       "</table>\n"
      ],
      "text/latex": [
       "A matrix: 1 × 3 of type dbl\n",
       "\\begin{tabular}{r|lll}\n",
       " fit & lwr & upr\\\\\n",
       "\\hline\n",
       "\t 2.7287 & 0.9822 & 4.4753\\\\\n",
       "\\end{tabular}\n"
      ],
      "text/markdown": [
       "\n",
       "A matrix: 1 × 3 of type dbl\n",
       "\n",
       "| fit | lwr | upr |\n",
       "|---|---|---|\n",
       "| 2.7287 | 0.9822 | 4.4753 |\n",
       "\n"
      ],
      "text/plain": [
       "  fit    lwr    upr   \n",
       "1 2.7287 0.9822 4.4753"
      ]
     },
     "metadata": {},
     "output_type": "display_data"
    },
    {
     "name": "stdout",
     "output_type": "stream",
     "text": [
      "[1] \"confidence interval\"\n"
     ]
    },
    {
     "data": {
      "text/html": [
       "<table>\n",
       "<caption>A matrix: 1 × 3 of type dbl</caption>\n",
       "<thead>\n",
       "\t<tr><th scope=col>fit</th><th scope=col>lwr</th><th scope=col>upr</th></tr>\n",
       "</thead>\n",
       "<tbody>\n",
       "\t<tr><td>2.7287</td><td>2.2767</td><td>3.1807</td></tr>\n",
       "</tbody>\n",
       "</table>\n"
      ],
      "text/latex": [
       "A matrix: 1 × 3 of type dbl\n",
       "\\begin{tabular}{r|lll}\n",
       " fit & lwr & upr\\\\\n",
       "\\hline\n",
       "\t 2.7287 & 2.2767 & 3.1807\\\\\n",
       "\\end{tabular}\n"
      ],
      "text/markdown": [
       "\n",
       "A matrix: 1 × 3 of type dbl\n",
       "\n",
       "| fit | lwr | upr |\n",
       "|---|---|---|\n",
       "| 2.7287 | 2.2767 | 3.1807 |\n",
       "\n"
      ],
      "text/plain": [
       "  fit    lwr    upr   \n",
       "1 2.7287 2.2767 3.1807"
      ]
     },
     "metadata": {},
     "output_type": "display_data"
    }
   ],
   "source": [
    "newdata <- data.frame(inflation=2.1, economy='recession')\n",
    "\n",
    "print(\"prediction interval\")\n",
    "prediction_pred_int <- predict(model3, newdata, interval=\"predict\", level=0.90) \n",
    "round(prediction_pred_int,4)\n",
    "\n",
    "print(\"confidence interval\")\n",
    "prediction_conf_int <- predict(model3, newdata, interval=\"confidence\", level=0.90) \n",
    "round(prediction_conf_int,4)"
   ]
  },
  {
   "cell_type": "markdown",
   "metadata": {},
   "source": [
    " "
   ]
  },
  {
   "cell_type": "markdown",
   "metadata": {},
   "source": [
    " "
   ]
  },
  {
   "cell_type": "markdown",
   "metadata": {
    "deletable": false,
    "editable": false
   },
   "source": [
    "## Your Code\n",
    "\n",
    "You have been asked to create regression models in the Module Three Problem Set. Review the Problem Set Report template to see the questions you will be answering about your models.\n",
    "\n",
    "Use the empty blocks below to write the R code for your models and get outputs. Then use the outputs to answer the questions in your problem set report.\n",
    "\n",
    "**Note: Use the + (plus) button to add new code blocks or the scissor icon to remove empty code blocks, if needed.**"
   ]
  },
  {
   "cell_type": "code",
   "execution_count": 7,
   "metadata": {},
   "outputs": [
    {
     "data": {
      "image/png": "[encoded data removed]",
      "text/plain": [
       "Plot with title \"Scatterplot of Wage Growth and Unemployment\""
      ]
     },
     "metadata": {},
     "output_type": "display_data"
    }
   ],
   "source": [
    "plot(economic$wage_growth, economic$unemployment, \n",
    "     main = \"Scatterplot of Wage Growth and Unemployment\",\n",
    "     xlab = \"Wage Growth\", ylab = \"unemployment\",\n",
    "     col=\"red\", \n",
    "     pch = 19, frame = FALSE)"
   ]
  },
  {
   "cell_type": "code",
   "execution_count": 8,
   "metadata": {},
   "outputs": [
    {
     "data": {
      "text/plain": [
       "\n",
       "Call:\n",
       "lm(formula = wage_growth ~ unemployment + I(unemployment^2), \n",
       "    data = economic)\n",
       "\n",
       "Residuals:\n",
       "    Min      1Q  Median      3Q     Max \n",
       "-1.7515 -0.4407  0.0601  0.4287  1.9382 \n",
       "\n",
       "Coefficients:\n",
       "                   Estimate Std. Error t value Pr(>|t|)    \n",
       "(Intercept)       12.234206   0.208069   58.80  < 2e-16 ***\n",
       "unemployment      -1.743170   0.091052  -19.14  < 2e-16 ***\n",
       "I(unemployment^2)  0.067408   0.007287    9.25 6.07e-15 ***\n",
       "---\n",
       "Signif. codes:  0 '***' 0.001 '**' 0.01 '*' 0.05 '.' 0.1 ' ' 1\n",
       "\n",
       "Residual standard error: 0.6681 on 96 degrees of freedom\n",
       "Multiple R-squared:  0.9436,\tAdjusted R-squared:  0.9424 \n",
       "F-statistic:   803 on 2 and 96 DF,  p-value: < 2.2e-16\n"
      ]
     },
     "metadata": {},
     "output_type": "display_data"
    }
   ],
   "source": [
    "# Create the second order regression model and print the statistics\n",
    "model1 <- lm(wage_growth ~ unemployment + I(unemployment^2), data=economic)\n",
    "summary(model1)"
   ]
  },
  {
   "cell_type": "code",
   "execution_count": 9,
   "metadata": {},
   "outputs": [
    {
     "name": "stdout",
     "output_type": "stream",
     "text": [
      "[1] \"prediction interval\"\n"
     ]
    },
    {
     "data": {
      "text/html": [
       "<table>\n",
       "<caption>A matrix: 1 × 3 of type dbl</caption>\n",
       "<thead>\n",
       "\t<tr><th scope=col>fit</th><th scope=col>lwr</th><th scope=col>upr</th></tr>\n",
       "</thead>\n",
       "<tbody>\n",
       "\t<tr><td>8.2414</td><td>6.9071</td><td>9.5758</td></tr>\n",
       "</tbody>\n",
       "</table>\n"
      ],
      "text/latex": [
       "A matrix: 1 × 3 of type dbl\n",
       "\\begin{tabular}{r|lll}\n",
       " fit & lwr & upr\\\\\n",
       "\\hline\n",
       "\t 8.2414 & 6.9071 & 9.5758\\\\\n",
       "\\end{tabular}\n"
      ],
      "text/markdown": [
       "\n",
       "A matrix: 1 × 3 of type dbl\n",
       "\n",
       "| fit | lwr | upr |\n",
       "|---|---|---|\n",
       "| 8.2414 | 6.9071 | 9.5758 |\n",
       "\n"
      ],
      "text/plain": [
       "  fit    lwr    upr   \n",
       "1 8.2414 6.9071 9.5758"
      ]
     },
     "metadata": {},
     "output_type": "display_data"
    },
    {
     "name": "stdout",
     "output_type": "stream",
     "text": [
      "[1] \"confidence interval\"\n"
     ]
    },
    {
     "data": {
      "text/html": [
       "<table>\n",
       "<caption>A matrix: 1 × 3 of type dbl</caption>\n",
       "<thead>\n",
       "\t<tr><th scope=col>fit</th><th scope=col>lwr</th><th scope=col>upr</th></tr>\n",
       "</thead>\n",
       "<tbody>\n",
       "\t<tr><td>8.2414</td><td>8.0936</td><td>8.3893</td></tr>\n",
       "</tbody>\n",
       "</table>\n"
      ],
      "text/latex": [
       "A matrix: 1 × 3 of type dbl\n",
       "\\begin{tabular}{r|lll}\n",
       " fit & lwr & upr\\\\\n",
       "\\hline\n",
       "\t 8.2414 & 8.0936 & 8.3893\\\\\n",
       "\\end{tabular}\n"
      ],
      "text/markdown": [
       "\n",
       "A matrix: 1 × 3 of type dbl\n",
       "\n",
       "| fit | lwr | upr |\n",
       "|---|---|---|\n",
       "| 8.2414 | 8.0936 | 8.3893 |\n",
       "\n"
      ],
      "text/plain": [
       "  fit    lwr    upr   \n",
       "1 8.2414 8.0936 8.3893"
      ]
     },
     "metadata": {},
     "output_type": "display_data"
    }
   ],
   "source": [
    "newdata <- data.frame(unemployment = 2.54)\n",
    "\n",
    "print(\"prediction interval\")\n",
    "prediction_pred_int <- predict(model1, newdata, interval=\"predict\", level=0.95) \n",
    "round(prediction_pred_int,4)\n",
    "\n",
    "print(\"confidence interval\")\n",
    "prediction_conf_int <- predict(model1, newdata, interval=\"confidence\", level=0.95) \n",
    "round(prediction_conf_int,4)"
   ]
  },
  {
   "cell_type": "code",
   "execution_count": 10,
   "metadata": {},
   "outputs": [
    {
     "data": {
      "text/plain": [
       "\n",
       "Call:\n",
       "lm(formula = wage_growth ~ unemployment + gdp + I(unemployment^2) + \n",
       "    I(gdp^2) + unemployment:gdp, data = economic)\n",
       "\n",
       "Residuals:\n",
       "     Min       1Q   Median       3Q      Max \n",
       "-1.37686 -0.35318  0.01594  0.33860  1.55345 \n",
       "\n",
       "Coefficients:\n",
       "                   Estimate Std. Error t value Pr(>|t|)    \n",
       "(Intercept)        8.989434   1.014702   8.859 5.30e-14 ***\n",
       "unemployment      -1.152823   0.244170  -4.721 8.26e-06 ***\n",
       "gdp                0.283691   0.140811   2.015  0.04682 *  \n",
       "I(unemployment^2)  0.037685   0.013069   2.884  0.00489 ** \n",
       "I(gdp^2)          -0.006599   0.004299  -1.535  0.12815    \n",
       "unemployment:gdp  -0.006282   0.021119  -0.297  0.76678    \n",
       "---\n",
       "Signif. codes:  0 '***' 0.001 '**' 0.01 '*' 0.05 '.' 0.1 ' ' 1\n",
       "\n",
       "Residual standard error: 0.5807 on 93 degrees of freedom\n",
       "Multiple R-squared:  0.9587,\tAdjusted R-squared:  0.9565 \n",
       "F-statistic:   432 on 5 and 93 DF,  p-value: < 2.2e-16\n"
      ]
     },
     "metadata": {},
     "output_type": "display_data"
    }
   ],
   "source": [
    "# Create the second order regression model and print the statistics\n",
    "model2 <- lm(wage_growth ~ unemployment + gdp + I(unemployment^2) + I(gdp^2) + unemployment:gdp, data=economic)\n",
    "summary(model2)"
   ]
  },
  {
   "cell_type": "code",
   "execution_count": 11,
   "metadata": {},
   "outputs": [
    {
     "name": "stdout",
     "output_type": "stream",
     "text": [
      "[1] \"prediction interval\"\n"
     ]
    },
    {
     "data": {
      "text/html": [
       "<table>\n",
       "<caption>A matrix: 1 × 3 of type dbl</caption>\n",
       "<thead>\n",
       "\t<tr><th scope=col>fit</th><th scope=col>lwr</th><th scope=col>upr</th></tr>\n",
       "</thead>\n",
       "<tbody>\n",
       "\t<tr><td>7.806</td><td>6.6315</td><td>8.9805</td></tr>\n",
       "</tbody>\n",
       "</table>\n"
      ],
      "text/latex": [
       "A matrix: 1 × 3 of type dbl\n",
       "\\begin{tabular}{r|lll}\n",
       " fit & lwr & upr\\\\\n",
       "\\hline\n",
       "\t 7.806 & 6.6315 & 8.9805\\\\\n",
       "\\end{tabular}\n"
      ],
      "text/markdown": [
       "\n",
       "A matrix: 1 × 3 of type dbl\n",
       "\n",
       "| fit | lwr | upr |\n",
       "|---|---|---|\n",
       "| 7.806 | 6.6315 | 8.9805 |\n",
       "\n"
      ],
      "text/plain": [
       "  fit   lwr    upr   \n",
       "1 7.806 6.6315 8.9805"
      ]
     },
     "metadata": {},
     "output_type": "display_data"
    },
    {
     "name": "stdout",
     "output_type": "stream",
     "text": [
      "[1] \"confidence interval\"\n"
     ]
    },
    {
     "data": {
      "text/html": [
       "<table>\n",
       "<caption>A matrix: 1 × 3 of type dbl</caption>\n",
       "<thead>\n",
       "\t<tr><th scope=col>fit</th><th scope=col>lwr</th><th scope=col>upr</th></tr>\n",
       "</thead>\n",
       "<tbody>\n",
       "\t<tr><td>7.806</td><td>7.583</td><td>8.0289</td></tr>\n",
       "</tbody>\n",
       "</table>\n"
      ],
      "text/latex": [
       "A matrix: 1 × 3 of type dbl\n",
       "\\begin{tabular}{r|lll}\n",
       " fit & lwr & upr\\\\\n",
       "\\hline\n",
       "\t 7.806 & 7.583 & 8.0289\\\\\n",
       "\\end{tabular}\n"
      ],
      "text/markdown": [
       "\n",
       "A matrix: 1 × 3 of type dbl\n",
       "\n",
       "| fit | lwr | upr |\n",
       "|---|---|---|\n",
       "| 7.806 | 7.583 | 8.0289 |\n",
       "\n"
      ],
      "text/plain": [
       "  fit   lwr   upr   \n",
       "1 7.806 7.583 8.0289"
      ]
     },
     "metadata": {},
     "output_type": "display_data"
    }
   ],
   "source": [
    "newdata <- data.frame(unemployment = 2.50, gdp = 6.50)\n",
    "\n",
    "print(\"prediction interval\")\n",
    "prediction_pred_int <- predict(model2, newdata, interval=\"predict\", level=0.95) \n",
    "round(prediction_pred_int,4)\n",
    "\n",
    "print(\"confidence interval\")\n",
    "prediction_conf_int <- predict(model2, newdata, interval=\"confidence\", level=0.95) \n",
    "round(prediction_conf_int,4)"
   ]
  },
  {
   "cell_type": "code",
   "execution_count": 12,
   "metadata": {},
   "outputs": [
    {
     "data": {
      "text/plain": [
       "\n",
       "Call:\n",
       "lm(formula = wage_growth ~ unemployment + economy + unemployment:economy + \n",
       "    I(unemployment^2) + I(unemployment^2):economy, data = economic)\n",
       "\n",
       "Residuals:\n",
       "     Min       1Q   Median       3Q      Max \n",
       "-1.77220 -0.35522  0.04877  0.42602  1.90778 \n",
       "\n",
       "Coefficients:\n",
       "                                   Estimate Std. Error t value Pr(>|t|)    \n",
       "(Intercept)                        12.36072    0.27055  45.687  < 2e-16 ***\n",
       "unemployment                       -1.80834    0.14236 -12.703  < 2e-16 ***\n",
       "economyrecession                   -2.70404    1.08221  -2.499   0.0142 *  \n",
       "I(unemployment^2)                   0.07574    0.01460   5.188 1.24e-06 ***\n",
       "unemployment:economyrecession       0.69359    0.30901   2.245   0.0272 *  \n",
       "economyrecession:I(unemployment^2) -0.04358    0.02206  -1.976   0.0512 .  \n",
       "---\n",
       "Signif. codes:  0 '***' 0.001 '**' 0.01 '*' 0.05 '.' 0.1 ' ' 1\n",
       "\n",
       "Residual standard error: 0.6551 on 93 degrees of freedom\n",
       "Multiple R-squared:  0.9475,\tAdjusted R-squared:  0.9446 \n",
       "F-statistic: 335.4 on 5 and 93 DF,  p-value: < 2.2e-16\n"
      ]
     },
     "metadata": {},
     "output_type": "display_data"
    }
   ],
   "source": [
    "# Create the second order regression model and print the statistics\n",
    "model3 <- lm(wage_growth ~ unemployment + economy + unemployment:economy + I(unemployment^2) + I(unemployment^2):economy, data=economic)\n",
    "summary(model3)"
   ]
  },
  {
   "cell_type": "code",
   "execution_count": 13,
   "metadata": {},
   "outputs": [
    {
     "name": "stdout",
     "output_type": "stream",
     "text": [
      "[1] \"prediction interval\"\n"
     ]
    },
    {
     "data": {
      "text/html": [
       "<table>\n",
       "<caption>A matrix: 1 × 3 of type dbl</caption>\n",
       "<thead>\n",
       "\t<tr><th scope=col>fit</th><th scope=col>lwr</th><th scope=col>upr</th></tr>\n",
       "</thead>\n",
       "<tbody>\n",
       "\t<tr><td>8.3132</td><td>7.003</td><td>9.6235</td></tr>\n",
       "</tbody>\n",
       "</table>\n"
      ],
      "text/latex": [
       "A matrix: 1 × 3 of type dbl\n",
       "\\begin{tabular}{r|lll}\n",
       " fit & lwr & upr\\\\\n",
       "\\hline\n",
       "\t 8.3132 & 7.003 & 9.6235\\\\\n",
       "\\end{tabular}\n"
      ],
      "text/markdown": [
       "\n",
       "A matrix: 1 × 3 of type dbl\n",
       "\n",
       "| fit | lwr | upr |\n",
       "|---|---|---|\n",
       "| 8.3132 | 7.003 | 9.6235 |\n",
       "\n"
      ],
      "text/plain": [
       "  fit    lwr   upr   \n",
       "1 8.3132 7.003 9.6235"
      ]
     },
     "metadata": {},
     "output_type": "display_data"
    },
    {
     "name": "stdout",
     "output_type": "stream",
     "text": [
      "[1] \"confidence interval\"\n"
     ]
    },
    {
     "data": {
      "text/html": [
       "<table>\n",
       "<caption>A matrix: 1 × 3 of type dbl</caption>\n",
       "<thead>\n",
       "\t<tr><th scope=col>fit</th><th scope=col>lwr</th><th scope=col>upr</th></tr>\n",
       "</thead>\n",
       "<tbody>\n",
       "\t<tr><td>8.3132</td><td>8.1573</td><td>8.4692</td></tr>\n",
       "</tbody>\n",
       "</table>\n"
      ],
      "text/latex": [
       "A matrix: 1 × 3 of type dbl\n",
       "\\begin{tabular}{r|lll}\n",
       " fit & lwr & upr\\\\\n",
       "\\hline\n",
       "\t 8.3132 & 8.1573 & 8.4692\\\\\n",
       "\\end{tabular}\n"
      ],
      "text/markdown": [
       "\n",
       "A matrix: 1 × 3 of type dbl\n",
       "\n",
       "| fit | lwr | upr |\n",
       "|---|---|---|\n",
       "| 8.3132 | 8.1573 | 8.4692 |\n",
       "\n"
      ],
      "text/plain": [
       "  fit    lwr    upr   \n",
       "1 8.3132 8.1573 8.4692"
      ]
     },
     "metadata": {},
     "output_type": "display_data"
    }
   ],
   "source": [
    "newdata <- data.frame(unemployment = 2.50, economy = \"no_recession\")\n",
    "\n",
    "print(\"prediction interval\")\n",
    "prediction_pred_int <- predict(model3, newdata, interval=\"predict\", level=0.95) \n",
    "round(prediction_pred_int,4)\n",
    "\n",
    "print(\"confidence interval\")\n",
    "prediction_conf_int <- predict(model3, newdata, interval=\"confidence\", level=0.95) \n",
    "round(prediction_conf_int,4)"
   ]
  },
  {
   "cell_type": "code",
   "execution_count": 14,
   "metadata": {},
   "outputs": [
    {
     "name": "stdout",
     "output_type": "stream",
     "text": [
      "   wage_growth inflation unemployment      economy     education   gdp\n",
      "1         7.30      4.49         3.56 no_recession       college  6.27\n",
      "2         9.05      9.59         2.42 no_recession       college  9.44\n",
      "3        10.08     11.36         1.23 no_recession post_graduate 18.29\n",
      "4        10.98      9.55         1.18 no_recession post_graduate 19.96\n",
      "5         8.54      8.63         2.54 no_recession   high_school  8.43\n",
      "6         9.75      8.26         2.22 no_recession       college 17.85\n",
      "7         2.28      1.71         9.33    recession   high_school  2.20\n",
      "8         3.20      3.04         7.13    recession post_graduate  3.64\n",
      "9         9.62      6.60         1.91 no_recession   high_school 13.93\n",
      "10        5.20      3.62         4.66    recession post_graduate  4.78\n",
      "11        7.34      5.91         2.95 no_recession   high_school  7.62\n",
      "12        5.76      3.00         4.12    recession post_graduate  5.80\n",
      "13        3.59      3.17         6.51    recession   high_school  4.03\n",
      "14        5.98      4.16         3.55 no_recession   high_school  6.64\n",
      "15        7.32      7.41         2.78 no_recession   high_school 10.97\n",
      "16        9.89     10.27         0.61 no_recession       college 20.97\n",
      "17        8.28     11.33         2.02 no_recession       college  6.13\n",
      "18        9.16      8.12         2.39 no_recession       college  8.90\n",
      "19        9.24     10.81         1.44 no_recession   high_school  6.04\n",
      "20        5.71      7.38         4.50 no_recession       college  8.64\n",
      "21       10.13      9.22         1.29 no_recession post_graduate 21.39\n",
      "22        7.84      6.39         1.75 no_recession   high_school  6.79\n",
      "23        2.25      1.67         9.22    recession   high_school  2.49\n",
      "24        9.28      9.83         1.74 no_recession post_graduate 12.00\n",
      "25        7.65      4.77         2.37 no_recession   high_school 11.13\n",
      "26        7.68      6.44         2.76 no_recession   high_school  7.12\n",
      "27       10.68      8.69         1.37 no_recession post_graduate 15.32\n",
      "28        7.07      6.58         3.11 no_recession       college 10.94\n",
      "29        8.32      7.52         2.12 no_recession   high_school  9.58\n",
      "30        7.46      6.22         3.09 no_recession       college  8.58\n",
      "31        1.81      1.56        11.07    recession   high_school  3.08\n",
      "32        9.77      9.55         0.61 no_recession post_graduate 13.18\n",
      "33        9.47     10.29         1.47 no_recession       college 13.35\n",
      "34        5.70      4.06         4.80 no_recession   high_school  6.43\n",
      "35        3.05      2.28         7.66 no_recession       college  3.43\n",
      "36        7.39      8.26         2.75 no_recession       college  7.13\n",
      "37        8.85      9.07         2.30 no_recession       college 11.10\n",
      "38        8.05      7.38         3.27 no_recession   high_school  5.40\n",
      "39        6.81      4.32         3.27    recession post_graduate  5.60\n",
      "40        9.56      7.94         2.17 no_recession post_graduate  8.77\n",
      "41        9.92     10.99         1.83 no_recession   high_school 15.96\n",
      "42        1.72      1.49        10.61 no_recession   high_school  2.88\n",
      "43        4.80      2.64         4.56    recession       college  3.45\n",
      "44        6.19      3.51         3.74 no_recession   high_school  5.51\n",
      "45        6.51      5.62         4.21 no_recession post_graduate  6.77\n",
      "46        3.86      3.25         5.87    recession   high_school  1.49\n",
      "47        3.05      2.20         7.07    recession   high_school  2.99\n",
      "48        2.09      2.55         9.06    recession post_graduate  2.36\n",
      "49        5.71      4.21         4.47 no_recession       college  3.13\n",
      "50        7.76      5.38         3.32 no_recession   high_school 12.87\n",
      "51        9.03     10.95         1.82 no_recession       college 16.03\n",
      "52        0.00      1.50        13.99    recession       college  1.59\n",
      "53        5.89      5.18         3.53 no_recession   high_school  4.31\n",
      "54        5.04      2.56         4.22 no_recession       college  3.50\n",
      "55        9.19      8.62         2.08 no_recession       college 11.02\n",
      "56        9.18      6.15         2.02 no_recession   high_school  9.58\n",
      "57        3.93      1.43         6.79 no_recession   high_school  2.48\n",
      "58        8.48      7.00         2.78 no_recession       college 11.68\n",
      "59       10.58      9.67         1.09 no_recession post_graduate 11.15\n",
      "60        0.95      1.80        11.69    recession       college  1.56\n",
      "61        6.52      7.26         4.00 no_recession   high_school  4.84\n",
      "62        9.76      9.00         1.86 no_recession       college  9.57\n",
      "63        7.49      6.73         2.21 no_recession       college  8.32\n",
      "64        6.78      4.78         3.64 no_recession       college  4.63\n",
      "65        3.50      2.53         6.58    recession post_graduate  3.57\n",
      "66        1.49      1.27        10.80    recession   high_school  1.18\n",
      "67        6.24      2.68         3.79 no_recession   high_school  5.87\n",
      "68        2.81      1.85         8.08    recession       college  3.00\n",
      "69        9.80     10.83         1.97 no_recession post_graduate  9.61\n",
      "70        6.34      3.42         4.04 no_recession       college  6.68\n",
      "71        7.69      5.04         3.04 no_recession post_graduate  8.64\n",
      "72        5.10      4.69         4.48 no_recession   high_school  4.33\n",
      "73       11.57     10.51         1.07 no_recession post_graduate 21.88\n",
      "74        3.44      3.66         7.08 no_recession       college  1.82\n",
      "75        7.52      8.32         3.40 no_recession   high_school  8.52\n",
      "76        6.83      7.68         2.30 no_recession   high_school  7.27\n",
      "77        9.56     10.03         2.06 no_recession       college 19.45\n",
      "78        9.89     10.21         1.81 no_recession post_graduate  9.78\n",
      "79        9.67     11.28         1.46 no_recession   high_school 14.92\n",
      "80        8.60      8.29         2.46 no_recession post_graduate 12.98\n",
      "81        6.07      3.51         3.74 no_recession   high_school  2.37\n",
      "82        9.36      6.31         1.81 no_recession   high_school 14.75\n",
      "83        9.91      9.37         2.25 no_recession post_graduate  9.05\n",
      "84       10.65     10.75         1.77 no_recession post_graduate 16.93\n",
      "85        7.04      5.51         2.90 no_recession   high_school  9.41\n",
      "86        3.68      3.88         6.77    recession   high_school  2.93\n",
      "87        7.43      6.67         2.36 no_recession   high_school  5.52\n",
      "88        9.59      7.39         2.08 no_recession       college 14.74\n",
      "89        9.73      9.72         1.73 no_recession       college 17.64\n",
      "90        8.49      7.25         3.03 no_recession   high_school  8.86\n",
      "91        1.49      1.36        10.32    recession       college  1.70\n",
      "92        9.32      8.56         2.22 no_recession post_graduate 13.61\n",
      "93        8.28     10.80         2.03 no_recession post_graduate 11.23\n",
      "94        9.28      9.41         1.86 no_recession   high_school 16.18\n",
      "95        1.83      2.01        10.24    recession post_graduate  2.43\n",
      "96       11.00     11.09         1.97 no_recession post_graduate 14.96\n",
      "97        4.83      2.19         5.38    recession post_graduate  3.45\n",
      "98        5.66      3.17         4.05    recession post_graduate  6.61\n",
      "99        8.89     11.08         2.16 no_recession       college 14.30\n"
     ]
    }
   ],
   "source": [
    "# Print the data set -- MC -- To count the rows for the report.\n",
    "print(economic)\n"
   ]
  },
  {
   "cell_type": "markdown",
   "metadata": {
    "deletable": false,
    "editable": false
   },
   "source": [
    "## End of Module Three Jupyter Notebook\n",
    "Attach the HTML output along with your problem set report for the Module Three Problem Set. The HTML output can be downloaded by clicking **File**, then **Download as**, then **HTML**. Be sure to answer all of the questions in your problem set report."
   ]
  },
  {
   "cell_type": "code",
   "execution_count": null,
   "metadata": {},
   "outputs": [],
   "source": []
  }
 ],
 "metadata": {
  "kernelspec": {
   "display_name": "R",
   "language": "R",
   "name": "ir"
  },
  "language_info": {
   "codemirror_mode": "r",
   "file_extension": ".r",
   "mimetype": "text/x-r-source",
   "name": "R",
   "pygments_lexer": "r",
   "version": "3.4.4"
  }
 },
 "nbformat": 4,
 "nbformat_minor": 2
}
