{
 "cells": [
  {
   "cell_type": "markdown",
   "metadata": {
    "deletable": false,
    "editable": false
   },
   "source": [
    "# Project Two: Logistic Regression and Random Forests\n",
    "\n",
    "For Project Two, you have been asked to create different models analyzing a Heart Disease data set. Before beginning work on the project, be sure to read through the Project Two Guidelines and Rubric to understand what you need to do and how you will be graded on this assignment. Be sure to carefully review the Project Two Summary Report template, which contains all of the questions that you will need to answer about the regression analyses you are performing.\n",
    "\n",
    "For this project, you will be writing all the scripts yourself. You may reference the textbook and your previous work on the problem sets to help you write the scripts.\n",
    "\n",
    "\n",
    "### Scenario\n",
    "\n",
    "You are a data analyst researching risk factors for heart disease at a university hospital. You have access to a large set of historical data that you can use to analyze patterns between different health indicators (e.g. fasting blood sugar, maximum heart rate, etc.) and the presence of heart disease. You have been asked to create different logistic regression models that predict whether or not a person is at risk for heart disease. A model like this could eventually be used to evaluate medical records and look for risks that might not be obvious to human doctors. You have also been asked to create a classification random forest model to predict the risk of heart disease and a regression random forest model to predict the maximum heart rate achieved.\n",
    "\n",
    "There are several variables in this data set, but you will be working with the following important variables: \n",
    "\n",
    "| <div style=\"text-align: left\"> Variable </div>  |   <div style=\"text-align: left\"> What does it represent? </div> |\n",
    "| -- | --  |\n",
    "| <div style=\"text-align: left\"> age </div> | <div style=\"text-align: left\"> The person's age in years </div> |\n",
    "| <div style=\"text-align: left\"> sex </div> | <div style=\"text-align: left\"> The person's sex (1 = male, 0 = female) </div> |\n",
    "| <div style=\"text-align: left\"> cp </div> | <div style=\"text-align: left\"> The type of chest pain experienced (0=no pain, 1=typical angina, 2=atypical angina, 3=non-anginal pain) </div> |\n",
    "| <div style=\"text-align: left\"> trestbps </div> | <div style=\"text-align: left\"> The person's resting blood pressure </div> |\n",
    "| <div style=\"text-align: left\"> chol </div> | <div style=\"text-align: left\"> The person's cholesterol measurement in mg/dl </div> |\n",
    "| <div style=\"text-align: left\"> fbs </div> | <div style=\"text-align: left\"> The person's fasting blood sugar is greater than 120 mg/dl (1 = true, 0 = false) </div> |\n",
    "| <div style=\"text-align: left\"> restecg </div> | <div style=\"text-align: left\"> Resting electrocardiographic measurement (0=normal, 1=having ST-T wave abnormality, 2=showing probable or definite left ventricular hypertrophy by Estes' criteria) </div> |\n",
    "| <div style=\"text-align: left\"> thalach </div> | <div style=\"text-align: left\"> The person's maximum heart rate achieved </div> |\n",
    "| <div style=\"text-align: left\"> exang </div> | <div style=\"text-align: left\"> Exercise-induced angina (1=yes, 0=no) </div> |\n",
    "| <div style=\"text-align: left\"> oldpeak </div> | <div style=\"text-align: left\"> ST depression induced by exercise relative to rest ('ST' relates to positions on the ECG plot) </div> |\n",
    "| <div style=\"text-align: left\"> slope </div> | <div style=\"text-align: left\"> The slope of the peak exercise ST segment (1=upsloping, 2=flat, 3=downsloping) </div> |\n",
    "| <div style=\"text-align: left\"> ca </div> | <div style=\"text-align: left\"> The number of major vessels (0-3) </div> |\n",
    "| <div style=\"text-align: left\"> target </div> | <div style=\"text-align: left\"> Heart disease (0=no, 1=yes) </div> |\n",
    "\n",
    "**---------------------------------------------------------------------------------------------------------------------------**"
   ]
  },
  {
   "cell_type": "markdown",
   "metadata": {
    "deletable": false,
    "editable": false
   },
   "source": [
    "## Install Libraries\n",
    "In the following code block, you will install appropriate libraries to use in this project. \n",
    "\n",
    "Click the **Run** button on the toolbar to run this code.\n",
    "<br><br>\n",
    "<font color='red'>**Note:** The code section below will first install three R packages: \"ResourceSelection\", \"pROC\" and \"rpart.plot\". Please do not move to the next step until the packages are fully installed. This will take some time. Once the installation is complete, this step will print first 6 rows of the data set.</font>"
   ]
  },
  {
   "cell_type": "code",
   "execution_count": 2,
   "metadata": {
    "deletable": false,
    "editable": false
   },
   "outputs": [
    {
     "name": "stdout",
     "output_type": "stream",
     "text": [
      "[1] \"This step will first install three R packages. Please wait until the packages are fully installed.\"\n",
      "[1] \"Once the installation is complete, this step will print 'Installation complete!'\"\n"
     ]
    },
    {
     "name": "stderr",
     "output_type": "stream",
     "text": [
      "Installing package into '/home/codio/R/x86_64-pc-linux-gnu-library/3.4'\n",
      "(as 'lib' is unspecified)\n",
      "Installing package into '/home/codio/R/x86_64-pc-linux-gnu-library/3.4'\n",
      "(as 'lib' is unspecified)\n",
      "Installing package into '/home/codio/R/x86_64-pc-linux-gnu-library/3.4'\n",
      "(as 'lib' is unspecified)\n"
     ]
    },
    {
     "name": "stdout",
     "output_type": "stream",
     "text": [
      "[1] \"Installation complete!\"\n"
     ]
    }
   ],
   "source": [
    "print(\"This step will first install three R packages. Please wait until the packages are fully installed.\")\n",
    "print(\"Once the installation is complete, this step will print 'Installation complete!'\")\n",
    "\n",
    "install.packages(\"ResourceSelection\")\n",
    "install.packages(\"pROC\")\n",
    "install.packages(\"rpart.plot\")\n",
    "\n",
    "print(\"Installation complete!\")"
   ]
  },
  {
   "cell_type": "markdown",
   "metadata": {
    "deletable": false,
    "editable": false
   },
   "source": [
    "## Prepare Your Data Set\n",
    "\n",
    "In the following code block, you have been given the R code to prepare your data set.\n",
    "\n",
    "Click the **Run** button on the toolbar to run this code."
   ]
  },
  {
   "cell_type": "code",
   "execution_count": 3,
   "metadata": {
    "deletable": false,
    "editable": false
   },
   "outputs": [
    {
     "data": {
      "text/html": [
       "<table>\n",
       "<caption>A data.frame: 10 × 14</caption>\n",
       "<thead>\n",
       "\t<tr><th scope=col>age</th><th scope=col>sex</th><th scope=col>cp</th><th scope=col>trestbps</th><th scope=col>chol</th><th scope=col>fbs</th><th scope=col>restecg</th><th scope=col>thalach</th><th scope=col>exang</th><th scope=col>oldpeak</th><th scope=col>slope</th><th scope=col>ca</th><th scope=col>thal</th><th scope=col>target</th></tr>\n",
       "\t<tr><th scope=col>&lt;int&gt;</th><th scope=col>&lt;fct&gt;</th><th scope=col>&lt;fct&gt;</th><th scope=col>&lt;int&gt;</th><th scope=col>&lt;int&gt;</th><th scope=col>&lt;fct&gt;</th><th scope=col>&lt;fct&gt;</th><th scope=col>&lt;int&gt;</th><th scope=col>&lt;fct&gt;</th><th scope=col>&lt;dbl&gt;</th><th scope=col>&lt;fct&gt;</th><th scope=col>&lt;fct&gt;</th><th scope=col>&lt;fct&gt;</th><th scope=col>&lt;fct&gt;</th></tr>\n",
       "</thead>\n",
       "<tbody>\n",
       "\t<tr><td>62</td><td>1</td><td>2</td><td>130</td><td>231</td><td>0</td><td>1</td><td>146</td><td>0</td><td>1.8</td><td>1</td><td>3</td><td>3</td><td>1</td></tr>\n",
       "\t<tr><td>58</td><td>0</td><td>0</td><td>130</td><td>197</td><td>0</td><td>1</td><td>131</td><td>0</td><td>0.6</td><td>1</td><td>0</td><td>2</td><td>1</td></tr>\n",
       "\t<tr><td>60</td><td>0</td><td>3</td><td>150</td><td>240</td><td>0</td><td>1</td><td>171</td><td>0</td><td>0.9</td><td>2</td><td>0</td><td>2</td><td>1</td></tr>\n",
       "\t<tr><td>63</td><td>1</td><td>0</td><td>140</td><td>187</td><td>0</td><td>0</td><td>144</td><td>1</td><td>4.0</td><td>2</td><td>2</td><td>3</td><td>0</td></tr>\n",
       "\t<tr><td>62</td><td>1</td><td>0</td><td>120</td><td>267</td><td>0</td><td>1</td><td> 99</td><td>1</td><td>1.8</td><td>1</td><td>2</td><td>3</td><td>0</td></tr>\n",
       "\t<tr><td>63</td><td>0</td><td>2</td><td>135</td><td>252</td><td>0</td><td>0</td><td>172</td><td>0</td><td>0.0</td><td>2</td><td>0</td><td>2</td><td>1</td></tr>\n",
       "\t<tr><td>43</td><td>1</td><td>0</td><td>150</td><td>247</td><td>0</td><td>1</td><td>171</td><td>0</td><td>1.5</td><td>2</td><td>0</td><td>2</td><td>1</td></tr>\n",
       "\t<tr><td>42</td><td>1</td><td>2</td><td>120</td><td>240</td><td>1</td><td>1</td><td>194</td><td>0</td><td>0.8</td><td>0</td><td>0</td><td>3</td><td>1</td></tr>\n",
       "\t<tr><td>59</td><td>1</td><td>2</td><td>126</td><td>218</td><td>1</td><td>1</td><td>134</td><td>0</td><td>2.2</td><td>1</td><td>1</td><td>1</td><td>0</td></tr>\n",
       "\t<tr><td>48</td><td>1</td><td>0</td><td>124</td><td>274</td><td>0</td><td>0</td><td>166</td><td>0</td><td>0.5</td><td>1</td><td>0</td><td>3</td><td>0</td></tr>\n",
       "</tbody>\n",
       "</table>\n"
      ],
      "text/latex": [
       "A data.frame: 10 × 14\n",
       "\\begin{tabular}{r|llllllllllllll}\n",
       " age & sex & cp & trestbps & chol & fbs & restecg & thalach & exang & oldpeak & slope & ca & thal & target\\\\\n",
       " <int> & <fct> & <fct> & <int> & <int> & <fct> & <fct> & <int> & <fct> & <dbl> & <fct> & <fct> & <fct> & <fct>\\\\\n",
       "\\hline\n",
       "\t 62 & 1 & 2 & 130 & 231 & 0 & 1 & 146 & 0 & 1.8 & 1 & 3 & 3 & 1\\\\\n",
       "\t 58 & 0 & 0 & 130 & 197 & 0 & 1 & 131 & 0 & 0.6 & 1 & 0 & 2 & 1\\\\\n",
       "\t 60 & 0 & 3 & 150 & 240 & 0 & 1 & 171 & 0 & 0.9 & 2 & 0 & 2 & 1\\\\\n",
       "\t 63 & 1 & 0 & 140 & 187 & 0 & 0 & 144 & 1 & 4.0 & 2 & 2 & 3 & 0\\\\\n",
       "\t 62 & 1 & 0 & 120 & 267 & 0 & 1 &  99 & 1 & 1.8 & 1 & 2 & 3 & 0\\\\\n",
       "\t 63 & 0 & 2 & 135 & 252 & 0 & 0 & 172 & 0 & 0.0 & 2 & 0 & 2 & 1\\\\\n",
       "\t 43 & 1 & 0 & 150 & 247 & 0 & 1 & 171 & 0 & 1.5 & 2 & 0 & 2 & 1\\\\\n",
       "\t 42 & 1 & 2 & 120 & 240 & 1 & 1 & 194 & 0 & 0.8 & 0 & 0 & 3 & 1\\\\\n",
       "\t 59 & 1 & 2 & 126 & 218 & 1 & 1 & 134 & 0 & 2.2 & 1 & 1 & 1 & 0\\\\\n",
       "\t 48 & 1 & 0 & 124 & 274 & 0 & 0 & 166 & 0 & 0.5 & 1 & 0 & 3 & 0\\\\\n",
       "\\end{tabular}\n"
      ],
      "text/markdown": [
       "\n",
       "A data.frame: 10 × 14\n",
       "\n",
       "| age &lt;int&gt; | sex &lt;fct&gt; | cp &lt;fct&gt; | trestbps &lt;int&gt; | chol &lt;int&gt; | fbs &lt;fct&gt; | restecg &lt;fct&gt; | thalach &lt;int&gt; | exang &lt;fct&gt; | oldpeak &lt;dbl&gt; | slope &lt;fct&gt; | ca &lt;fct&gt; | thal &lt;fct&gt; | target &lt;fct&gt; |\n",
       "|---|---|---|---|---|---|---|---|---|---|---|---|---|---|\n",
       "| 62 | 1 | 2 | 130 | 231 | 0 | 1 | 146 | 0 | 1.8 | 1 | 3 | 3 | 1 |\n",
       "| 58 | 0 | 0 | 130 | 197 | 0 | 1 | 131 | 0 | 0.6 | 1 | 0 | 2 | 1 |\n",
       "| 60 | 0 | 3 | 150 | 240 | 0 | 1 | 171 | 0 | 0.9 | 2 | 0 | 2 | 1 |\n",
       "| 63 | 1 | 0 | 140 | 187 | 0 | 0 | 144 | 1 | 4.0 | 2 | 2 | 3 | 0 |\n",
       "| 62 | 1 | 0 | 120 | 267 | 0 | 1 |  99 | 1 | 1.8 | 1 | 2 | 3 | 0 |\n",
       "| 63 | 0 | 2 | 135 | 252 | 0 | 0 | 172 | 0 | 0.0 | 2 | 0 | 2 | 1 |\n",
       "| 43 | 1 | 0 | 150 | 247 | 0 | 1 | 171 | 0 | 1.5 | 2 | 0 | 2 | 1 |\n",
       "| 42 | 1 | 2 | 120 | 240 | 1 | 1 | 194 | 0 | 0.8 | 0 | 0 | 3 | 1 |\n",
       "| 59 | 1 | 2 | 126 | 218 | 1 | 1 | 134 | 0 | 2.2 | 1 | 1 | 1 | 0 |\n",
       "| 48 | 1 | 0 | 124 | 274 | 0 | 0 | 166 | 0 | 0.5 | 1 | 0 | 3 | 0 |\n",
       "\n"
      ],
      "text/plain": [
       "   age sex cp trestbps chol fbs restecg thalach exang oldpeak slope ca thal\n",
       "1  62  1   2  130      231  0   1       146     0     1.8     1     3  3   \n",
       "2  58  0   0  130      197  0   1       131     0     0.6     1     0  2   \n",
       "3  60  0   3  150      240  0   1       171     0     0.9     2     0  2   \n",
       "4  63  1   0  140      187  0   0       144     1     4.0     2     2  3   \n",
       "5  62  1   0  120      267  0   1        99     1     1.8     1     2  3   \n",
       "6  63  0   2  135      252  0   0       172     0     0.0     2     0  2   \n",
       "7  43  1   0  150      247  0   1       171     0     1.5     2     0  2   \n",
       "8  42  1   2  120      240  1   1       194     0     0.8     0     0  3   \n",
       "9  59  1   2  126      218  1   1       134     0     2.2     1     1  1   \n",
       "10 48  1   0  124      274  0   0       166     0     0.5     1     0  3   \n",
       "   target\n",
       "1  1     \n",
       "2  1     \n",
       "3  1     \n",
       "4  0     \n",
       "5  0     \n",
       "6  1     \n",
       "7  1     \n",
       "8  1     \n",
       "9  0     \n",
       "10 0     "
      ]
     },
     "metadata": {},
     "output_type": "display_data"
    },
    {
     "name": "stdout",
     "output_type": "stream",
     "text": [
      "[1] \"Number of variables\"\n"
     ]
    },
    {
     "data": {
      "text/html": [
       "14"
      ],
      "text/latex": [
       "14"
      ],
      "text/markdown": [
       "14"
      ],
      "text/plain": [
       "[1] 14"
      ]
     },
     "metadata": {},
     "output_type": "display_data"
    },
    {
     "name": "stdout",
     "output_type": "stream",
     "text": [
      "[1] \"Number of rows\"\n"
     ]
    },
    {
     "data": {
      "text/html": [
       "303"
      ],
      "text/latex": [
       "303"
      ],
      "text/markdown": [
       "303"
      ],
      "text/plain": [
       "[1] 303"
      ]
     },
     "metadata": {},
     "output_type": "display_data"
    }
   ],
   "source": [
    "heart_data <- read.csv(file=\"heart_disease.csv\", header=TRUE, sep=\",\")\n",
    "\n",
    "# Converting appropriate variables to factors  \n",
    "heart_data <- within(heart_data, {\n",
    "   target <- factor(target)\n",
    "   sex <- factor(sex)\n",
    "   cp <- factor(cp)\n",
    "   fbs <- factor(fbs)\n",
    "   restecg <- factor(restecg)\n",
    "   exang <- factor(exang)\n",
    "   slope <- factor(slope)\n",
    "   ca <- factor(ca)\n",
    "   thal <- factor(thal)\n",
    "})\n",
    "\n",
    "head(heart_data, 10)\n",
    "\n",
    "print(\"Number of variables\")\n",
    "ncol(heart_data)\n",
    "\n",
    "print(\"Number of rows\")\n",
    "nrow(heart_data)"
   ]
  },
  {
   "cell_type": "markdown",
   "metadata": {},
   "source": [
    " "
   ]
  },
  {
   "cell_type": "markdown",
   "metadata": {
    "deletable": false,
    "editable": false
   },
   "source": [
    "## Model #1 - First Logistic Regression Model\n",
    "\n",
    "You have been asked to create a logistic regression model for heart disease *(target)* using the variables age *(age)*, resting blood pressure *(trestbps)*, exercised induced angina (exang) and maximum heart rate achieved *(thalach)*. Before writing any code, review Section 3 of the Summary Report template to see the questions you will be answering about your logistic regression model.\n",
    "\n",
    "Run your scripts to get the outputs of your regression analysis. Then use the outputs to answer the questions in your summary report.\n",
    "\n",
    "**Note: Use the + (plus) button to add new code blocks, if needed.**"
   ]
  },
  {
   "cell_type": "code",
   "execution_count": 4,
   "metadata": {
    "scrolled": true
   },
   "outputs": [
    {
     "data": {
      "text/plain": [
       "\n",
       "Call:\n",
       "glm(formula = target ~ age + trestbps + exang + thalach, family = \"binomial\", \n",
       "    data = heart_data)\n",
       "\n",
       "Deviance Residuals: \n",
       "    Min       1Q   Median       3Q      Max  \n",
       "-2.0935  -0.7944   0.4954   0.8133   2.2343  \n",
       "\n",
       "Coefficients:\n",
       "             Estimate Std. Error z value Pr(>|z|)    \n",
       "(Intercept) -1.021121   1.784194  -0.572   0.5671    \n",
       "age         -0.017549   0.017144  -1.024   0.3060    \n",
       "trestbps    -0.014888   0.008337  -1.786   0.0741 .  \n",
       "exang1      -1.624981   0.305774  -5.314 1.07e-07 ***\n",
       "thalach      0.031095   0.007275   4.274 1.92e-05 ***\n",
       "---\n",
       "Signif. codes:  0 '***' 0.001 '**' 0.01 '*' 0.05 '.' 0.1 ' ' 1\n",
       "\n",
       "(Dispersion parameter for binomial family taken to be 1)\n",
       "\n",
       "    Null deviance: 417.64  on 302  degrees of freedom\n",
       "Residual deviance: 323.14  on 298  degrees of freedom\n",
       "AIC: 333.14\n",
       "\n",
       "Number of Fisher Scoring iterations: 4\n"
      ]
     },
     "metadata": {},
     "output_type": "display_data"
    }
   ],
   "source": [
    "# Create the complete model\n",
    "logit <- glm(target ~ age + trestbps + exang + thalach, data = heart_data, family = \"binomial\")\n",
    "\n",
    "summary(logit)"
   ]
  },
  {
   "cell_type": "code",
   "execution_count": 5,
   "metadata": {},
   "outputs": [
    {
     "data": {
      "text/html": [
       "<table>\n",
       "<caption>A matrix: 5 × 2 of type dbl</caption>\n",
       "<thead>\n",
       "\t<tr><th></th><th scope=col>2.5 %</th><th scope=col>97.5 %</th></tr>\n",
       "</thead>\n",
       "<tbody>\n",
       "\t<tr><th scope=row>(Intercept)</th><td>-4.5181</td><td> 2.4758</td></tr>\n",
       "\t<tr><th scope=row>age</th><td>-0.0512</td><td> 0.0161</td></tr>\n",
       "\t<tr><th scope=row>trestbps</th><td>-0.0312</td><td> 0.0015</td></tr>\n",
       "\t<tr><th scope=row>exang1</th><td>-2.2243</td><td>-1.0257</td></tr>\n",
       "\t<tr><th scope=row>thalach</th><td> 0.0168</td><td> 0.0454</td></tr>\n",
       "</tbody>\n",
       "</table>\n"
      ],
      "text/latex": [
       "A matrix: 5 × 2 of type dbl\n",
       "\\begin{tabular}{r|ll}\n",
       "  & 2.5 \\% & 97.5 \\%\\\\\n",
       "\\hline\n",
       "\t(Intercept) & -4.5181 &  2.4758\\\\\n",
       "\tage & -0.0512 &  0.0161\\\\\n",
       "\ttrestbps & -0.0312 &  0.0015\\\\\n",
       "\texang1 & -2.2243 & -1.0257\\\\\n",
       "\tthalach &  0.0168 &  0.0454\\\\\n",
       "\\end{tabular}\n"
      ],
      "text/markdown": [
       "\n",
       "A matrix: 5 × 2 of type dbl\n",
       "\n",
       "| <!--/--> | 2.5 % | 97.5 % |\n",
       "|---|---|---|\n",
       "| (Intercept) | -4.5181 |  2.4758 |\n",
       "| age | -0.0512 |  0.0161 |\n",
       "| trestbps | -0.0312 |  0.0015 |\n",
       "| exang1 | -2.2243 | -1.0257 |\n",
       "| thalach |  0.0168 |  0.0454 |\n",
       "\n"
      ],
      "text/plain": [
       "            2.5 %   97.5 % \n",
       "(Intercept) -4.5181  2.4758\n",
       "age         -0.0512  0.0161\n",
       "trestbps    -0.0312  0.0015\n",
       "exang1      -2.2243 -1.0257\n",
       "thalach      0.0168  0.0454"
      ]
     },
     "metadata": {},
     "output_type": "display_data"
    }
   ],
   "source": [
    "conf_int <- confint.default(logit, level=0.95)\n",
    "round(conf_int,4)"
   ]
  },
  {
   "cell_type": "code",
   "execution_count": 6,
   "metadata": {},
   "outputs": [
    {
     "name": "stderr",
     "output_type": "stream",
     "text": [
      "ResourceSelection 0.3-6 \t 2023-06-27\n"
     ]
    },
    {
     "name": "stdout",
     "output_type": "stream",
     "text": [
      "[1] \"Hosmer-Lemeshow Goodness of Fit Test\"\n"
     ]
    },
    {
     "data": {
      "text/plain": [
       "\n",
       "\tHosmer and Lemeshow goodness of fit (GOF) test\n",
       "\n",
       "data:  logit$y, fitted(logit)\n",
       "X-squared = 44.622, df = 48, p-value = 0.612\n"
      ]
     },
     "metadata": {},
     "output_type": "display_data"
    }
   ],
   "source": [
    "library(ResourceSelection)\n",
    "\n",
    "\n",
    "print(\"Hosmer-Lemeshow Goodness of Fit Test\")\n",
    "hl = hoslem.test(logit$y, fitted(logit), g=50)\n",
    "hl"
   ]
  },
  {
   "cell_type": "code",
   "execution_count": 9,
   "metadata": {
    "scrolled": true
   },
   "outputs": [
    {
     "name": "stdout",
     "output_type": "stream",
     "text": [
      "[1] \"Confusion Matrix\"\n"
     ]
    },
    {
     "data": {
      "text/html": [
       "<table>\n",
       "<caption>A matrix: 2 × 2 of type chr</caption>\n",
       "<thead>\n",
       "\t<tr><th></th><th scope=col>Prediction: default=0</th><th scope=col>Prediction: default=1</th></tr>\n",
       "</thead>\n",
       "<tbody>\n",
       "\t<tr><th scope=row>Actual: default=0</th><td> 89</td><td> 49</td></tr>\n",
       "\t<tr><th scope=row>Actual: default=1</th><td> 31</td><td>134</td></tr>\n",
       "</tbody>\n",
       "</table>\n"
      ],
      "text/latex": [
       "A matrix: 2 × 2 of type chr\n",
       "\\begin{tabular}{r|ll}\n",
       "  & Prediction: default=0 & Prediction: default=1\\\\\n",
       "\\hline\n",
       "\tActual: default=0 &  89 &  49\\\\\n",
       "\tActual: default=1 &  31 & 134\\\\\n",
       "\\end{tabular}\n"
      ],
      "text/markdown": [
       "\n",
       "A matrix: 2 × 2 of type chr\n",
       "\n",
       "| <!--/--> | Prediction: default=0 | Prediction: default=1 |\n",
       "|---|---|---|\n",
       "| Actual: default=0 |  89 |  49 |\n",
       "| Actual: default=1 |  31 | 134 |\n",
       "\n"
      ],
      "text/plain": [
       "                   depvar_pred\n",
       "                    Prediction: default=0 Prediction: default=1\n",
       "  Actual: default=0  89                    49                  \n",
       "  Actual: default=1  31                   134                  "
      ]
     },
     "metadata": {},
     "output_type": "display_data"
    }
   ],
   "source": [
    "# Predict default or no_default for the data set using the model\n",
    "target_model_data <- heart_data[c(\"age\" , \"trestbps\" , \"exang\" , \"thalach\")]\n",
    "pred <- predict(logit, newdata=target_model_data, type='response')\n",
    "\n",
    "# If the predicted probability of default is >=0.50 then predict credit default (default='1'), otherwise predict no credit \n",
    "# default (default='0') \n",
    "depvar_pred = as.factor(ifelse(pred >= 0.5, '1', '0'))\n",
    "\n",
    "# This creates the confusion matrix\n",
    "conf.matrix <- table(heart_data$target, depvar_pred)[c('0','1'),c('0','1')]\n",
    "rownames(conf.matrix) <- paste(\"Actual\", rownames(conf.matrix), sep = \": default=\")\n",
    "colnames(conf.matrix) <- paste(\"Prediction\", colnames(conf.matrix), sep = \": default=\")\n",
    "\n",
    "# Print nicely formatted confusion matrix\n",
    "print(\"Confusion Matrix\")\n",
    "format(conf.matrix,justify=\"centre\",digit=2)"
   ]
  },
  {
   "cell_type": "code",
   "execution_count": 11,
   "metadata": {},
   "outputs": [
    {
     "name": "stderr",
     "output_type": "stream",
     "text": [
      "Setting levels: control = 0, case = 1\n",
      "Setting direction: controls < cases\n"
     ]
    },
    {
     "name": "stdout",
     "output_type": "stream",
     "text": [
      "[1] \"Area Under the Curve (AUC)\"\n"
     ]
    },
    {
     "data": {
      "text/html": [
       "0.8007"
      ],
      "text/latex": [
       "0.8007"
      ],
      "text/markdown": [
       "0.8007"
      ],
      "text/plain": [
       "[1] 0.8007"
      ]
     },
     "metadata": {},
     "output_type": "display_data"
    },
    {
     "name": "stdout",
     "output_type": "stream",
     "text": [
      "[1] \"ROC Curve\"\n"
     ]
    },
    {
     "data": {
      "image/png": "[encoded data removed]",
      "text/plain": [
       "plot without title"
      ]
     },
     "metadata": {},
     "output_type": "display_data"
    }
   ],
   "source": [
    "library(pROC)\n",
    "\n",
    "labels <- heart_data$target\n",
    "predictions <- logit$fitted.values\n",
    "\n",
    "roc <- roc(labels ~ predictions)\n",
    "\n",
    "print(\"Area Under the Curve (AUC)\")\n",
    "round(auc(roc),4)\n",
    "\n",
    "print(\"ROC Curve\")\n",
    "# True Positive Rate (Sensitivity) and False Positive Rate (1 - Specificity)\n",
    "plot(roc, legacy.axes = TRUE)"
   ]
  },
  {
   "cell_type": "code",
   "execution_count": 24,
   "metadata": {},
   "outputs": [
    {
     "name": "stdout",
     "output_type": "stream",
     "text": [
      "[1] \"Prediction: age is 50 (age='50'), resting blood pressure is 122 (trestbps='122'), has exercise induced angina (exang = 1), and a maximum heart rate of 140 (thalach = '140')\"\n"
     ]
    },
    {
     "data": {
      "text/html": [
       "<strong>1:</strong> 0.2716"
      ],
      "text/latex": [
       "\\textbf{1:} 0.2716"
      ],
      "text/markdown": [
       "**1:** 0.2716"
      ],
      "text/plain": [
       "     1 \n",
       "0.2716 "
      ]
     },
     "metadata": {},
     "output_type": "display_data"
    },
    {
     "name": "stdout",
     "output_type": "stream",
     "text": [
      "[1] \"Prediction: age is 50 (age='50'), resting blood pressure is 130 (trestbps='130'), does not have exercise induced angina (exang = 0), and a maximum heart rate of 165 (thalach = '165')\"\n"
     ]
    },
    {
     "data": {
      "text/html": [
       "<strong>1:</strong> 0.7853"
      ],
      "text/latex": [
       "\\textbf{1:} 0.7853"
      ],
      "text/markdown": [
       "**1:** 0.7853"
      ],
      "text/plain": [
       "     1 \n",
       "0.7853 "
      ]
     },
     "metadata": {},
     "output_type": "display_data"
    }
   ],
   "source": [
    "print(\"Prediction: age is 50 (age='50'), resting blood pressure is 122 (trestbps='122'), has exercise induced angina (exang = 1), and a maximum heart rate of 140 (thalach = '140')\")\n",
    "newdata1 <- data.frame(age=50, trestbps = 122, exang = '1', thalach = 140)\n",
    "pred1 <- predict(logit, newdata1, type='response')\n",
    "round(pred1, 4)\n",
    "\n",
    "print(\"Prediction: age is 50 (age='50'), resting blood pressure is 130 (trestbps='130'), does not have exercise induced angina (exang = 0), and a maximum heart rate of 165 (thalach = '165')\")\n",
    "newdata2 <- data.frame(age=50, trestbps = 130, exang = '0', thalach = 165)\n",
    "pred2 <- predict(logit, newdata2, type='response')\n",
    "round(pred2, 4)"
   ]
  },
  {
   "cell_type": "markdown",
   "metadata": {},
   "source": [
    " "
   ]
  },
  {
   "cell_type": "markdown",
   "metadata": {
    "deletable": false,
    "editable": false
   },
   "source": [
    "## Model #2 - Second Logistic Regression Model\n",
    "\n",
    "You have been asked to create a logistic regression model for heart disease *(target)* using the variables age of the individual *(age)*, resting blood pressure (trestbps), type of chest pain *(cp)* and maximum heart rate achieved *(thalach)*. You also have to include the quadratic term for age and the interaction term between age and maximum heart rate achieved. Before writing any code, review Section 4 of the Summary Report template to see the questions you will be answering about your model.\n",
    "\n",
    "Run your scripts to get the outputs of your analysis. Then use the outputs to answer the questions in your summary report.\n",
    "\n",
    "**Note: Use the + (plus) button to add new code blocks, if needed.**"
   ]
  },
  {
   "cell_type": "code",
   "execution_count": 25,
   "metadata": {},
   "outputs": [
    {
     "data": {
      "text/plain": [
       "\n",
       "Call:\n",
       "glm(formula = target ~ age + trestbps + cp + thalach, family = \"binomial\", \n",
       "    data = heart_data)\n",
       "\n",
       "Deviance Residuals: \n",
       "    Min       1Q   Median       3Q      Max  \n",
       "-2.2356  -0.7661   0.4183   0.6793   2.1787  \n",
       "\n",
       "Coefficients:\n",
       "             Estimate Std. Error z value Pr(>|z|)    \n",
       "(Intercept) -2.265458   1.811989  -1.250 0.211204    \n",
       "age         -0.012846   0.017656  -0.728 0.466873    \n",
       "trestbps    -0.019373   0.008899  -2.177 0.029476 *  \n",
       "cp1          1.998672   0.439940   4.543 5.54e-06 ***\n",
       "cp2          2.098584   0.345310   6.077 1.22e-09 ***\n",
       "cp3          1.786071   0.542572   3.292 0.000995 ***\n",
       "thalach      0.031350   0.007559   4.147 3.36e-05 ***\n",
       "---\n",
       "Signif. codes:  0 '***' 0.001 '**' 0.01 '*' 0.05 '.' 0.1 ' ' 1\n",
       "\n",
       "(Dispersion parameter for binomial family taken to be 1)\n",
       "\n",
       "    Null deviance: 417.64  on 302  degrees of freedom\n",
       "Residual deviance: 300.05  on 296  degrees of freedom\n",
       "AIC: 314.05\n",
       "\n",
       "Number of Fisher Scoring iterations: 4\n"
      ]
     },
     "metadata": {},
     "output_type": "display_data"
    }
   ],
   "source": [
    "# Create the complete model\n",
    "logit <- glm(target ~ age + trestbps + cp + thalach, data = heart_data, family = \"binomial\")\n",
    "\n",
    "summary(logit)"
   ]
  },
  {
   "cell_type": "code",
   "execution_count": 26,
   "metadata": {},
   "outputs": [
    {
     "data": {
      "text/html": [
       "<table>\n",
       "<caption>A matrix: 7 × 2 of type dbl</caption>\n",
       "<thead>\n",
       "\t<tr><th></th><th scope=col>2.5 %</th><th scope=col>97.5 %</th></tr>\n",
       "</thead>\n",
       "<tbody>\n",
       "\t<tr><th scope=row>(Intercept)</th><td>-5.8169</td><td> 1.2860</td></tr>\n",
       "\t<tr><th scope=row>age</th><td>-0.0475</td><td> 0.0218</td></tr>\n",
       "\t<tr><th scope=row>trestbps</th><td>-0.0368</td><td>-0.0019</td></tr>\n",
       "\t<tr><th scope=row>cp1</th><td> 1.1364</td><td> 2.8609</td></tr>\n",
       "\t<tr><th scope=row>cp2</th><td> 1.4218</td><td> 2.7754</td></tr>\n",
       "\t<tr><th scope=row>cp3</th><td> 0.7226</td><td> 2.8495</td></tr>\n",
       "\t<tr><th scope=row>thalach</th><td> 0.0165</td><td> 0.0462</td></tr>\n",
       "</tbody>\n",
       "</table>\n"
      ],
      "text/latex": [
       "A matrix: 7 × 2 of type dbl\n",
       "\\begin{tabular}{r|ll}\n",
       "  & 2.5 \\% & 97.5 \\%\\\\\n",
       "\\hline\n",
       "\t(Intercept) & -5.8169 &  1.2860\\\\\n",
       "\tage & -0.0475 &  0.0218\\\\\n",
       "\ttrestbps & -0.0368 & -0.0019\\\\\n",
       "\tcp1 &  1.1364 &  2.8609\\\\\n",
       "\tcp2 &  1.4218 &  2.7754\\\\\n",
       "\tcp3 &  0.7226 &  2.8495\\\\\n",
       "\tthalach &  0.0165 &  0.0462\\\\\n",
       "\\end{tabular}\n"
      ],
      "text/markdown": [
       "\n",
       "A matrix: 7 × 2 of type dbl\n",
       "\n",
       "| <!--/--> | 2.5 % | 97.5 % |\n",
       "|---|---|---|\n",
       "| (Intercept) | -5.8169 |  1.2860 |\n",
       "| age | -0.0475 |  0.0218 |\n",
       "| trestbps | -0.0368 | -0.0019 |\n",
       "| cp1 |  1.1364 |  2.8609 |\n",
       "| cp2 |  1.4218 |  2.7754 |\n",
       "| cp3 |  0.7226 |  2.8495 |\n",
       "| thalach |  0.0165 |  0.0462 |\n",
       "\n"
      ],
      "text/plain": [
       "            2.5 %   97.5 % \n",
       "(Intercept) -5.8169  1.2860\n",
       "age         -0.0475  0.0218\n",
       "trestbps    -0.0368 -0.0019\n",
       "cp1          1.1364  2.8609\n",
       "cp2          1.4218  2.7754\n",
       "cp3          0.7226  2.8495\n",
       "thalach      0.0165  0.0462"
      ]
     },
     "metadata": {},
     "output_type": "display_data"
    }
   ],
   "source": [
    "conf_int <- confint.default(logit, level=0.95)\n",
    "round(conf_int,4)"
   ]
  },
  {
   "cell_type": "code",
   "execution_count": 27,
   "metadata": {},
   "outputs": [
    {
     "name": "stdout",
     "output_type": "stream",
     "text": [
      "[1] \"Hosmer-Lemeshow Goodness of Fit Test\"\n"
     ]
    },
    {
     "data": {
      "text/plain": [
       "\n",
       "\tHosmer and Lemeshow goodness of fit (GOF) test\n",
       "\n",
       "data:  logit$y, fitted(logit)\n",
       "X-squared = 41.121, df = 48, p-value = 0.7485\n"
      ]
     },
     "metadata": {},
     "output_type": "display_data"
    }
   ],
   "source": [
    "library(ResourceSelection)\n",
    "\n",
    "\n",
    "print(\"Hosmer-Lemeshow Goodness of Fit Test\")\n",
    "hl = hoslem.test(logit$y, fitted(logit), g=50)\n",
    "hl"
   ]
  },
  {
   "cell_type": "code",
   "execution_count": 28,
   "metadata": {},
   "outputs": [
    {
     "name": "stdout",
     "output_type": "stream",
     "text": [
      "[1] \"Confusion Matrix\"\n"
     ]
    },
    {
     "data": {
      "text/html": [
       "<table>\n",
       "<caption>A matrix: 2 × 2 of type chr</caption>\n",
       "<thead>\n",
       "\t<tr><th></th><th scope=col>Prediction: default=0</th><th scope=col>Prediction: default=1</th></tr>\n",
       "</thead>\n",
       "<tbody>\n",
       "\t<tr><th scope=row>Actual: default=0</th><td>106</td><td> 32</td></tr>\n",
       "\t<tr><th scope=row>Actual: default=1</th><td> 36</td><td>129</td></tr>\n",
       "</tbody>\n",
       "</table>\n"
      ],
      "text/latex": [
       "A matrix: 2 × 2 of type chr\n",
       "\\begin{tabular}{r|ll}\n",
       "  & Prediction: default=0 & Prediction: default=1\\\\\n",
       "\\hline\n",
       "\tActual: default=0 & 106 &  32\\\\\n",
       "\tActual: default=1 &  36 & 129\\\\\n",
       "\\end{tabular}\n"
      ],
      "text/markdown": [
       "\n",
       "A matrix: 2 × 2 of type chr\n",
       "\n",
       "| <!--/--> | Prediction: default=0 | Prediction: default=1 |\n",
       "|---|---|---|\n",
       "| Actual: default=0 | 106 |  32 |\n",
       "| Actual: default=1 |  36 | 129 |\n",
       "\n"
      ],
      "text/plain": [
       "                   depvar_pred\n",
       "                    Prediction: default=0 Prediction: default=1\n",
       "  Actual: default=0 106                    32                  \n",
       "  Actual: default=1  36                   129                  "
      ]
     },
     "metadata": {},
     "output_type": "display_data"
    }
   ],
   "source": [
    "# Predict default or no_default for the data set using the model\n",
    "target_model_data <- heart_data[c(\"age\" , \"trestbps\" , \"cp\" , \"thalach\")]\n",
    "pred <- predict(logit, newdata=target_model_data, type='response')\n",
    "\n",
    "# If the predicted probability of default is >=0.50 then predict credit default (default='1'), otherwise predict no credit \n",
    "# default (default='0') \n",
    "depvar_pred = as.factor(ifelse(pred >= 0.5, '1', '0'))\n",
    "\n",
    "# This creates the confusion matrix\n",
    "conf.matrix <- table(heart_data$target, depvar_pred)[c('0','1'),c('0','1')]\n",
    "rownames(conf.matrix) <- paste(\"Actual\", rownames(conf.matrix), sep = \": default=\")\n",
    "colnames(conf.matrix) <- paste(\"Prediction\", colnames(conf.matrix), sep = \": default=\")\n",
    "\n",
    "# Print nicely formatted confusion matrix\n",
    "print(\"Confusion Matrix\")\n",
    "format(conf.matrix,justify=\"centre\",digit=2)"
   ]
  },
  {
   "cell_type": "code",
   "execution_count": 29,
   "metadata": {},
   "outputs": [
    {
     "name": "stderr",
     "output_type": "stream",
     "text": [
      "Setting levels: control = 0, case = 1\n",
      "Setting direction: controls < cases\n"
     ]
    },
    {
     "name": "stdout",
     "output_type": "stream",
     "text": [
      "[1] \"Area Under the Curve (AUC)\"\n"
     ]
    },
    {
     "data": {
      "text/html": [
       "0.8389"
      ],
      "text/latex": [
       "0.8389"
      ],
      "text/markdown": [
       "0.8389"
      ],
      "text/plain": [
       "[1] 0.8389"
      ]
     },
     "metadata": {},
     "output_type": "display_data"
    },
    {
     "name": "stdout",
     "output_type": "stream",
     "text": [
      "[1] \"ROC Curve\"\n"
     ]
    },
    {
     "data": {
      "image/png": "[encoded data removed]",
      "text/plain": [
       "plot without title"
      ]
     },
     "metadata": {},
     "output_type": "display_data"
    }
   ],
   "source": [
    "library(pROC)\n",
    "\n",
    "labels <- heart_data$target\n",
    "predictions <- logit$fitted.values\n",
    "\n",
    "roc <- roc(labels ~ predictions)\n",
    "\n",
    "print(\"Area Under the Curve (AUC)\")\n",
    "round(auc(roc),4)\n",
    "\n",
    "print(\"ROC Curve\")\n",
    "# True Positive Rate (Sensitivity) and False Positive Rate (1 - Specificity)\n",
    "plot(roc, legacy.axes = TRUE)"
   ]
  },
  {
   "cell_type": "code",
   "execution_count": 31,
   "metadata": {},
   "outputs": [
    {
     "name": "stdout",
     "output_type": "stream",
     "text": [
      "[1] \"Prediction: age is 50 (age='50'), resting blood pressure is 122 (trestbps='122'), has exercise induced angina (exang = 1), and a maximum heart rate of 140 (thalach = '140')\"\n"
     ]
    },
    {
     "data": {
      "text/html": [
       "<strong>1:</strong> 0.1619"
      ],
      "text/latex": [
       "\\textbf{1:} 0.1619"
      ],
      "text/markdown": [
       "**1:** 0.1619"
      ],
      "text/plain": [
       "     1 \n",
       "0.1619 "
      ]
     },
     "metadata": {},
     "output_type": "display_data"
    },
    {
     "name": "stdout",
     "output_type": "stream",
     "text": [
      "[1] \"Prediction: age is 50 (age='50'), resting blood pressure is 130 (trestbps='130'), does not have exercise induced angina (exang = 0), and a maximum heart rate of 165 (thalach = '165')\"\n"
     ]
    },
    {
     "data": {
      "text/html": [
       "<strong>1:</strong> 0.8218"
      ],
      "text/latex": [
       "\\textbf{1:} 0.8218"
      ],
      "text/markdown": [
       "**1:** 0.8218"
      ],
      "text/plain": [
       "     1 \n",
       "0.8218 "
      ]
     },
     "metadata": {},
     "output_type": "display_data"
    }
   ],
   "source": [
    "print(\"Prediction: age is 50 (age='50'), resting blood pressure is 122 (trestbps='122'), has exercise induced angina (exang = 1), and a maximum heart rate of 140 (thalach = '140')\")\n",
    "newdata1 <- data.frame(age=50, trestbps = 150, cp = '0', thalach = 133)\n",
    "pred1 <- predict(logit, newdata1, type='response')\n",
    "round(pred1, 4)\n",
    "\n",
    "print(\"Prediction: age is 50 (age='50'), resting blood pressure is 130 (trestbps='130'), does not have exercise induced angina (exang = 0), and a maximum heart rate of 165 (thalach = '165')\")\n",
    "newdata2 <- data.frame(age=50, trestbps = 125, cp = '1', thalach = 155)\n",
    "pred2 <- predict(logit, newdata2, type='response')\n",
    "round(pred2, 4)"
   ]
  },
  {
   "cell_type": "markdown",
   "metadata": {},
   "source": [
    " "
   ]
  },
  {
   "cell_type": "markdown",
   "metadata": {
    "deletable": false,
    "editable": false
   },
   "source": [
    "## Random Forest Classification Model\n",
    "\n",
    "You have been asked to create a random forest classification model for the presence of heart disease *(target)* using the variables age *(age)*, sex *(sex)*, chest pain type *(cp)*, resting blood pressure *(trestbps)*, cholesterol measurement *(chol)*, resting electrocardiographic measurement *(restecg)*, exercise-induced angina *(exang)*, and number of major vessels *(ca)*. Before writing any code, review Section 5 of the Summary Report template to see the questions you will be answering about your model.\n",
    "\n",
    "Run your scripts to get the outputs of your regression analysis. Then use the outputs to answer the questions in your summary report.\n",
    "\n",
    "**Note: Use the + (plus) button to add new code blocks, if needed.**"
   ]
  },
  {
   "cell_type": "code",
   "execution_count": 5,
   "metadata": {},
   "outputs": [
    {
     "ename": "ERROR",
     "evalue": "Error in nrow(target): object 'target' not found\n",
     "output_type": "error",
     "traceback": [
      "Error in nrow(target): object 'target' not found\nTraceback:\n",
      "1. nrow(target)"
     ]
    }
   ],
   "source": [
    "set.seed(6522048)\n",
    "\n",
    "# Partition the data set into training and testing data\n",
    "samp.size = floor(0.85*nrow(target))\n",
    "\n",
    "# Training set\n",
    "print(\"Number of rows for the training set\")\n",
    "train_ind = sample(seq_len(nrow(target)), size = samp.size)\n",
    "train.data = target[train_ind,]\n",
    "nrow(train.data)\n",
    "\n",
    "# Testing set \n",
    "print(\"Number of rows for the testing set\")\n",
    "test.data = target[-train_ind,]\n",
    "nrow(test.data)"
   ]
  },
  {
   "cell_type": "code",
   "execution_count": null,
   "metadata": {},
   "outputs": [],
   "source": [
    "set.seed(6522048)\n",
    "library(randomForest)\n",
    "model_rf1 <- randomForest(size ~ eccentricity+orb_period+rot_per, data=train.data, ntree = 2)\n",
    "\n",
    "# Confusion matrix\n",
    "print(\"======================================================================================================================\")\n",
    "print('Confusion Matrix: TRAINING set based on random forest model built using 2 trees')\n",
    "train.data.predict <- predict(model_rf1, train.data, type = \"class\")\n",
    "\n",
    "# Construct the confusion matrix\n",
    "conf.matrix <- table(train.data$size, train.data.predict)[,c('LARGE','SMALL')]\n",
    "rownames(conf.matrix) <- paste(\"Actual\", rownames(conf.matrix), sep = \": \")\n",
    "colnames(conf.matrix) <- paste(\"Prediction\", colnames(conf.matrix), sep = \": \")\n",
    "\n",
    "# Print a nicely formatted confusion matrix\n",
    "format(conf.matrix,justify=\"centre\",digit=2)\n",
    "\n",
    "\n",
    "print(\"======================================================================================================================\")\n",
    "print('Confusion Matrix: TESTING set based on random forest model built using 2 trees')\n",
    "test.data.predict <- predict(model_rf1, test.data, type = \"class\")\n",
    "\n",
    "# Construct the confusion matrix\n",
    "conf.matrix <- table(test.data$size, test.data.predict)[,c('LARGE','SMALL')]\n",
    "rownames(conf.matrix) <- paste(\"Actual\", rownames(conf.matrix), sep = \": \")\n",
    "colnames(conf.matrix) <- paste(\"Prediction\", colnames(conf.matrix), sep = \": \")\n",
    "\n",
    "# Print a nicely formatted confusion matrix\n",
    "format(conf.matrix,justify=\"centre\",digit=2)\n"
   ]
  },
  {
   "cell_type": "code",
   "execution_count": null,
   "metadata": {
    "scrolled": true
   },
   "outputs": [],
   "source": [
    "set.seed(6522048)\n",
    "library(randomForest)\n",
    "\n",
    "# checking\n",
    "#=====================================================================\n",
    "train = c()\n",
    "test = c()\n",
    "trees = c()\n",
    "\n",
    "for(i in seq(from=1, to=100, by=1)) {\n",
    "    #print(i)\n",
    "    \n",
    "    trees <- c(trees, i)\n",
    "    \n",
    "    model_rf3 <- randomForest(size ~ eccentricity+orb_period+rot_per, data=train.data, ntree = i)\n",
    "    \n",
    "    train.data.predict <- predict(model_rf3, train.data, type = \"class\")\n",
    "    conf.matrix1 <- table(train.data$size, train.data.predict)\n",
    "    train_error = 1-(sum(diag(conf.matrix1)))/sum(conf.matrix1)\n",
    "    train <- c(train, train_error)\n",
    "    \n",
    "    test.data.predict <- predict(model_rf3, test.data, type = \"class\")\n",
    "    conf.matrix2 <- table(test.data$size, test.data.predict)\n",
    "    test_error = 1-(sum(diag(conf.matrix2)))/sum(conf.matrix2)\n",
    "    test <- c(test, test_error)\n",
    "}\n",
    " \n",
    "#matplot (trees, cbind (train, test), ylim=c(0,0.5) , type = c(\"l\", \"l\"), lwd=2, col=c(\"red\",\"blue\"), ylab=\"Error\", xlab=\"number of trees\")\n",
    "#legend('topright',legend = c('training set','testing set'), col = c(\"red\",\"blue\"), lwd = 2 )\n",
    "\n",
    "plot(trees, train,type = \"l\",ylim=c(0,1.0),col = \"red\", xlab = \"Number of Trees\", ylab = \"Classification Error\")\n",
    "lines(test, type = \"l\", col = \"blue\")\n",
    "legend('topright',legend = c('training set','testing set'), col = c(\"red\",\"blue\"), lwd = 2 )"
   ]
  },
  {
   "cell_type": "code",
   "execution_count": null,
   "metadata": {},
   "outputs": [],
   "source": [
    "set.seed(6522048)\n",
    "library(randomForest)\n",
    "model_rf4 <- randomForest(size ~ eccentricity+orb_period+rot_per, data=train.data, ntree = 20)\n",
    "\n",
    "# Confusion matrix\n",
    "print(\"======================================================================================================================\")\n",
    "print('Confusion Matrix: TRAINING set based on random forest model built using 20 trees')\n",
    "train.data.predict <- predict(model_rf4, train.data, type = \"class\")\n",
    "\n",
    "# Construct the confusion matrix\n",
    "conf.matrix <- table(train.data$size, train.data.predict)[,c('LARGE','SMALL')]\n",
    "rownames(conf.matrix) <- paste(\"Actual\", rownames(conf.matrix), sep = \": \")\n",
    "colnames(conf.matrix) <- paste(\"Prediction\", colnames(conf.matrix), sep = \": \")\n",
    "\n",
    "# Print nicely formatted confusion matrix\n",
    "format(conf.matrix,justify=\"centre\",digit=2)\n",
    "\n",
    "\n",
    "print(\"======================================================================================================================\")\n",
    "print('Confusion Matrix: TESTING set based on random forest model built using 20 trees')\n",
    "test.data.predict <- predict(model_rf4, test.data, type = \"class\")\n",
    "\n",
    "# Construct the confusion matrix\n",
    "conf.matrix <- table(test.data$size, test.data.predict)[,c('LARGE','SMALL')]\n",
    "rownames(conf.matrix) <- paste(\"Actual\", rownames(conf.matrix), sep = \": \")\n",
    "colnames(conf.matrix) <- paste(\"Prediction\", colnames(conf.matrix), sep = \": \")\n",
    "\n",
    "# Print nicely formatted confusion matrix\n",
    "format(conf.matrix,justify=\"centre\",digit=2)\n"
   ]
  },
  {
   "cell_type": "code",
   "execution_count": null,
   "metadata": {},
   "outputs": [],
   "source": [
    "predicted_size <- predict(model_rf4, test.data, type = \"class\")\n",
    "predicted_size_df <- data.frame(predicted_size)\n",
    "data <- cbind('actual size'=test.data$size, 'predicted size'=predicted_size_df)\n",
    "print(data)"
   ]
  },
  {
   "cell_type": "markdown",
   "metadata": {},
   "source": [
    " "
   ]
  },
  {
   "cell_type": "markdown",
   "metadata": {
    "deletable": false,
    "editable": false
   },
   "source": [
    "## Random Forest Regression Model\n",
    "\n",
    "You have been asked to create a random forest regression model for maximum heart rate achieved using the variables age *(age)*, sex *(sex)*, chest pain type *(cp)*, resting blood pressure *(trestbps)*, cholesterol measurement *(chol)*, resting electrocardiographic measurement *(restecg)*, exercise-induced angina *(exang)*, and number of major vessels *(ca)*. Before writing any code, review Section 6 of the Summary Report template to see the questions you will be answering about your model.\n",
    "\n",
    "Run your scripts to get the outputs of your analysis. Then use the outputs to answer the questions in your summary report.\n",
    "\n",
    "**Note: Use the + (plus) button to add new code blocks, if needed.**"
   ]
  },
  {
   "cell_type": "code",
   "execution_count": null,
   "metadata": {},
   "outputs": [],
   "source": []
  },
  {
   "cell_type": "code",
   "execution_count": null,
   "metadata": {},
   "outputs": [],
   "source": []
  },
  {
   "cell_type": "code",
   "execution_count": null,
   "metadata": {},
   "outputs": [],
   "source": []
  },
  {
   "cell_type": "code",
   "execution_count": null,
   "metadata": {},
   "outputs": [],
   "source": []
  },
  {
   "cell_type": "code",
   "execution_count": null,
   "metadata": {},
   "outputs": [],
   "source": []
  },
  {
   "cell_type": "markdown",
   "metadata": {
    "deletable": false,
    "editable": false
   },
   "source": [
    "## End of Project Two Jupyter Notebook\n",
    "The HTML output can be downloaded by clicking **File**, then **Download as**, then **HTML**. Be sure to answer all of the questions in the Summary Report template for Project Two, and to include your completed Jupyter Notebook scripts as part of your submission."
   ]
  }
 ],
 "metadata": {
  "kernelspec": {
   "display_name": "R",
   "language": "R",
   "name": "ir"
  },
  "language_info": {
   "codemirror_mode": "r",
   "file_extension": ".r",
   "mimetype": "text/x-r-source",
   "name": "R",
   "pygments_lexer": "r",
   "version": "3.4.4"
  }
 },
 "nbformat": 4,
 "nbformat_minor": 2
}
